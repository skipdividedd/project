{
 "cells": [
  {
   "cell_type": "code",
   "execution_count": 30,
   "id": "307083c9",
   "metadata": {},
   "outputs": [],
   "source": [
    "import pickle"
   ]
  },
  {
   "cell_type": "code",
   "execution_count": 31,
   "id": "f496ab7e",
   "metadata": {},
   "outputs": [],
   "source": [
    "with open('scores.pkl', 'rb') as f:\n",
    "    scores = pickle.load(f)\n",
    "with open('neurons.pkl', 'rb') as f:\n",
    "    ordered_neurons = pickle.load(f)"
   ]
  },
  {
   "cell_type": "code",
   "execution_count": 49,
   "id": "bf22fb77",
   "metadata": {},
   "outputs": [
    {
     "name": "stdout",
     "output_type": "stream",
     "text": [
      "VerbForm __OVERALL__ test_score 0.2490372272143774\n",
      "VerbForm Fin test_score 0.49333333333333335\n",
      "VerbForm Part test_score 0.1288888888888889\n",
      "VerbForm Inf test_score 0.008888888888888889\n",
      "VerbForm [{'__OVERALL__': 0.2490372272143774, 'Fin': 0.49333333333333335, 'Ger': 0.5, 'Part': 0.1288888888888889, 'Inf': 0.008888888888888889}]\n",
      "---------------------\n",
      "NumForm Roman test_score 0.0\n",
      "NumForm [{'__OVERALL__': 0.7839080459770115, 'Word': 0.7251908396946565, 'Roman': 0.0, 'Digit': 0.82}]\n",
      "---------------------\n",
      "ExtPos CCONJ test_score 0.25\n",
      "ExtPos PRON test_score 0.0\n",
      "ExtPos SCONJ test_score 0.0\n",
      "ExtPos ADP test_score 0.36363636363636365\n",
      "ExtPos [{'__OVERALL__': 0.5945945945945946, 'ADV': 0.85, 'CCONJ': 0.25, 'PRON': 0.0, 'SCONJ': 0.0, 'ADP': 0.36363636363636365}]\n",
      "---------------------\n",
      "Mood Sub train_score 0.2\n",
      "Mood [{'__OVERALL__': 0.9910884786760026, 'Ind': 0.9965397923875432, 'Sub': 0.2, 'Imp': 0.9899856938483548}]\n",
      "---------------------\n",
      "Mood Sub test_score 0.0\n",
      "Mood [{'__OVERALL__': 0.9501039501039501, 'Ind': 0.9533333333333334, 'Sub': 0.0, 'Imp': 0.9553072625698324}]\n",
      "---------------------\n",
      "Gender Masc test_score 0.05303030303030303\n",
      "Gender Fem test_score 0.26\n",
      "Gender [{'__OVERALL__': 0.6182572614107884, 'Masc': 0.05303030303030303, 'Fem': 0.26, 'Neut': 0.9266666666666666}]\n",
      "---------------------\n",
      "NumType Mult test_score 0.1111111111111111\n",
      "NumType Frac test_score 0.0\n",
      "NumType [{'__OVERALL__': 0.7615658362989324, 'Mult': 0.1111111111111111, 'Ord': 0.6046511627906976, 'Card': 0.8311111111111111, 'Frac': 0.0}]\n",
      "---------------------\n"
     ]
    }
   ],
   "source": [
    "for k, v in scores.items():\n",
    "    m1 = []\n",
    "    m2 = []\n",
    "    \n",
    "    for i, j in v[0].items():\n",
    "        \n",
    "        if v[0][i] < 0.5:\n",
    "            \n",
    "            if not m1.__contains__(v[0]):\n",
    "                m1.append(v[0])\n",
    "                \n",
    "            print(k, i, 'train_score', v[0][i])\n",
    "    if m1:\n",
    "        print(k, m1)\n",
    "        print('---------------------')\n",
    "            \n",
    "    for i, j in v[1].items():\n",
    "        if v[1][i] < 0.5:\n",
    "            \n",
    "            if not m2.__contains__(v[1]):\n",
    "                m2.append(v[1])\n",
    "                \n",
    "            print(k, i, 'test_score', v[1][i])\n",
    "    if m2:\n",
    "        print(k, m2)\n",
    "        print('---------------------')"
   ]
  },
  {
   "cell_type": "code",
   "execution_count": 50,
   "id": "5a257077",
   "metadata": {},
   "outputs": [],
   "source": [
    "def get_overall_common_neurons(among_number, dct):\n",
    "    number_cats, neurons_list = 0, []\n",
    "    for k, v in dct.items():\n",
    "        v = v[:among_number]\n",
    "        neurons_list+=v\n",
    "        number_cats+=1\n",
    "    f1 = f'All neuron number if {among_number} for each category -- {len(neurons_list)} among {number_cats} categories'\n",
    "    f2 = f'Unique neuron number if {among_number} for each category -- {len(set(neurons_list))} among {number_cats} categories'\n",
    "    return f1, f2  "
   ]
  },
  {
   "cell_type": "code",
   "execution_count": 51,
   "id": "f87a13c2",
   "metadata": {},
   "outputs": [
    {
     "data": {
      "text/plain": [
       "('All neuron number if 10 for each category -- 120 among 12 categories',\n",
       " 'Unique neuron number if 10 for each category -- 114 among 12 categories')"
      ]
     },
     "execution_count": 51,
     "metadata": {},
     "output_type": "execute_result"
    }
   ],
   "source": [
    "get_overall_common_neurons(10, ordered_neurons)"
   ]
  },
  {
   "cell_type": "code",
   "execution_count": 52,
   "id": "132e24ea",
   "metadata": {},
   "outputs": [
    {
     "data": {
      "text/plain": [
       "('All neuron number if 50 for each category -- 600 among 12 categories',\n",
       " 'Unique neuron number if 50 for each category -- 555 among 12 categories')"
      ]
     },
     "execution_count": 52,
     "metadata": {},
     "output_type": "execute_result"
    }
   ],
   "source": [
    "get_overall_common_neurons(50, ordered_neurons)"
   ]
  },
  {
   "cell_type": "code",
   "execution_count": 53,
   "id": "c96101b3",
   "metadata": {},
   "outputs": [
    {
     "data": {
      "text/plain": [
       "('All neuron number if 100 for each category -- 1200 among 12 categories',\n",
       " 'Unique neuron number if 100 for each category -- 1073 among 12 categories')"
      ]
     },
     "execution_count": 53,
     "metadata": {},
     "output_type": "execute_result"
    }
   ],
   "source": [
    "get_overall_common_neurons(100, ordered_neurons)"
   ]
  },
  {
   "cell_type": "code",
   "execution_count": 54,
   "id": "5e0b325c",
   "metadata": {},
   "outputs": [
    {
     "data": {
      "text/plain": [
       "('All neuron number if 200 for each category -- 2400 among 12 categories',\n",
       " 'Unique neuron number if 200 for each category -- 1992 among 12 categories')"
      ]
     },
     "execution_count": 54,
     "metadata": {},
     "output_type": "execute_result"
    }
   ],
   "source": [
    "get_overall_common_neurons(200, ordered_neurons)"
   ]
  },
  {
   "cell_type": "code",
   "execution_count": 55,
   "id": "1827f07b",
   "metadata": {},
   "outputs": [
    {
     "data": {
      "text/plain": [
       "('All neuron number if 300 for each category -- 3600 among 12 categories',\n",
       " 'Unique neuron number if 300 for each category -- 2799 among 12 categories')"
      ]
     },
     "execution_count": 55,
     "metadata": {},
     "output_type": "execute_result"
    }
   ],
   "source": [
    "get_overall_common_neurons(300, ordered_neurons)"
   ]
  },
  {
   "cell_type": "code",
   "execution_count": 56,
   "id": "b9ddf9de",
   "metadata": {},
   "outputs": [
    {
     "data": {
      "text/plain": [
       "('All neuron number if 500 for each category -- 6000 among 12 categories',\n",
       " 'Unique neuron number if 500 for each category -- 4152 among 12 categories')"
      ]
     },
     "execution_count": 56,
     "metadata": {},
     "output_type": "execute_result"
    }
   ],
   "source": [
    "get_overall_common_neurons(500, ordered_neurons)"
   ]
  },
  {
   "cell_type": "code",
   "execution_count": 36,
   "id": "0c272c83",
   "metadata": {},
   "outputs": [
    {
     "data": {
      "text/plain": [
       "('All neuron number if 1000 for each category -- 12000 among 12 categories',\n",
       " 'Unique neuron number if 1000 for each category -- 6476 among 12 categories')"
      ]
     },
     "execution_count": 36,
     "metadata": {},
     "output_type": "execute_result"
    }
   ],
   "source": [
    "get_overall_common_neurons(1000, ordered_neurons)"
   ]
  }
 ],
 "metadata": {
  "kernelspec": {
   "display_name": "Python 3 (ipykernel)",
   "language": "python",
   "name": "python3"
  },
  "language_info": {
   "codemirror_mode": {
    "name": "ipython",
    "version": 3
   },
   "file_extension": ".py",
   "mimetype": "text/x-python",
   "name": "python",
   "nbconvert_exporter": "python",
   "pygments_lexer": "ipython3",
   "version": "3.9.13"
  }
 },
 "nbformat": 4,
 "nbformat_minor": 5
}
