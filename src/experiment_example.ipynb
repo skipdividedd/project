{
 "cells": [
  {
   "cell_type": "code",
   "execution_count": 1,
   "id": "c49a7c1a",
   "metadata": {},
   "outputs": [],
   "source": [
    "import os\n",
    "import re\n",
    "from pathlib import Path\n",
    "import pickle\n",
    "from IPython.display import clear_output\n",
    "import neurox.data.loader as data_loader\n",
    "import neurox.interpretation.utils as utils\n",
    "import neurox.interpretation.ablation as ablation\n",
    "import neurox.interpretation.linear_probe as linear_probe\n",
    "import neurox.data.extraction.transformers_extractor as transformers_extractor"
   ]
  },
  {
   "cell_type": "code",
   "execution_count": 2,
   "id": "6e21ba6a",
   "metadata": {},
   "outputs": [],
   "source": [
    "path_project = Path(os.getcwd()).parents[1]\n",
    "path_project = str(path_project)"
   ]
  },
  {
   "cell_type": "code",
   "execution_count": 3,
   "id": "93a48861",
   "metadata": {},
   "outputs": [
    {
     "data": {
      "text/plain": [
       "'/home/senya/Документы/project'"
      ]
     },
     "execution_count": 3,
     "metadata": {},
     "output_type": "execute_result"
    }
   ],
   "source": [
    "path_project"
   ]
  },
  {
   "cell_type": "code",
   "execution_count": 4,
   "id": "92f834fb",
   "metadata": {},
   "outputs": [],
   "source": [
    "directories = [] #тут делаем обход, чтобы получить имена каталогов\n",
    "for root,dirs,files in os.walk(path_project+'/large_data_en_ewt'):\n",
    "    for directory in dirs:\n",
    "        directories.append(os.path.join(root, directory))"
   ]
  },
  {
   "cell_type": "code",
   "execution_count": 5,
   "id": "fc1d19b5",
   "metadata": {},
   "outputs": [],
   "source": [
    "all_paths = []\n",
    "for directory in directories: #тут делаем обход каталагов, чтобы получить имена файлов\n",
    "    paths = []\n",
    "    for (root,dirs,files) in os.walk(directory, topdown=True):\n",
    "        for file in files:\n",
    "            paths.append(os.path.join(root, file))\n",
    "        all_paths.append(sorted(paths))"
   ]
  },
  {
   "cell_type": "code",
   "execution_count": 6,
   "id": "cea3e1ae",
   "metadata": {},
   "outputs": [],
   "source": [
    "def load_sentence_data(source_path, labels_path, activations): \n",
    "    \n",
    "    #тут немного переписали функцию потому что в библиотеке ошибка!!!\n",
    "    \"\"\"Loads sentence-annotated text-label pairs. This function loads the source\n",
    "    text, target labels, and activations and tries to make them perfectly\n",
    "    parallel, i.e. number of tokens in line N of source would\n",
    "    match the number of activations at index N. The method will delete\n",
    "    non-matching activation/source pairs. The activations will be modified\n",
    "    in place.\n",
    "\n",
    "    Parameters\n",
    "    ----------\n",
    "    source_path : str\n",
    "        Path to the source text file, one sentence per line\n",
    "    labels_path : str\n",
    "        Path to the annotated labels file, one sentence per line corresponding to\n",
    "        the sentences in the ``source_path`` file.\n",
    "    activations : list of numpy.ndarray\n",
    "        Activations returned from ``loader.load_activations``\n",
    "\n",
    "    Returns\n",
    "    -------\n",
    "    tokens : dict\n",
    "        Dictionary containing two lists, ``source`` and ``target``. ``source``\n",
    "        contains all of the sentences from ``source_path`` that were not ignored.\n",
    "        ``target`` contains the parallel set of annotated labels.\n",
    "\n",
    "    \"\"\"\n",
    "    tokens = {\"source\": [], \"target\": []}\n",
    "\n",
    "    with open(source_path) as source_fp:\n",
    "        for line_idx, line in enumerate(source_fp):\n",
    "            line_tokens = line.strip().split() #вот тут переписано\n",
    "            tokens[\"source\"].append(line_tokens) #и тут\n",
    "\n",
    "    with open(labels_path) as labels_fp:\n",
    "        for line in labels_fp:\n",
    "            line_tokens = line.strip().split()\n",
    "            tokens[\"target\"].append(line_tokens)\n",
    "\n",
    "    assert len(tokens[\"source\"]) == len(tokens[\"target\"]), (\n",
    "        \"Number of lines do not match (source: %d, target: %d)!\"\n",
    "        % (len(tokens[\"source\"]), len(tokens[\"target\"]))\n",
    "    )\n",
    "\n",
    "    assert len(activations) == len(tokens[\"source\"]), (\n",
    "        \"Number of lines do not match (activations: %d, source: %d)!\"\n",
    "        % (len(activations), len(tokens[\"source\"]))\n",
    "    )\n",
    "\n",
    "    # Check if all data is well formed (whether we have activations + labels for\n",
    "    # each and every word)\n",
    "    for idx, activation in enumerate(activations):\n",
    "        assert activation.shape[0] == len(tokens[\"source\"][idx])\n",
    "\n",
    "    return tokens"
   ]
  },
  {
   "cell_type": "code",
   "execution_count": 7,
   "id": "00a5f4f2",
   "metadata": {},
   "outputs": [],
   "source": [
    "class Experiment:\n",
    "    \n",
    "    \n",
    "    def __init__(self, path_trdata, path_trlabel, path_tedata, path_telabel):\n",
    "        \n",
    "        #некрасиво инициализирована куча переменных для функций\n",
    "        \n",
    "        self.path_trdata = path_trdata\n",
    "        self.path_trlabel = path_trlabel\n",
    "        self.path_tedata = path_tedata\n",
    "        self.path_telabel = path_telabel\n",
    "        self.category = re.search(r'(?<=_)[a-zA-Z]+(?=.txt)', path_trdata)[0]\n",
    "        self.dataset = re.search(r'(?<=_)[a-zA-Z]+_[a-zA-Z]+(?=\\/)', path_trdata)[0]\n",
    "        \n",
    "        self.path = path_project+f'/large_data_{self.dataset}/data_{self.category}'\n",
    "        \n",
    "        self.activations_tr, self.num_layers = data_loader.load_activations(self.path+'/activations_train.json', 768)\n",
    "        self.activations_te, self.num_layers = data_loader.load_activations(self.path+'/activations_te.json', 768)\n",
    "        \n",
    "        self.tokens_tr = load_sentence_data(self.path_trdata, self.path_trlabel, self.activations_tr)\n",
    "        self.tokens_te = load_sentence_data(self.path_tedata, self.path_telabel, self.activations_te)\n",
    "        \n",
    "        self.X_tr, self.y_tr, self.mapping_tr = utils.create_tensors(self.tokens_tr, self.activations_tr, 'Nom')\n",
    "        self.label2idx_tr, self.idx2label_tr, self.src2idx_tr, self.idx2src_tr = self.mapping_tr\n",
    "        \n",
    "        self.X_te, self.y_te, self.mapping_te = utils.create_tensors(self.tokens_te, self.activations_te, 'Nom')\n",
    "        self.label2idx_te, self.idx2label_te, self.src2idx_te, self.idx2src_te = self.mapping_te\n",
    "        \n",
    "        \n",
    "    def run_classification(self):#just пробинг\n",
    "        probe = linear_probe.train_logistic_regression_probe(self.X_tr, self.y_tr, lambda_l1=0.001, lambda_l2=0.001)\n",
    "        scores_tr = linear_probe.evaluate_probe(probe, self.X_tr, self.y_tr, idx_to_class=self.idx2label_tr)\n",
    "        scores_te = linear_probe.evaluate_probe(probe, self.X_te, self.y_te, idx_to_class=self.idx2label_te)\n",
    "        return probe, scores_tr, scores_te\n",
    "    \n",
    "    \n",
    "    def lairwise(self, n): #пробинг по слоям! можно выбрать\n",
    "        layer_0_X_tr = ablation.filter_activations_by_layers(self.X_tr, [n], 13)\n",
    "        probe_layer_0 = linear_probe.train_logistic_regression_probe(layer_0_X_tr, self.y_tr, lambda_l1=0.001, lambda_l2=0.001)\n",
    "        scores_tr = linear_probe.evaluate_probe(probe_layer_0, layer_0_X_tr, self.y_tr, idx_to_class=self.idx2label_tr)\n",
    "        \n",
    "        layer_0_X_te = ablation.filter_activations_by_layers(self.X_te, [n], 13)\n",
    "        scores_te = linear_probe.evaluate_probe(probe_layer_0, layer_0_X_te, self.y_te, idx_to_class=self.idx2label_te)\n",
    "        return scores_tr, scores_te\n",
    "    \n",
    "    \n",
    "    def nranking(self, n=100, k = 'ordering'): #тут топ нейроны\n",
    "        probe, scores_tr, scores_te = self.run_classification()\n",
    "        ordering, cutoffs = linear_probe.get_neuron_ordering(probe, self.label2idx_tr)\n",
    "        if k == 'ordering':\n",
    "            return ordering, scores_tr, scores_te\n",
    "        elif k == 'train':\n",
    "            X_tr_selected = ablation.filter_activations_keep_neurons(self.X_tr, ordering[:n])\n",
    "            probe_selected = linear_probe.train_logistic_regression_probe(X_tr_selected, self.y_tr, lambda_l1=0.001, lambda_l2=0.001)\n",
    "            scores_tr = linear_probe.evaluate_probe(probe_selected, X_tr_selected, self.y_tr, idx_to_class=self.idx2label_tr)\n",
    "            X_te_selected = ablation.filter_activations_keep_neurons(self.X_te, ordering[:n])\n",
    "            scores_te = linear_probe.evaluate_probe(probe_selected, X_te_selected, self.y_te, idx_to_class=self.idx2label_te)\n",
    "            return ordering, scores_tr, scores_te"
   ]
  },
  {
   "cell_type": "code",
   "execution_count": 8,
   "id": "b9b1af69",
   "metadata": {},
   "outputs": [
    {
     "data": {
      "text/plain": [
       "['/home/senya/Документы/project/large_data_en_ewt/data_PronType/activations_te.json',\n",
       " '/home/senya/Документы/project/large_data_en_ewt/data_PronType/activations_train.json',\n",
       " '/home/senya/Документы/project/large_data_en_ewt/data_PronType/datatest_PronType.txt',\n",
       " '/home/senya/Документы/project/large_data_en_ewt/data_PronType/datatrain_PronType.txt',\n",
       " '/home/senya/Документы/project/large_data_en_ewt/data_PronType/labeltest_PronType.txt',\n",
       " '/home/senya/Документы/project/large_data_en_ewt/data_PronType/labeltrain_PronType.txt']"
      ]
     },
     "execution_count": 8,
     "metadata": {},
     "output_type": "execute_result"
    }
   ],
   "source": [
    "all_paths.pop(6) # с PronType просто падает какая то ошибка в данных, поэтому удаляю эту категорию"
   ]
  },
  {
   "cell_type": "code",
   "execution_count": 9,
   "id": "e554ae7e",
   "metadata": {},
   "outputs": [
    {
     "name": "stdout",
     "output_type": "stream",
     "text": [
      "Loading json activations from /home/senya/Документы/project/large_data_en_ewt/data_Number/activations_train.json...\n",
      "2600 13.0\n",
      "Loading json activations from /home/senya/Документы/project/large_data_en_ewt/data_Number/activations_te.json...\n",
      "900 13.0\n",
      "Number of tokens:  2600\n",
      "length of source dictionary:  8479\n",
      "length of target dictionary:  2\n",
      "2600\n",
      "Total instances: 2600\n",
      "['2', 'Hot', 'Admin', '49', '\"Set', 'What', 'yep', '\"Don', 'they', 'Stay', 'During', 'Disatisfied', 'Louisiana', 'Is', '14', '--', 'Like', 'A', 'Than', 'Budgies']\n",
      "Number of samples:  2600\n",
      "Stats: Labels with their frequencies in the final set\n",
      "Sing 1300\n",
      "Plur 1300\n",
      "Number of tokens:  900\n",
      "length of source dictionary:  3757\n",
      "length of target dictionary:  2\n",
      "900\n",
      "Total instances: 900\n",
      "['What', 'Mercedes', 'they', 'During', 'Is', 'Absoul', 'Like', '\"Twinkle', 'A', '\"However', 'sincere', 'My', 'many', 'They', 'weather', 'Analyst', 'Are', 'Read', 'service', 'While']\n",
      "Number of samples:  900\n",
      "Stats: Labels with their frequencies in the final set\n",
      "Sing 450\n",
      "Plur 450\n",
      "Training classification probe\n",
      "Creating model...\n",
      "Number of training instances: 2600\n",
      "Number of classes: 2\n"
     ]
    },
    {
     "data": {
      "application/json": {
       "ascii": false,
       "bar_format": null,
       "colour": null,
       "elapsed": 0.008512496948242188,
       "initial": 0,
       "n": 0,
       "ncols": null,
       "nrows": 24,
       "postfix": null,
       "prefix": "epoch [1/10]",
       "rate": null,
       "total": null,
       "unit": "it",
       "unit_divisor": 1000,
       "unit_scale": false
      },
      "application/vnd.jupyter.widget-view+json": {
       "model_id": "d9c8b48964e840139411a03b52acfa91",
       "version_major": 2,
       "version_minor": 0
      },
      "text/plain": [
       "epoch [1/10]: 0it [00:00, ?it/s]"
      ]
     },
     "metadata": {},
     "output_type": "display_data"
    },
    {
     "name": "stdout",
     "output_type": "stream",
     "text": [
      "Epoch: [1/10], Loss: 0.0186\n"
     ]
    },
    {
     "data": {
      "application/json": {
       "ascii": false,
       "bar_format": null,
       "colour": null,
       "elapsed": 0.008589506149291992,
       "initial": 0,
       "n": 0,
       "ncols": null,
       "nrows": 24,
       "postfix": null,
       "prefix": "epoch [2/10]",
       "rate": null,
       "total": null,
       "unit": "it",
       "unit_divisor": 1000,
       "unit_scale": false
      },
      "application/vnd.jupyter.widget-view+json": {
       "model_id": "f1a5390f4ab44642ab435796915b2f6b",
       "version_major": 2,
       "version_minor": 0
      },
      "text/plain": [
       "epoch [2/10]: 0it [00:00, ?it/s]"
      ]
     },
     "metadata": {},
     "output_type": "display_data"
    },
    {
     "name": "stdout",
     "output_type": "stream",
     "text": [
      "Epoch: [2/10], Loss: 0.0138\n"
     ]
    },
    {
     "data": {
      "application/json": {
       "ascii": false,
       "bar_format": null,
       "colour": null,
       "elapsed": 0.008725881576538086,
       "initial": 0,
       "n": 0,
       "ncols": null,
       "nrows": 24,
       "postfix": null,
       "prefix": "epoch [3/10]",
       "rate": null,
       "total": null,
       "unit": "it",
       "unit_divisor": 1000,
       "unit_scale": false
      },
      "application/vnd.jupyter.widget-view+json": {
       "model_id": "987e81ff4d1147afac768567d5d4eee1",
       "version_major": 2,
       "version_minor": 0
      },
      "text/plain": [
       "epoch [3/10]: 0it [00:00, ?it/s]"
      ]
     },
     "metadata": {},
     "output_type": "display_data"
    },
    {
     "name": "stdout",
     "output_type": "stream",
     "text": [
      "Epoch: [3/10], Loss: 0.0122\n"
     ]
    },
    {
     "data": {
      "application/json": {
       "ascii": false,
       "bar_format": null,
       "colour": null,
       "elapsed": 0.010596036911010742,
       "initial": 0,
       "n": 0,
       "ncols": null,
       "nrows": 24,
       "postfix": null,
       "prefix": "epoch [4/10]",
       "rate": null,
       "total": null,
       "unit": "it",
       "unit_divisor": 1000,
       "unit_scale": false
      },
      "application/vnd.jupyter.widget-view+json": {
       "model_id": "d06b636817f94a17834e24035a174be6",
       "version_major": 2,
       "version_minor": 0
      },
      "text/plain": [
       "epoch [4/10]: 0it [00:00, ?it/s]"
      ]
     },
     "metadata": {},
     "output_type": "display_data"
    },
    {
     "name": "stdout",
     "output_type": "stream",
     "text": [
      "Epoch: [4/10], Loss: 0.0114\n"
     ]
    },
    {
     "data": {
      "application/json": {
       "ascii": false,
       "bar_format": null,
       "colour": null,
       "elapsed": 0.0087432861328125,
       "initial": 0,
       "n": 0,
       "ncols": null,
       "nrows": 24,
       "postfix": null,
       "prefix": "epoch [5/10]",
       "rate": null,
       "total": null,
       "unit": "it",
       "unit_divisor": 1000,
       "unit_scale": false
      },
      "application/vnd.jupyter.widget-view+json": {
       "model_id": "80ca5b1522c2478bb91e57bb98623c7d",
       "version_major": 2,
       "version_minor": 0
      },
      "text/plain": [
       "epoch [5/10]: 0it [00:00, ?it/s]"
      ]
     },
     "metadata": {},
     "output_type": "display_data"
    },
    {
     "name": "stdout",
     "output_type": "stream",
     "text": [
      "Epoch: [5/10], Loss: 0.0109\n"
     ]
    },
    {
     "data": {
      "application/json": {
       "ascii": false,
       "bar_format": null,
       "colour": null,
       "elapsed": 0.008874654769897461,
       "initial": 0,
       "n": 0,
       "ncols": null,
       "nrows": 24,
       "postfix": null,
       "prefix": "epoch [6/10]",
       "rate": null,
       "total": null,
       "unit": "it",
       "unit_divisor": 1000,
       "unit_scale": false
      },
      "application/vnd.jupyter.widget-view+json": {
       "model_id": "733649fd773a49728020b7026782a1f2",
       "version_major": 2,
       "version_minor": 0
      },
      "text/plain": [
       "epoch [6/10]: 0it [00:00, ?it/s]"
      ]
     },
     "metadata": {},
     "output_type": "display_data"
    },
    {
     "name": "stdout",
     "output_type": "stream",
     "text": [
      "Epoch: [6/10], Loss: 0.0106\n"
     ]
    },
    {
     "data": {
      "application/json": {
       "ascii": false,
       "bar_format": null,
       "colour": null,
       "elapsed": 0.008926153182983398,
       "initial": 0,
       "n": 0,
       "ncols": null,
       "nrows": 24,
       "postfix": null,
       "prefix": "epoch [7/10]",
       "rate": null,
       "total": null,
       "unit": "it",
       "unit_divisor": 1000,
       "unit_scale": false
      },
      "application/vnd.jupyter.widget-view+json": {
       "model_id": "7f4d7fb1b6fc4ec48825a89310a728b9",
       "version_major": 2,
       "version_minor": 0
      },
      "text/plain": [
       "epoch [7/10]: 0it [00:00, ?it/s]"
      ]
     },
     "metadata": {},
     "output_type": "display_data"
    },
    {
     "name": "stdout",
     "output_type": "stream",
     "text": [
      "Epoch: [7/10], Loss: 0.0105\n"
     ]
    },
    {
     "data": {
      "application/json": {
       "ascii": false,
       "bar_format": null,
       "colour": null,
       "elapsed": 0.009328603744506836,
       "initial": 0,
       "n": 0,
       "ncols": null,
       "nrows": 24,
       "postfix": null,
       "prefix": "epoch [8/10]",
       "rate": null,
       "total": null,
       "unit": "it",
       "unit_divisor": 1000,
       "unit_scale": false
      },
      "application/vnd.jupyter.widget-view+json": {
       "model_id": "2573d745641a42c0a06b2c0658d8aa99",
       "version_major": 2,
       "version_minor": 0
      },
      "text/plain": [
       "epoch [8/10]: 0it [00:00, ?it/s]"
      ]
     },
     "metadata": {},
     "output_type": "display_data"
    },
    {
     "name": "stdout",
     "output_type": "stream",
     "text": [
      "Epoch: [8/10], Loss: 0.0105\n"
     ]
    },
    {
     "data": {
      "application/json": {
       "ascii": false,
       "bar_format": null,
       "colour": null,
       "elapsed": 0.008865594863891602,
       "initial": 0,
       "n": 0,
       "ncols": null,
       "nrows": 24,
       "postfix": null,
       "prefix": "epoch [9/10]",
       "rate": null,
       "total": null,
       "unit": "it",
       "unit_divisor": 1000,
       "unit_scale": false
      },
      "application/vnd.jupyter.widget-view+json": {
       "model_id": "6978ad499af8457ab9094535d6d79f5f",
       "version_major": 2,
       "version_minor": 0
      },
      "text/plain": [
       "epoch [9/10]: 0it [00:00, ?it/s]"
      ]
     },
     "metadata": {},
     "output_type": "display_data"
    },
    {
     "name": "stdout",
     "output_type": "stream",
     "text": [
      "Epoch: [9/10], Loss: 0.0106\n"
     ]
    },
    {
     "data": {
      "application/json": {
       "ascii": false,
       "bar_format": null,
       "colour": null,
       "elapsed": 0.009453058242797852,
       "initial": 0,
       "n": 0,
       "ncols": null,
       "nrows": 24,
       "postfix": null,
       "prefix": "epoch [10/10]",
       "rate": null,
       "total": null,
       "unit": "it",
       "unit_divisor": 1000,
       "unit_scale": false
      },
      "application/vnd.jupyter.widget-view+json": {
       "model_id": "b41e3d6ec9c34fcfa5690b7879159190",
       "version_major": 2,
       "version_minor": 0
      },
      "text/plain": [
       "epoch [10/10]: 0it [00:00, ?it/s]"
      ]
     },
     "metadata": {},
     "output_type": "display_data"
    },
    {
     "name": "stdout",
     "output_type": "stream",
     "text": [
      "Epoch: [10/10], Loss: 0.0108\n"
     ]
    },
    {
     "data": {
      "application/json": {
       "ascii": false,
       "bar_format": null,
       "colour": null,
       "elapsed": 0.008778095245361328,
       "initial": 0,
       "n": 0,
       "ncols": null,
       "nrows": 24,
       "postfix": null,
       "prefix": "Evaluating",
       "rate": null,
       "total": null,
       "unit": "it",
       "unit_divisor": 1000,
       "unit_scale": false
      },
      "application/vnd.jupyter.widget-view+json": {
       "model_id": "2fc1ab634e0f406796f75dcc560e163d",
       "version_major": 2,
       "version_minor": 0
      },
      "text/plain": [
       "Evaluating: 0it [00:00, ?it/s]"
      ]
     },
     "metadata": {},
     "output_type": "display_data"
    },
    {
     "name": "stdout",
     "output_type": "stream",
     "text": [
      "Score (accuracy) of the probe: 0.87\n"
     ]
    },
    {
     "data": {
      "application/json": {
       "ascii": false,
       "bar_format": null,
       "colour": null,
       "elapsed": 0.008928775787353516,
       "initial": 0,
       "n": 0,
       "ncols": null,
       "nrows": 24,
       "postfix": null,
       "prefix": "Evaluating",
       "rate": null,
       "total": null,
       "unit": "it",
       "unit_divisor": 1000,
       "unit_scale": false
      },
      "application/vnd.jupyter.widget-view+json": {
       "model_id": "e48fc2e7b3f0459ebb6bc5a589cc6a87",
       "version_major": 2,
       "version_minor": 0
      },
      "text/plain": [
       "Evaluating: 0it [00:00, ?it/s]"
      ]
     },
     "metadata": {},
     "output_type": "display_data"
    },
    {
     "name": "stdout",
     "output_type": "stream",
     "text": [
      "Score (accuracy) of the probe: 0.78\n"
     ]
    },
    {
     "data": {
      "application/json": {
       "ascii": false,
       "bar_format": null,
       "colour": null,
       "elapsed": 0.008350133895874023,
       "initial": 0,
       "n": 0,
       "ncols": null,
       "nrows": 24,
       "postfix": null,
       "prefix": "",
       "rate": null,
       "total": 101,
       "unit": "it",
       "unit_divisor": 1000,
       "unit_scale": false
      },
      "application/vnd.jupyter.widget-view+json": {
       "model_id": "20fab8b57e99448f8e88a84e06682242",
       "version_major": 2,
       "version_minor": 0
      },
      "text/plain": [
       "  0%|          | 0/101 [00:00<?, ?it/s]"
      ]
     },
     "metadata": {},
     "output_type": "display_data"
    },
    {
     "name": "stdout",
     "output_type": "stream",
     "text": [
      "Loading json activations from /home/senya/Документы/project/large_data_en_ewt/data_Tense/activations_train.json...\n",
      "2600 13.0\n",
      "Loading json activations from /home/senya/Документы/project/large_data_en_ewt/data_Tense/activations_te.json...\n",
      "900 13.0\n",
      "Number of tokens:  2600\n",
      "length of source dictionary:  8418\n",
      "length of target dictionary:  2\n",
      "2600\n",
      "Total instances: 2600\n",
      "['2', 'Hot', 'Admin', '49', 'looks', 'What', 'yep', '1562', 'they', 'following', 'Use', 'During', 'Is', 'Louisiana', '--', 'Like', 'Owner', 'Tina', 'A', 'Than']\n",
      "Number of samples:  2600\n",
      "Stats: Labels with their frequencies in the final set\n",
      "Pres 1300\n",
      "Past 1300\n",
      "Number of tokens:  900\n",
      "length of source dictionary:  3777\n",
      "length of target dictionary:  2\n",
      "900\n",
      "Total instances: 900\n",
      "['Technically', 'What', 'Mercedes', 'they', 'During', 'Is', 'Like', 'A', 'Hamas', 'Daniel', 'Starting', 'Wendi', 'sincere', 'My', 'many', 'They', 'Sand', 'Are', 'Hancocks', 'Mahmoud']\n",
      "Number of samples:  900\n",
      "Stats: Labels with their frequencies in the final set\n",
      "Pres 450\n",
      "Past 450\n",
      "Training classification probe\n",
      "Creating model...\n",
      "Number of training instances: 2600\n",
      "Number of classes: 2\n"
     ]
    },
    {
     "data": {
      "application/json": {
       "ascii": false,
       "bar_format": null,
       "colour": null,
       "elapsed": 0.009314537048339844,
       "initial": 0,
       "n": 0,
       "ncols": null,
       "nrows": 24,
       "postfix": null,
       "prefix": "epoch [1/10]",
       "rate": null,
       "total": null,
       "unit": "it",
       "unit_divisor": 1000,
       "unit_scale": false
      },
      "application/vnd.jupyter.widget-view+json": {
       "model_id": "4f5f94018525441586e0227e58c528bf",
       "version_major": 2,
       "version_minor": 0
      },
      "text/plain": [
       "epoch [1/10]: 0it [00:00, ?it/s]"
      ]
     },
     "metadata": {},
     "output_type": "display_data"
    },
    {
     "name": "stdout",
     "output_type": "stream",
     "text": [
      "Epoch: [1/10], Loss: 0.0199\n"
     ]
    },
    {
     "data": {
      "application/json": {
       "ascii": false,
       "bar_format": null,
       "colour": null,
       "elapsed": 0.009384393692016602,
       "initial": 0,
       "n": 0,
       "ncols": null,
       "nrows": 24,
       "postfix": null,
       "prefix": "epoch [2/10]",
       "rate": null,
       "total": null,
       "unit": "it",
       "unit_divisor": 1000,
       "unit_scale": false
      },
      "application/vnd.jupyter.widget-view+json": {
       "model_id": "6a482756dcd744dbb535ca45d6c322f9",
       "version_major": 2,
       "version_minor": 0
      },
      "text/plain": [
       "epoch [2/10]: 0it [00:00, ?it/s]"
      ]
     },
     "metadata": {},
     "output_type": "display_data"
    },
    {
     "name": "stdout",
     "output_type": "stream",
     "text": [
      "Epoch: [2/10], Loss: 0.0137\n"
     ]
    },
    {
     "data": {
      "application/json": {
       "ascii": false,
       "bar_format": null,
       "colour": null,
       "elapsed": 0.00929570198059082,
       "initial": 0,
       "n": 0,
       "ncols": null,
       "nrows": 24,
       "postfix": null,
       "prefix": "epoch [3/10]",
       "rate": null,
       "total": null,
       "unit": "it",
       "unit_divisor": 1000,
       "unit_scale": false
      },
      "application/vnd.jupyter.widget-view+json": {
       "model_id": "20745b2224614676b17382f189478512",
       "version_major": 2,
       "version_minor": 0
      },
      "text/plain": [
       "epoch [3/10]: 0it [00:00, ?it/s]"
      ]
     },
     "metadata": {},
     "output_type": "display_data"
    },
    {
     "name": "stdout",
     "output_type": "stream",
     "text": [
      "Epoch: [3/10], Loss: 0.0120\n"
     ]
    },
    {
     "data": {
      "application/json": {
       "ascii": false,
       "bar_format": null,
       "colour": null,
       "elapsed": 0.009511470794677734,
       "initial": 0,
       "n": 0,
       "ncols": null,
       "nrows": 24,
       "postfix": null,
       "prefix": "epoch [4/10]",
       "rate": null,
       "total": null,
       "unit": "it",
       "unit_divisor": 1000,
       "unit_scale": false
      },
      "application/vnd.jupyter.widget-view+json": {
       "model_id": "009d5bb546ce4c04aa41719cf875a6d6",
       "version_major": 2,
       "version_minor": 0
      },
      "text/plain": [
       "epoch [4/10]: 0it [00:00, ?it/s]"
      ]
     },
     "metadata": {},
     "output_type": "display_data"
    },
    {
     "name": "stdout",
     "output_type": "stream",
     "text": [
      "Epoch: [4/10], Loss: 0.0113\n"
     ]
    },
    {
     "data": {
      "application/json": {
       "ascii": false,
       "bar_format": null,
       "colour": null,
       "elapsed": 0.008788108825683594,
       "initial": 0,
       "n": 0,
       "ncols": null,
       "nrows": 24,
       "postfix": null,
       "prefix": "epoch [5/10]",
       "rate": null,
       "total": null,
       "unit": "it",
       "unit_divisor": 1000,
       "unit_scale": false
      },
      "application/vnd.jupyter.widget-view+json": {
       "model_id": "5f5e0f7f55b64063b98ea339012bd89f",
       "version_major": 2,
       "version_minor": 0
      },
      "text/plain": [
       "epoch [5/10]: 0it [00:00, ?it/s]"
      ]
     },
     "metadata": {},
     "output_type": "display_data"
    },
    {
     "name": "stdout",
     "output_type": "stream",
     "text": [
      "Epoch: [5/10], Loss: 0.0108\n"
     ]
    },
    {
     "data": {
      "application/json": {
       "ascii": false,
       "bar_format": null,
       "colour": null,
       "elapsed": 0.00876927375793457,
       "initial": 0,
       "n": 0,
       "ncols": null,
       "nrows": 24,
       "postfix": null,
       "prefix": "epoch [6/10]",
       "rate": null,
       "total": null,
       "unit": "it",
       "unit_divisor": 1000,
       "unit_scale": false
      },
      "application/vnd.jupyter.widget-view+json": {
       "model_id": "14a47ddea6dc43e6978e58f83fc97838",
       "version_major": 2,
       "version_minor": 0
      },
      "text/plain": [
       "epoch [6/10]: 0it [00:00, ?it/s]"
      ]
     },
     "metadata": {},
     "output_type": "display_data"
    },
    {
     "name": "stdout",
     "output_type": "stream",
     "text": [
      "Epoch: [6/10], Loss: 0.0106\n"
     ]
    },
    {
     "data": {
      "application/json": {
       "ascii": false,
       "bar_format": null,
       "colour": null,
       "elapsed": 0.0088043212890625,
       "initial": 0,
       "n": 0,
       "ncols": null,
       "nrows": 24,
       "postfix": null,
       "prefix": "epoch [7/10]",
       "rate": null,
       "total": null,
       "unit": "it",
       "unit_divisor": 1000,
       "unit_scale": false
      },
      "application/vnd.jupyter.widget-view+json": {
       "model_id": "aec8cbccd74a477cb5175418e109f630",
       "version_major": 2,
       "version_minor": 0
      },
      "text/plain": [
       "epoch [7/10]: 0it [00:00, ?it/s]"
      ]
     },
     "metadata": {},
     "output_type": "display_data"
    },
    {
     "name": "stdout",
     "output_type": "stream",
     "text": [
      "Epoch: [7/10], Loss: 0.0104\n"
     ]
    },
    {
     "data": {
      "application/json": {
       "ascii": false,
       "bar_format": null,
       "colour": null,
       "elapsed": 0.008848905563354492,
       "initial": 0,
       "n": 0,
       "ncols": null,
       "nrows": 24,
       "postfix": null,
       "prefix": "epoch [8/10]",
       "rate": null,
       "total": null,
       "unit": "it",
       "unit_divisor": 1000,
       "unit_scale": false
      },
      "application/vnd.jupyter.widget-view+json": {
       "model_id": "01bff09ae2564463b161d8cc96aed92f",
       "version_major": 2,
       "version_minor": 0
      },
      "text/plain": [
       "epoch [8/10]: 0it [00:00, ?it/s]"
      ]
     },
     "metadata": {},
     "output_type": "display_data"
    },
    {
     "name": "stdout",
     "output_type": "stream",
     "text": [
      "Epoch: [8/10], Loss: 0.0102\n"
     ]
    },
    {
     "data": {
      "application/json": {
       "ascii": false,
       "bar_format": null,
       "colour": null,
       "elapsed": 0.008682489395141602,
       "initial": 0,
       "n": 0,
       "ncols": null,
       "nrows": 24,
       "postfix": null,
       "prefix": "epoch [9/10]",
       "rate": null,
       "total": null,
       "unit": "it",
       "unit_divisor": 1000,
       "unit_scale": false
      },
      "application/vnd.jupyter.widget-view+json": {
       "model_id": "c9a69599f47f4b1f958e30d89a54e42a",
       "version_major": 2,
       "version_minor": 0
      },
      "text/plain": [
       "epoch [9/10]: 0it [00:00, ?it/s]"
      ]
     },
     "metadata": {},
     "output_type": "display_data"
    },
    {
     "name": "stdout",
     "output_type": "stream",
     "text": [
      "Epoch: [9/10], Loss: 0.0101\n"
     ]
    },
    {
     "data": {
      "application/json": {
       "ascii": false,
       "bar_format": null,
       "colour": null,
       "elapsed": 0.008806943893432617,
       "initial": 0,
       "n": 0,
       "ncols": null,
       "nrows": 24,
       "postfix": null,
       "prefix": "epoch [10/10]",
       "rate": null,
       "total": null,
       "unit": "it",
       "unit_divisor": 1000,
       "unit_scale": false
      },
      "application/vnd.jupyter.widget-view+json": {
       "model_id": "77be81f798e44ad0b84b243f8716beeb",
       "version_major": 2,
       "version_minor": 0
      },
      "text/plain": [
       "epoch [10/10]: 0it [00:00, ?it/s]"
      ]
     },
     "metadata": {},
     "output_type": "display_data"
    },
    {
     "name": "stdout",
     "output_type": "stream",
     "text": [
      "Epoch: [10/10], Loss: 0.0100\n"
     ]
    },
    {
     "data": {
      "application/json": {
       "ascii": false,
       "bar_format": null,
       "colour": null,
       "elapsed": 0.008889198303222656,
       "initial": 0,
       "n": 0,
       "ncols": null,
       "nrows": 24,
       "postfix": null,
       "prefix": "Evaluating",
       "rate": null,
       "total": null,
       "unit": "it",
       "unit_divisor": 1000,
       "unit_scale": false
      },
      "application/vnd.jupyter.widget-view+json": {
       "model_id": "f4782268f60542c1b830c0cad7d22908",
       "version_major": 2,
       "version_minor": 0
      },
      "text/plain": [
       "Evaluating: 0it [00:00, ?it/s]"
      ]
     },
     "metadata": {},
     "output_type": "display_data"
    },
    {
     "name": "stdout",
     "output_type": "stream",
     "text": [
      "Score (accuracy) of the probe: 0.95\n"
     ]
    },
    {
     "data": {
      "application/json": {
       "ascii": false,
       "bar_format": null,
       "colour": null,
       "elapsed": 0.009386777877807617,
       "initial": 0,
       "n": 0,
       "ncols": null,
       "nrows": 24,
       "postfix": null,
       "prefix": "Evaluating",
       "rate": null,
       "total": null,
       "unit": "it",
       "unit_divisor": 1000,
       "unit_scale": false
      },
      "application/vnd.jupyter.widget-view+json": {
       "model_id": "599615c856d0482aadff992dd3435107",
       "version_major": 2,
       "version_minor": 0
      },
      "text/plain": [
       "Evaluating: 0it [00:00, ?it/s]"
      ]
     },
     "metadata": {},
     "output_type": "display_data"
    },
    {
     "name": "stdout",
     "output_type": "stream",
     "text": [
      "Score (accuracy) of the probe: 0.86\n"
     ]
    },
    {
     "data": {
      "application/json": {
       "ascii": false,
       "bar_format": null,
       "colour": null,
       "elapsed": 0.008873224258422852,
       "initial": 0,
       "n": 0,
       "ncols": null,
       "nrows": 24,
       "postfix": null,
       "prefix": "",
       "rate": null,
       "total": 101,
       "unit": "it",
       "unit_divisor": 1000,
       "unit_scale": false
      },
      "application/vnd.jupyter.widget-view+json": {
       "model_id": "ad332d05c7d047f4bcff9694cabd753d",
       "version_major": 2,
       "version_minor": 0
      },
      "text/plain": [
       "  0%|          | 0/101 [00:00<?, ?it/s]"
      ]
     },
     "metadata": {},
     "output_type": "display_data"
    },
    {
     "name": "stdout",
     "output_type": "stream",
     "text": [
      "Loading json activations from /home/senya/Документы/project/large_data_en_ewt/data_VerbForm/activations_train.json...\n",
      "2188 13.0\n",
      "Loading json activations from /home/senya/Документы/project/large_data_en_ewt/data_VerbForm/activations_te.json...\n",
      "779 13.0\n",
      "Number of tokens:  2188\n",
      "length of source dictionary:  7524\n",
      "length of target dictionary:  4\n",
      "2188\n",
      "Total instances: 2188\n",
      "['Outside', '2', 'What', 'SHE', 'Microsoft', 'Stay', 'they', 'Giving', 'following', 'Use', 'During', 'Louisiana', 'Beth', 'Is', 'Like', 'A', 'Irony', 'Than', 'Sometimes', 'NEXT']\n",
      "Number of samples:  2188\n",
      "Stats: Labels with their frequencies in the final set\n",
      "Fin 650\n",
      "Part 650\n",
      "Inf 650\n",
      "Ger 238\n",
      "Number of tokens:  779\n",
      "length of source dictionary:  3262\n",
      "length of target dictionary:  4\n",
      "779\n",
      "Total instances: 779\n",
      "['2', 'What', 'Definately', 'Microsoft', 'they', 'During', 'Wei', 'Is', '\"Islamic', 'Absoul', 'Like', 'A', 'Hamas', 'Starting', 'Wendi', 'My', 'They', '\"well', 'Are', 'moving']\n",
      "Number of samples:  779\n",
      "Stats: Labels with their frequencies in the final set\n",
      "Fin 225\n",
      "Ger 104\n",
      "Part 225\n",
      "Inf 225\n",
      "Training classification probe\n",
      "Creating model...\n",
      "Number of training instances: 2188\n",
      "Number of classes: 4\n"
     ]
    },
    {
     "data": {
      "application/json": {
       "ascii": false,
       "bar_format": null,
       "colour": null,
       "elapsed": 0.008381128311157227,
       "initial": 0,
       "n": 0,
       "ncols": null,
       "nrows": 24,
       "postfix": null,
       "prefix": "epoch [1/10]",
       "rate": null,
       "total": null,
       "unit": "it",
       "unit_divisor": 1000,
       "unit_scale": false
      },
      "application/vnd.jupyter.widget-view+json": {
       "model_id": "60c686a2488144ababa126c7145e3d87",
       "version_major": 2,
       "version_minor": 0
      },
      "text/plain": [
       "epoch [1/10]: 0it [00:00, ?it/s]"
      ]
     },
     "metadata": {},
     "output_type": "display_data"
    },
    {
     "name": "stdout",
     "output_type": "stream",
     "text": [
      "Epoch: [1/10], Loss: 0.0437\n"
     ]
    },
    {
     "data": {
      "application/json": {
       "ascii": false,
       "bar_format": null,
       "colour": null,
       "elapsed": 0.008575201034545898,
       "initial": 0,
       "n": 0,
       "ncols": null,
       "nrows": 24,
       "postfix": null,
       "prefix": "epoch [2/10]",
       "rate": null,
       "total": null,
       "unit": "it",
       "unit_divisor": 1000,
       "unit_scale": false
      },
      "application/vnd.jupyter.widget-view+json": {
       "model_id": "1c7ba2345a854fe4b59da21e6a1fd2f4",
       "version_major": 2,
       "version_minor": 0
      },
      "text/plain": [
       "epoch [2/10]: 0it [00:00, ?it/s]"
      ]
     },
     "metadata": {},
     "output_type": "display_data"
    },
    {
     "name": "stdout",
     "output_type": "stream",
     "text": [
      "Epoch: [2/10], Loss: 0.0305\n"
     ]
    },
    {
     "data": {
      "application/json": {
       "ascii": false,
       "bar_format": null,
       "colour": null,
       "elapsed": 0.008514642715454102,
       "initial": 0,
       "n": 0,
       "ncols": null,
       "nrows": 24,
       "postfix": null,
       "prefix": "epoch [3/10]",
       "rate": null,
       "total": null,
       "unit": "it",
       "unit_divisor": 1000,
       "unit_scale": false
      },
      "application/vnd.jupyter.widget-view+json": {
       "model_id": "520fd1d4be03448e9fc6a012d0d3e71f",
       "version_major": 2,
       "version_minor": 0
      },
      "text/plain": [
       "epoch [3/10]: 0it [00:00, ?it/s]"
      ]
     },
     "metadata": {},
     "output_type": "display_data"
    },
    {
     "name": "stdout",
     "output_type": "stream",
     "text": [
      "Epoch: [3/10], Loss: 0.0274\n"
     ]
    },
    {
     "data": {
      "application/json": {
       "ascii": false,
       "bar_format": null,
       "colour": null,
       "elapsed": 0.008554458618164062,
       "initial": 0,
       "n": 0,
       "ncols": null,
       "nrows": 24,
       "postfix": null,
       "prefix": "epoch [4/10]",
       "rate": null,
       "total": null,
       "unit": "it",
       "unit_divisor": 1000,
       "unit_scale": false
      },
      "application/vnd.jupyter.widget-view+json": {
       "model_id": "e434ab5aff724e5089c336ba556bbdac",
       "version_major": 2,
       "version_minor": 0
      },
      "text/plain": [
       "epoch [4/10]: 0it [00:00, ?it/s]"
      ]
     },
     "metadata": {},
     "output_type": "display_data"
    },
    {
     "name": "stdout",
     "output_type": "stream",
     "text": [
      "Epoch: [4/10], Loss: 0.0263\n"
     ]
    },
    {
     "data": {
      "application/json": {
       "ascii": false,
       "bar_format": null,
       "colour": null,
       "elapsed": 0.008803129196166992,
       "initial": 0,
       "n": 0,
       "ncols": null,
       "nrows": 24,
       "postfix": null,
       "prefix": "epoch [5/10]",
       "rate": null,
       "total": null,
       "unit": "it",
       "unit_divisor": 1000,
       "unit_scale": false
      },
      "application/vnd.jupyter.widget-view+json": {
       "model_id": "18825115cc134daebf09eedf21d509de",
       "version_major": 2,
       "version_minor": 0
      },
      "text/plain": [
       "epoch [5/10]: 0it [00:00, ?it/s]"
      ]
     },
     "metadata": {},
     "output_type": "display_data"
    },
    {
     "name": "stdout",
     "output_type": "stream",
     "text": [
      "Epoch: [5/10], Loss: 0.0259\n"
     ]
    },
    {
     "data": {
      "application/json": {
       "ascii": false,
       "bar_format": null,
       "colour": null,
       "elapsed": 0.008786916732788086,
       "initial": 0,
       "n": 0,
       "ncols": null,
       "nrows": 24,
       "postfix": null,
       "prefix": "epoch [6/10]",
       "rate": null,
       "total": null,
       "unit": "it",
       "unit_divisor": 1000,
       "unit_scale": false
      },
      "application/vnd.jupyter.widget-view+json": {
       "model_id": "80268cd10a5f49a0885085ad67a0c5fb",
       "version_major": 2,
       "version_minor": 0
      },
      "text/plain": [
       "epoch [6/10]: 0it [00:00, ?it/s]"
      ]
     },
     "metadata": {},
     "output_type": "display_data"
    },
    {
     "name": "stdout",
     "output_type": "stream",
     "text": [
      "Epoch: [6/10], Loss: 0.0256\n"
     ]
    },
    {
     "data": {
      "application/json": {
       "ascii": false,
       "bar_format": null,
       "colour": null,
       "elapsed": 0.00864863395690918,
       "initial": 0,
       "n": 0,
       "ncols": null,
       "nrows": 24,
       "postfix": null,
       "prefix": "epoch [7/10]",
       "rate": null,
       "total": null,
       "unit": "it",
       "unit_divisor": 1000,
       "unit_scale": false
      },
      "application/vnd.jupyter.widget-view+json": {
       "model_id": "1229e7ee73844761a1aee740baebe345",
       "version_major": 2,
       "version_minor": 0
      },
      "text/plain": [
       "epoch [7/10]: 0it [00:00, ?it/s]"
      ]
     },
     "metadata": {},
     "output_type": "display_data"
    },
    {
     "name": "stdout",
     "output_type": "stream",
     "text": [
      "Epoch: [7/10], Loss: 0.0243\n"
     ]
    },
    {
     "data": {
      "application/json": {
       "ascii": false,
       "bar_format": null,
       "colour": null,
       "elapsed": 0.00913381576538086,
       "initial": 0,
       "n": 0,
       "ncols": null,
       "nrows": 24,
       "postfix": null,
       "prefix": "epoch [8/10]",
       "rate": null,
       "total": null,
       "unit": "it",
       "unit_divisor": 1000,
       "unit_scale": false
      },
      "application/vnd.jupyter.widget-view+json": {
       "model_id": "37044fde3d314968a938246059e706e2",
       "version_major": 2,
       "version_minor": 0
      },
      "text/plain": [
       "epoch [8/10]: 0it [00:00, ?it/s]"
      ]
     },
     "metadata": {},
     "output_type": "display_data"
    },
    {
     "name": "stdout",
     "output_type": "stream",
     "text": [
      "Epoch: [8/10], Loss: 0.0228\n"
     ]
    },
    {
     "data": {
      "application/json": {
       "ascii": false,
       "bar_format": null,
       "colour": null,
       "elapsed": 0.00868988037109375,
       "initial": 0,
       "n": 0,
       "ncols": null,
       "nrows": 24,
       "postfix": null,
       "prefix": "epoch [9/10]",
       "rate": null,
       "total": null,
       "unit": "it",
       "unit_divisor": 1000,
       "unit_scale": false
      },
      "application/vnd.jupyter.widget-view+json": {
       "model_id": "efe5d3bff79b49a1baa662802e54b738",
       "version_major": 2,
       "version_minor": 0
      },
      "text/plain": [
       "epoch [9/10]: 0it [00:00, ?it/s]"
      ]
     },
     "metadata": {},
     "output_type": "display_data"
    },
    {
     "name": "stdout",
     "output_type": "stream",
     "text": [
      "Epoch: [9/10], Loss: 0.0220\n"
     ]
    },
    {
     "data": {
      "application/json": {
       "ascii": false,
       "bar_format": null,
       "colour": null,
       "elapsed": 0.008636474609375,
       "initial": 0,
       "n": 0,
       "ncols": null,
       "nrows": 24,
       "postfix": null,
       "prefix": "epoch [10/10]",
       "rate": null,
       "total": null,
       "unit": "it",
       "unit_divisor": 1000,
       "unit_scale": false
      },
      "application/vnd.jupyter.widget-view+json": {
       "model_id": "0604dbd35f2e4f879d3e273fc56755ea",
       "version_major": 2,
       "version_minor": 0
      },
      "text/plain": [
       "epoch [10/10]: 0it [00:00, ?it/s]"
      ]
     },
     "metadata": {},
     "output_type": "display_data"
    },
    {
     "name": "stdout",
     "output_type": "stream",
     "text": [
      "Epoch: [10/10], Loss: 0.0214\n"
     ]
    },
    {
     "data": {
      "application/json": {
       "ascii": false,
       "bar_format": null,
       "colour": null,
       "elapsed": 0.008865833282470703,
       "initial": 0,
       "n": 0,
       "ncols": null,
       "nrows": 24,
       "postfix": null,
       "prefix": "Evaluating",
       "rate": null,
       "total": null,
       "unit": "it",
       "unit_divisor": 1000,
       "unit_scale": false
      },
      "application/vnd.jupyter.widget-view+json": {
       "model_id": "7bebcfc69b7e472e9ff05da1b17647e3",
       "version_major": 2,
       "version_minor": 0
      },
      "text/plain": [
       "Evaluating: 0it [00:00, ?it/s]"
      ]
     },
     "metadata": {},
     "output_type": "display_data"
    },
    {
     "name": "stdout",
     "output_type": "stream",
     "text": [
      "Score (accuracy) of the probe: 0.88\n"
     ]
    },
    {
     "data": {
      "application/json": {
       "ascii": false,
       "bar_format": null,
       "colour": null,
       "elapsed": 0.008558511734008789,
       "initial": 0,
       "n": 0,
       "ncols": null,
       "nrows": 24,
       "postfix": null,
       "prefix": "Evaluating",
       "rate": null,
       "total": null,
       "unit": "it",
       "unit_divisor": 1000,
       "unit_scale": false
      },
      "application/vnd.jupyter.widget-view+json": {
       "model_id": "a1e00baa455344ce819346519d682222",
       "version_major": 2,
       "version_minor": 0
      },
      "text/plain": [
       "Evaluating: 0it [00:00, ?it/s]"
      ]
     },
     "metadata": {},
     "output_type": "display_data"
    },
    {
     "name": "stdout",
     "output_type": "stream",
     "text": [
      "Score (accuracy) of the probe: 0.25\n"
     ]
    },
    {
     "data": {
      "application/json": {
       "ascii": false,
       "bar_format": null,
       "colour": null,
       "elapsed": 0.008020639419555664,
       "initial": 0,
       "n": 0,
       "ncols": null,
       "nrows": 24,
       "postfix": null,
       "prefix": "",
       "rate": null,
       "total": 101,
       "unit": "it",
       "unit_divisor": 1000,
       "unit_scale": false
      },
      "application/vnd.jupyter.widget-view+json": {
       "model_id": "ec7320fc054548558c66e459fc0135f2",
       "version_major": 2,
       "version_minor": 0
      },
      "text/plain": [
       "  0%|          | 0/101 [00:00<?, ?it/s]"
      ]
     },
     "metadata": {},
     "output_type": "display_data"
    },
    {
     "name": "stdout",
     "output_type": "stream",
     "text": [
      "Loading json activations from /home/senya/Документы/project/large_data_en_ewt/data_NumForm/activations_train.json...\n",
      "1467 13.0\n",
      "Loading json activations from /home/senya/Документы/project/large_data_en_ewt/data_NumForm/activations_te.json...\n",
      "435 13.0\n",
      "Number of tokens:  1467\n",
      "length of source dictionary:  6210\n",
      "length of target dictionary:  3\n",
      "1467\n",
      "Total instances: 1467\n",
      "['2', 'Outside', 'Frank', 'What', 'yep', 'During', 'Disatisfied', 'Beth', 'Todd', '14', '--', 'A', 'Joe_Lardy', 'Sometimes', 'NEXT', '40', 'Sir', 'Investigators', '1561', '312']\n",
      "Number of samples:  1467\n",
      "Stats: Labels with their frequencies in the final set\n",
      "Word 593\n",
      "Roman 7\n",
      "Digit 867\n",
      "Number of tokens:  435\n",
      "length of source dictionary:  2544\n",
      "length of target dictionary:  3\n",
      "435\n",
      "Total instances: 435\n",
      "['ps', 'i', 'Lunar', 'so', 'ive', 'THOMAS', '08', '\"You', 'What', 'Delhi', 'Microsoft', 'Carve', 'why', 'Slope', 'Armed', 'Sheridan', 'Wei', 'Intercept', 'See', '09']\n",
      "Number of samples:  435\n",
      "Stats: Labels with their frequencies in the final set\n",
      "Word 131\n",
      "Roman 4\n",
      "Digit 300\n",
      "Training classification probe\n",
      "Creating model...\n",
      "Number of training instances: 1467\n",
      "Number of classes: 3\n"
     ]
    },
    {
     "data": {
      "application/json": {
       "ascii": false,
       "bar_format": null,
       "colour": null,
       "elapsed": 0.008451461791992188,
       "initial": 0,
       "n": 0,
       "ncols": null,
       "nrows": 24,
       "postfix": null,
       "prefix": "epoch [1/10]",
       "rate": null,
       "total": null,
       "unit": "it",
       "unit_divisor": 1000,
       "unit_scale": false
      },
      "application/vnd.jupyter.widget-view+json": {
       "model_id": "69d1b9a2d4104c6597552810071f03ac",
       "version_major": 2,
       "version_minor": 0
      },
      "text/plain": [
       "epoch [1/10]: 0it [00:00, ?it/s]"
      ]
     },
     "metadata": {},
     "output_type": "display_data"
    },
    {
     "name": "stdout",
     "output_type": "stream",
     "text": [
      "Epoch: [1/10], Loss: 0.0263\n"
     ]
    },
    {
     "data": {
      "application/json": {
       "ascii": false,
       "bar_format": null,
       "colour": null,
       "elapsed": 0.008691072463989258,
       "initial": 0,
       "n": 0,
       "ncols": null,
       "nrows": 24,
       "postfix": null,
       "prefix": "epoch [2/10]",
       "rate": null,
       "total": null,
       "unit": "it",
       "unit_divisor": 1000,
       "unit_scale": false
      },
      "application/vnd.jupyter.widget-view+json": {
       "model_id": "2b8f13b5a27c44fd8d3bd229fd78f43a",
       "version_major": 2,
       "version_minor": 0
      },
      "text/plain": [
       "epoch [2/10]: 0it [00:00, ?it/s]"
      ]
     },
     "metadata": {},
     "output_type": "display_data"
    },
    {
     "name": "stdout",
     "output_type": "stream",
     "text": [
      "Epoch: [2/10], Loss: 0.0164\n"
     ]
    },
    {
     "data": {
      "application/json": {
       "ascii": false,
       "bar_format": null,
       "colour": null,
       "elapsed": 0.008510112762451172,
       "initial": 0,
       "n": 0,
       "ncols": null,
       "nrows": 24,
       "postfix": null,
       "prefix": "epoch [3/10]",
       "rate": null,
       "total": null,
       "unit": "it",
       "unit_divisor": 1000,
       "unit_scale": false
      },
      "application/vnd.jupyter.widget-view+json": {
       "model_id": "3aaefc8e96c94dc2b5086606b6718d50",
       "version_major": 2,
       "version_minor": 0
      },
      "text/plain": [
       "epoch [3/10]: 0it [00:00, ?it/s]"
      ]
     },
     "metadata": {},
     "output_type": "display_data"
    },
    {
     "name": "stdout",
     "output_type": "stream",
     "text": [
      "Epoch: [3/10], Loss: 0.0134\n"
     ]
    },
    {
     "data": {
      "application/json": {
       "ascii": false,
       "bar_format": null,
       "colour": null,
       "elapsed": 0.008472681045532227,
       "initial": 0,
       "n": 0,
       "ncols": null,
       "nrows": 24,
       "postfix": null,
       "prefix": "epoch [4/10]",
       "rate": null,
       "total": null,
       "unit": "it",
       "unit_divisor": 1000,
       "unit_scale": false
      },
      "application/vnd.jupyter.widget-view+json": {
       "model_id": "5e45627c644147138303487b6347ebe1",
       "version_major": 2,
       "version_minor": 0
      },
      "text/plain": [
       "epoch [4/10]: 0it [00:00, ?it/s]"
      ]
     },
     "metadata": {},
     "output_type": "display_data"
    },
    {
     "name": "stdout",
     "output_type": "stream",
     "text": [
      "Epoch: [4/10], Loss: 0.0120\n"
     ]
    },
    {
     "data": {
      "application/json": {
       "ascii": false,
       "bar_format": null,
       "colour": null,
       "elapsed": 0.008648395538330078,
       "initial": 0,
       "n": 0,
       "ncols": null,
       "nrows": 24,
       "postfix": null,
       "prefix": "epoch [5/10]",
       "rate": null,
       "total": null,
       "unit": "it",
       "unit_divisor": 1000,
       "unit_scale": false
      },
      "application/vnd.jupyter.widget-view+json": {
       "model_id": "97703469e823430b9909da92ff6d45f1",
       "version_major": 2,
       "version_minor": 0
      },
      "text/plain": [
       "epoch [5/10]: 0it [00:00, ?it/s]"
      ]
     },
     "metadata": {},
     "output_type": "display_data"
    },
    {
     "name": "stdout",
     "output_type": "stream",
     "text": [
      "Epoch: [5/10], Loss: 0.0114\n"
     ]
    },
    {
     "data": {
      "application/json": {
       "ascii": false,
       "bar_format": null,
       "colour": null,
       "elapsed": 0.008549928665161133,
       "initial": 0,
       "n": 0,
       "ncols": null,
       "nrows": 24,
       "postfix": null,
       "prefix": "epoch [6/10]",
       "rate": null,
       "total": null,
       "unit": "it",
       "unit_divisor": 1000,
       "unit_scale": false
      },
      "application/vnd.jupyter.widget-view+json": {
       "model_id": "0310a08056564874acf3f768e42349ff",
       "version_major": 2,
       "version_minor": 0
      },
      "text/plain": [
       "epoch [6/10]: 0it [00:00, ?it/s]"
      ]
     },
     "metadata": {},
     "output_type": "display_data"
    },
    {
     "name": "stdout",
     "output_type": "stream",
     "text": [
      "Epoch: [6/10], Loss: 0.0111\n"
     ]
    },
    {
     "data": {
      "application/json": {
       "ascii": false,
       "bar_format": null,
       "colour": null,
       "elapsed": 0.008694648742675781,
       "initial": 0,
       "n": 0,
       "ncols": null,
       "nrows": 24,
       "postfix": null,
       "prefix": "epoch [7/10]",
       "rate": null,
       "total": null,
       "unit": "it",
       "unit_divisor": 1000,
       "unit_scale": false
      },
      "application/vnd.jupyter.widget-view+json": {
       "model_id": "11513701d85f457fb3a8d5b38e719461",
       "version_major": 2,
       "version_minor": 0
      },
      "text/plain": [
       "epoch [7/10]: 0it [00:00, ?it/s]"
      ]
     },
     "metadata": {},
     "output_type": "display_data"
    },
    {
     "name": "stdout",
     "output_type": "stream",
     "text": [
      "Epoch: [7/10], Loss: 0.0110\n"
     ]
    },
    {
     "data": {
      "application/json": {
       "ascii": false,
       "bar_format": null,
       "colour": null,
       "elapsed": 0.008717060089111328,
       "initial": 0,
       "n": 0,
       "ncols": null,
       "nrows": 24,
       "postfix": null,
       "prefix": "epoch [8/10]",
       "rate": null,
       "total": null,
       "unit": "it",
       "unit_divisor": 1000,
       "unit_scale": false
      },
      "application/vnd.jupyter.widget-view+json": {
       "model_id": "e7ee438e84ef41fe9891d7b5c2196e92",
       "version_major": 2,
       "version_minor": 0
      },
      "text/plain": [
       "epoch [8/10]: 0it [00:00, ?it/s]"
      ]
     },
     "metadata": {},
     "output_type": "display_data"
    },
    {
     "name": "stdout",
     "output_type": "stream",
     "text": [
      "Epoch: [8/10], Loss: 0.0109\n"
     ]
    },
    {
     "data": {
      "application/json": {
       "ascii": false,
       "bar_format": null,
       "colour": null,
       "elapsed": 0.008626461029052734,
       "initial": 0,
       "n": 0,
       "ncols": null,
       "nrows": 24,
       "postfix": null,
       "prefix": "epoch [9/10]",
       "rate": null,
       "total": null,
       "unit": "it",
       "unit_divisor": 1000,
       "unit_scale": false
      },
      "application/vnd.jupyter.widget-view+json": {
       "model_id": "781453bbd07249e3bfeef7276172fc29",
       "version_major": 2,
       "version_minor": 0
      },
      "text/plain": [
       "epoch [9/10]: 0it [00:00, ?it/s]"
      ]
     },
     "metadata": {},
     "output_type": "display_data"
    },
    {
     "name": "stdout",
     "output_type": "stream",
     "text": [
      "Epoch: [9/10], Loss: 0.0109\n"
     ]
    },
    {
     "data": {
      "application/json": {
       "ascii": false,
       "bar_format": null,
       "colour": null,
       "elapsed": 0.008623361587524414,
       "initial": 0,
       "n": 0,
       "ncols": null,
       "nrows": 24,
       "postfix": null,
       "prefix": "epoch [10/10]",
       "rate": null,
       "total": null,
       "unit": "it",
       "unit_divisor": 1000,
       "unit_scale": false
      },
      "application/vnd.jupyter.widget-view+json": {
       "model_id": "a0952538a67b475e8211d5460489b9d2",
       "version_major": 2,
       "version_minor": 0
      },
      "text/plain": [
       "epoch [10/10]: 0it [00:00, ?it/s]"
      ]
     },
     "metadata": {},
     "output_type": "display_data"
    },
    {
     "name": "stdout",
     "output_type": "stream",
     "text": [
      "Epoch: [10/10], Loss: 0.0106\n"
     ]
    },
    {
     "data": {
      "application/json": {
       "ascii": false,
       "bar_format": null,
       "colour": null,
       "elapsed": 0.009569168090820312,
       "initial": 0,
       "n": 0,
       "ncols": null,
       "nrows": 24,
       "postfix": null,
       "prefix": "Evaluating",
       "rate": null,
       "total": null,
       "unit": "it",
       "unit_divisor": 1000,
       "unit_scale": false
      },
      "application/vnd.jupyter.widget-view+json": {
       "model_id": "e9d3ca36fd3e4fa9b42e4a99a28681d9",
       "version_major": 2,
       "version_minor": 0
      },
      "text/plain": [
       "Evaluating: 0it [00:00, ?it/s]"
      ]
     },
     "metadata": {},
     "output_type": "display_data"
    },
    {
     "name": "stdout",
     "output_type": "stream",
     "text": [
      "Score (accuracy) of the probe: 0.95\n"
     ]
    },
    {
     "data": {
      "application/json": {
       "ascii": false,
       "bar_format": null,
       "colour": null,
       "elapsed": 0.008736848831176758,
       "initial": 0,
       "n": 0,
       "ncols": null,
       "nrows": 24,
       "postfix": null,
       "prefix": "Evaluating",
       "rate": null,
       "total": null,
       "unit": "it",
       "unit_divisor": 1000,
       "unit_scale": false
      },
      "application/vnd.jupyter.widget-view+json": {
       "model_id": "80fd7b5d53344d6590d0dcf0baa503dd",
       "version_major": 2,
       "version_minor": 0
      },
      "text/plain": [
       "Evaluating: 0it [00:00, ?it/s]"
      ]
     },
     "metadata": {},
     "output_type": "display_data"
    },
    {
     "name": "stdout",
     "output_type": "stream",
     "text": [
      "Score (accuracy) of the probe: 0.78\n"
     ]
    },
    {
     "data": {
      "application/json": {
       "ascii": false,
       "bar_format": null,
       "colour": null,
       "elapsed": 0.008211374282836914,
       "initial": 0,
       "n": 0,
       "ncols": null,
       "nrows": 24,
       "postfix": null,
       "prefix": "",
       "rate": null,
       "total": 101,
       "unit": "it",
       "unit_divisor": 1000,
       "unit_scale": false
      },
      "application/vnd.jupyter.widget-view+json": {
       "model_id": "ccfb42bad68740f2938ab31a19c2c93b",
       "version_major": 2,
       "version_minor": 0
      },
      "text/plain": [
       "  0%|          | 0/101 [00:00<?, ?it/s]"
      ]
     },
     "metadata": {},
     "output_type": "display_data"
    },
    {
     "name": "stdout",
     "output_type": "stream",
     "text": [
      "Loading json activations from /home/senya/Документы/project/large_data_en_ewt/data_Person/activations_train.json...\n",
      "2601 13.0\n",
      "Loading json activations from /home/senya/Документы/project/large_data_en_ewt/data_Person/activations_te.json...\n",
      "862 13.0\n",
      "Number of tokens:  2601\n",
      "length of source dictionary:  7763\n",
      "length of target dictionary:  3\n",
      "2601\n",
      "Total instances: 2601\n",
      "['2', 'Admin', '\"Set', 'What', 'Microsoft', 'figure', '1562', 'following', 'they', 'Louisiana', 'Beth', 'Is', '--', 'Like', 'A', 'Sometimes', 'NEXT', '**', '1561', 'Offer']\n",
      "Number of samples:  2601\n",
      "Stats: Labels with their frequencies in the final set\n",
      "3 867\n",
      "1 867\n",
      "2 867\n",
      "Number of tokens:  862\n",
      "length of source dictionary:  3389\n",
      "length of target dictionary:  3\n",
      "862\n",
      "Total instances: 862\n",
      "['2', 'Lied', 'Superior', 'What', 'Delhi', 'they', 'Use', 'Ash', 'Wei', 'Is', 'Absoul', 'Like', '\"Twinkle', 'A', 'Hamas', 'Starting', '\"However', 'sincere', '**', 'My']\n",
      "Number of samples:  862\n",
      "Stats: Labels with their frequencies in the final set\n",
      "3 300\n",
      "1 300\n",
      "2 262\n",
      "Training classification probe\n",
      "Creating model...\n",
      "Number of training instances: 2601\n",
      "Number of classes: 3\n"
     ]
    },
    {
     "data": {
      "application/json": {
       "ascii": false,
       "bar_format": null,
       "colour": null,
       "elapsed": 0.008283853530883789,
       "initial": 0,
       "n": 0,
       "ncols": null,
       "nrows": 24,
       "postfix": null,
       "prefix": "epoch [1/10]",
       "rate": null,
       "total": null,
       "unit": "it",
       "unit_divisor": 1000,
       "unit_scale": false
      },
      "application/vnd.jupyter.widget-view+json": {
       "model_id": "f1901a062d954430a2321183f1aea10a",
       "version_major": 2,
       "version_minor": 0
      },
      "text/plain": [
       "epoch [1/10]: 0it [00:00, ?it/s]"
      ]
     },
     "metadata": {},
     "output_type": "display_data"
    },
    {
     "name": "stdout",
     "output_type": "stream",
     "text": [
      "Epoch: [1/10], Loss: 0.0211\n"
     ]
    },
    {
     "data": {
      "application/json": {
       "ascii": false,
       "bar_format": null,
       "colour": null,
       "elapsed": 0.008629798889160156,
       "initial": 0,
       "n": 0,
       "ncols": null,
       "nrows": 24,
       "postfix": null,
       "prefix": "epoch [2/10]",
       "rate": null,
       "total": null,
       "unit": "it",
       "unit_divisor": 1000,
       "unit_scale": false
      },
      "application/vnd.jupyter.widget-view+json": {
       "model_id": "b715a4b5e8574529bb91cbe5db1028f4",
       "version_major": 2,
       "version_minor": 0
      },
      "text/plain": [
       "epoch [2/10]: 0it [00:00, ?it/s]"
      ]
     },
     "metadata": {},
     "output_type": "display_data"
    },
    {
     "name": "stdout",
     "output_type": "stream",
     "text": [
      "Epoch: [2/10], Loss: 0.0131\n"
     ]
    },
    {
     "data": {
      "application/json": {
       "ascii": false,
       "bar_format": null,
       "colour": null,
       "elapsed": 0.008612394332885742,
       "initial": 0,
       "n": 0,
       "ncols": null,
       "nrows": 24,
       "postfix": null,
       "prefix": "epoch [3/10]",
       "rate": null,
       "total": null,
       "unit": "it",
       "unit_divisor": 1000,
       "unit_scale": false
      },
      "application/vnd.jupyter.widget-view+json": {
       "model_id": "51e417c97e0648be9097da68261aaabb",
       "version_major": 2,
       "version_minor": 0
      },
      "text/plain": [
       "epoch [3/10]: 0it [00:00, ?it/s]"
      ]
     },
     "metadata": {},
     "output_type": "display_data"
    },
    {
     "name": "stdout",
     "output_type": "stream",
     "text": [
      "Epoch: [3/10], Loss: 0.0114\n"
     ]
    },
    {
     "data": {
      "application/json": {
       "ascii": false,
       "bar_format": null,
       "colour": null,
       "elapsed": 0.008738279342651367,
       "initial": 0,
       "n": 0,
       "ncols": null,
       "nrows": 24,
       "postfix": null,
       "prefix": "epoch [4/10]",
       "rate": null,
       "total": null,
       "unit": "it",
       "unit_divisor": 1000,
       "unit_scale": false
      },
      "application/vnd.jupyter.widget-view+json": {
       "model_id": "14d354c058234ac4b7093545df5c7d80",
       "version_major": 2,
       "version_minor": 0
      },
      "text/plain": [
       "epoch [4/10]: 0it [00:00, ?it/s]"
      ]
     },
     "metadata": {},
     "output_type": "display_data"
    },
    {
     "name": "stdout",
     "output_type": "stream",
     "text": [
      "Epoch: [4/10], Loss: 0.0106\n"
     ]
    },
    {
     "data": {
      "application/json": {
       "ascii": false,
       "bar_format": null,
       "colour": null,
       "elapsed": 0.008790731430053711,
       "initial": 0,
       "n": 0,
       "ncols": null,
       "nrows": 24,
       "postfix": null,
       "prefix": "epoch [5/10]",
       "rate": null,
       "total": null,
       "unit": "it",
       "unit_divisor": 1000,
       "unit_scale": false
      },
      "application/vnd.jupyter.widget-view+json": {
       "model_id": "bf88a9a1781f4e72a508a150d8c05780",
       "version_major": 2,
       "version_minor": 0
      },
      "text/plain": [
       "epoch [5/10]: 0it [00:00, ?it/s]"
      ]
     },
     "metadata": {},
     "output_type": "display_data"
    },
    {
     "name": "stdout",
     "output_type": "stream",
     "text": [
      "Epoch: [5/10], Loss: 0.0102\n"
     ]
    },
    {
     "data": {
      "application/json": {
       "ascii": false,
       "bar_format": null,
       "colour": null,
       "elapsed": 0.008746623992919922,
       "initial": 0,
       "n": 0,
       "ncols": null,
       "nrows": 24,
       "postfix": null,
       "prefix": "epoch [6/10]",
       "rate": null,
       "total": null,
       "unit": "it",
       "unit_divisor": 1000,
       "unit_scale": false
      },
      "application/vnd.jupyter.widget-view+json": {
       "model_id": "3534362c7d8b43be972ee94e06a053c3",
       "version_major": 2,
       "version_minor": 0
      },
      "text/plain": [
       "epoch [6/10]: 0it [00:00, ?it/s]"
      ]
     },
     "metadata": {},
     "output_type": "display_data"
    },
    {
     "name": "stdout",
     "output_type": "stream",
     "text": [
      "Epoch: [6/10], Loss: 0.0100\n"
     ]
    },
    {
     "data": {
      "application/json": {
       "ascii": false,
       "bar_format": null,
       "colour": null,
       "elapsed": 0.008734703063964844,
       "initial": 0,
       "n": 0,
       "ncols": null,
       "nrows": 24,
       "postfix": null,
       "prefix": "epoch [7/10]",
       "rate": null,
       "total": null,
       "unit": "it",
       "unit_divisor": 1000,
       "unit_scale": false
      },
      "application/vnd.jupyter.widget-view+json": {
       "model_id": "37afe16d6d38414cb56e9c3951d8564e",
       "version_major": 2,
       "version_minor": 0
      },
      "text/plain": [
       "epoch [7/10]: 0it [00:00, ?it/s]"
      ]
     },
     "metadata": {},
     "output_type": "display_data"
    },
    {
     "name": "stdout",
     "output_type": "stream",
     "text": [
      "Epoch: [7/10], Loss: 0.0099\n"
     ]
    },
    {
     "data": {
      "application/json": {
       "ascii": false,
       "bar_format": null,
       "colour": null,
       "elapsed": 0.00892329216003418,
       "initial": 0,
       "n": 0,
       "ncols": null,
       "nrows": 24,
       "postfix": null,
       "prefix": "epoch [8/10]",
       "rate": null,
       "total": null,
       "unit": "it",
       "unit_divisor": 1000,
       "unit_scale": false
      },
      "application/vnd.jupyter.widget-view+json": {
       "model_id": "4d5f7451ebe64c46bf0142aa2d4f0dc1",
       "version_major": 2,
       "version_minor": 0
      },
      "text/plain": [
       "epoch [8/10]: 0it [00:00, ?it/s]"
      ]
     },
     "metadata": {},
     "output_type": "display_data"
    },
    {
     "name": "stdout",
     "output_type": "stream",
     "text": [
      "Epoch: [8/10], Loss: 0.0098\n"
     ]
    },
    {
     "data": {
      "application/json": {
       "ascii": false,
       "bar_format": null,
       "colour": null,
       "elapsed": 0.008794546127319336,
       "initial": 0,
       "n": 0,
       "ncols": null,
       "nrows": 24,
       "postfix": null,
       "prefix": "epoch [9/10]",
       "rate": null,
       "total": null,
       "unit": "it",
       "unit_divisor": 1000,
       "unit_scale": false
      },
      "application/vnd.jupyter.widget-view+json": {
       "model_id": "63c468b425724910819a9d8c834a2da1",
       "version_major": 2,
       "version_minor": 0
      },
      "text/plain": [
       "epoch [9/10]: 0it [00:00, ?it/s]"
      ]
     },
     "metadata": {},
     "output_type": "display_data"
    },
    {
     "name": "stdout",
     "output_type": "stream",
     "text": [
      "Epoch: [9/10], Loss: 0.0098\n"
     ]
    },
    {
     "data": {
      "application/json": {
       "ascii": false,
       "bar_format": null,
       "colour": null,
       "elapsed": 0.008736133575439453,
       "initial": 0,
       "n": 0,
       "ncols": null,
       "nrows": 24,
       "postfix": null,
       "prefix": "epoch [10/10]",
       "rate": null,
       "total": null,
       "unit": "it",
       "unit_divisor": 1000,
       "unit_scale": false
      },
      "application/vnd.jupyter.widget-view+json": {
       "model_id": "01a0d6beb99645e9bcfd758d50441c84",
       "version_major": 2,
       "version_minor": 0
      },
      "text/plain": [
       "epoch [10/10]: 0it [00:00, ?it/s]"
      ]
     },
     "metadata": {},
     "output_type": "display_data"
    },
    {
     "name": "stdout",
     "output_type": "stream",
     "text": [
      "Epoch: [10/10], Loss: 0.0097\n"
     ]
    },
    {
     "data": {
      "application/json": {
       "ascii": false,
       "bar_format": null,
       "colour": null,
       "elapsed": 0.008894920349121094,
       "initial": 0,
       "n": 0,
       "ncols": null,
       "nrows": 24,
       "postfix": null,
       "prefix": "Evaluating",
       "rate": null,
       "total": null,
       "unit": "it",
       "unit_divisor": 1000,
       "unit_scale": false
      },
      "application/vnd.jupyter.widget-view+json": {
       "model_id": "b93f0e6f156f4a7d9dd31d718e627838",
       "version_major": 2,
       "version_minor": 0
      },
      "text/plain": [
       "Evaluating: 0it [00:00, ?it/s]"
      ]
     },
     "metadata": {},
     "output_type": "display_data"
    },
    {
     "name": "stdout",
     "output_type": "stream",
     "text": [
      "Score (accuracy) of the probe: 0.96\n"
     ]
    },
    {
     "data": {
      "application/json": {
       "ascii": false,
       "bar_format": null,
       "colour": null,
       "elapsed": 0.008716106414794922,
       "initial": 0,
       "n": 0,
       "ncols": null,
       "nrows": 24,
       "postfix": null,
       "prefix": "Evaluating",
       "rate": null,
       "total": null,
       "unit": "it",
       "unit_divisor": 1000,
       "unit_scale": false
      },
      "application/vnd.jupyter.widget-view+json": {
       "model_id": "a6d37306181d421193506fe82ccba6fe",
       "version_major": 2,
       "version_minor": 0
      },
      "text/plain": [
       "Evaluating: 0it [00:00, ?it/s]"
      ]
     },
     "metadata": {},
     "output_type": "display_data"
    },
    {
     "name": "stdout",
     "output_type": "stream",
     "text": [
      "Score (accuracy) of the probe: 0.86\n"
     ]
    },
    {
     "data": {
      "application/json": {
       "ascii": false,
       "bar_format": null,
       "colour": null,
       "elapsed": 0.008291482925415039,
       "initial": 0,
       "n": 0,
       "ncols": null,
       "nrows": 24,
       "postfix": null,
       "prefix": "",
       "rate": null,
       "total": 101,
       "unit": "it",
       "unit_divisor": 1000,
       "unit_scale": false
      },
      "application/vnd.jupyter.widget-view+json": {
       "model_id": "18284e2ef71f4e9ca61544c30bba0b27",
       "version_major": 2,
       "version_minor": 0
      },
      "text/plain": [
       "  0%|          | 0/101 [00:00<?, ?it/s]"
      ]
     },
     "metadata": {},
     "output_type": "display_data"
    },
    {
     "name": "stdout",
     "output_type": "stream",
     "text": [
      "Loading json activations from /home/senya/Документы/project/large_data_en_ewt/data_ExtPos/activations_train.json...\n",
      "143 13.0\n",
      "Loading json activations from /home/senya/Документы/project/large_data_en_ewt/data_ExtPos/activations_te.json...\n",
      "37 13.0\n",
      "Number of tokens:  143\n",
      "length of source dictionary:  1308\n",
      "length of target dictionary:  5\n",
      "143\n",
      "Total instances: 143\n",
      "['Wire', 'What', '\"grey', 'they', 'Wii', 'Well', 'Once', 'Please', 'To', 'My', 'They', 'There', 'of', 'His', 'She', 'It', '\"According', 'Employees', 'Since', '\"Came']\n",
      "Number of samples:  143\n",
      "Stats: Labels with their frequencies in the final set\n",
      "ADV 73\n",
      "CCONJ 13\n",
      "PRON 11\n",
      "SCONJ 4\n",
      "ADP 42\n",
      "Number of tokens:  37\n",
      "length of source dictionary:  429\n",
      "length of target dictionary:  5\n",
      "37\n",
      "Total instances: 37\n",
      "['The', 'I', 'As', 'Cities', 'If', 'go', 'Its', 'Airfare', 'But', 'Well', 'Argentinian', 'All', 'Now', 'They', 'Therefore', 'There', 'You', 'This', '\"\"\"', 'According']\n",
      "Number of samples:  37\n",
      "Stats: Labels with their frequencies in the final set\n",
      "ADV 20\n",
      "CCONJ 4\n",
      "PRON 1\n",
      "SCONJ 1\n",
      "ADP 11\n",
      "Training classification probe\n",
      "Creating model...\n",
      "Number of training instances: 143\n",
      "Number of classes: 5\n"
     ]
    },
    {
     "data": {
      "application/json": {
       "ascii": false,
       "bar_format": null,
       "colour": null,
       "elapsed": 0.00839996337890625,
       "initial": 0,
       "n": 0,
       "ncols": null,
       "nrows": 24,
       "postfix": null,
       "prefix": "epoch [1/10]",
       "rate": null,
       "total": null,
       "unit": "it",
       "unit_divisor": 1000,
       "unit_scale": false
      },
      "application/vnd.jupyter.widget-view+json": {
       "model_id": "186026a2833d4f93b62f163ec05bb086",
       "version_major": 2,
       "version_minor": 0
      },
      "text/plain": [
       "epoch [1/10]: 0it [00:00, ?it/s]"
      ]
     },
     "metadata": {},
     "output_type": "display_data"
    },
    {
     "name": "stdout",
     "output_type": "stream",
     "text": [
      "Epoch: [1/10], Loss: 0.0536\n"
     ]
    },
    {
     "data": {
      "application/json": {
       "ascii": false,
       "bar_format": null,
       "colour": null,
       "elapsed": 0.008610248565673828,
       "initial": 0,
       "n": 0,
       "ncols": null,
       "nrows": 24,
       "postfix": null,
       "prefix": "epoch [2/10]",
       "rate": null,
       "total": null,
       "unit": "it",
       "unit_divisor": 1000,
       "unit_scale": false
      },
      "application/vnd.jupyter.widget-view+json": {
       "model_id": "949886f075154b70855348c4c7f079a1",
       "version_major": 2,
       "version_minor": 0
      },
      "text/plain": [
       "epoch [2/10]: 0it [00:00, ?it/s]"
      ]
     },
     "metadata": {},
     "output_type": "display_data"
    },
    {
     "name": "stdout",
     "output_type": "stream",
     "text": [
      "Epoch: [2/10], Loss: 0.0276\n"
     ]
    },
    {
     "data": {
      "application/json": {
       "ascii": false,
       "bar_format": null,
       "colour": null,
       "elapsed": 0.008820533752441406,
       "initial": 0,
       "n": 0,
       "ncols": null,
       "nrows": 24,
       "postfix": null,
       "prefix": "epoch [3/10]",
       "rate": null,
       "total": null,
       "unit": "it",
       "unit_divisor": 1000,
       "unit_scale": false
      },
      "application/vnd.jupyter.widget-view+json": {
       "model_id": "30b53776646e46f5ac1aa1be8957c9f5",
       "version_major": 2,
       "version_minor": 0
      },
      "text/plain": [
       "epoch [3/10]: 0it [00:00, ?it/s]"
      ]
     },
     "metadata": {},
     "output_type": "display_data"
    },
    {
     "name": "stdout",
     "output_type": "stream",
     "text": [
      "Epoch: [3/10], Loss: 0.0213\n"
     ]
    },
    {
     "data": {
      "application/json": {
       "ascii": false,
       "bar_format": null,
       "colour": null,
       "elapsed": 0.008771419525146484,
       "initial": 0,
       "n": 0,
       "ncols": null,
       "nrows": 24,
       "postfix": null,
       "prefix": "epoch [4/10]",
       "rate": null,
       "total": null,
       "unit": "it",
       "unit_divisor": 1000,
       "unit_scale": false
      },
      "application/vnd.jupyter.widget-view+json": {
       "model_id": "fdb8fac6642d4749a7049958fdf91968",
       "version_major": 2,
       "version_minor": 0
      },
      "text/plain": [
       "epoch [4/10]: 0it [00:00, ?it/s]"
      ]
     },
     "metadata": {},
     "output_type": "display_data"
    },
    {
     "name": "stdout",
     "output_type": "stream",
     "text": [
      "Epoch: [4/10], Loss: 0.0154\n"
     ]
    },
    {
     "data": {
      "application/json": {
       "ascii": false,
       "bar_format": null,
       "colour": null,
       "elapsed": 0.008913993835449219,
       "initial": 0,
       "n": 0,
       "ncols": null,
       "nrows": 24,
       "postfix": null,
       "prefix": "epoch [5/10]",
       "rate": null,
       "total": null,
       "unit": "it",
       "unit_divisor": 1000,
       "unit_scale": false
      },
      "application/vnd.jupyter.widget-view+json": {
       "model_id": "abfce292d0804f5b8fa34300a78623e4",
       "version_major": 2,
       "version_minor": 0
      },
      "text/plain": [
       "epoch [5/10]: 0it [00:00, ?it/s]"
      ]
     },
     "metadata": {},
     "output_type": "display_data"
    },
    {
     "name": "stdout",
     "output_type": "stream",
     "text": [
      "Epoch: [5/10], Loss: 0.0128\n"
     ]
    },
    {
     "data": {
      "application/json": {
       "ascii": false,
       "bar_format": null,
       "colour": null,
       "elapsed": 0.008982181549072266,
       "initial": 0,
       "n": 0,
       "ncols": null,
       "nrows": 24,
       "postfix": null,
       "prefix": "epoch [6/10]",
       "rate": null,
       "total": null,
       "unit": "it",
       "unit_divisor": 1000,
       "unit_scale": false
      },
      "application/vnd.jupyter.widget-view+json": {
       "model_id": "de073c8d5b9b4955b7603ead02ac04e2",
       "version_major": 2,
       "version_minor": 0
      },
      "text/plain": [
       "epoch [6/10]: 0it [00:00, ?it/s]"
      ]
     },
     "metadata": {},
     "output_type": "display_data"
    },
    {
     "name": "stdout",
     "output_type": "stream",
     "text": [
      "Epoch: [6/10], Loss: 0.0119\n"
     ]
    },
    {
     "data": {
      "application/json": {
       "ascii": false,
       "bar_format": null,
       "colour": null,
       "elapsed": 0.008917570114135742,
       "initial": 0,
       "n": 0,
       "ncols": null,
       "nrows": 24,
       "postfix": null,
       "prefix": "epoch [7/10]",
       "rate": null,
       "total": null,
       "unit": "it",
       "unit_divisor": 1000,
       "unit_scale": false
      },
      "application/vnd.jupyter.widget-view+json": {
       "model_id": "9ff58ebdc33e4f8f87c7c3ea88ed8880",
       "version_major": 2,
       "version_minor": 0
      },
      "text/plain": [
       "epoch [7/10]: 0it [00:00, ?it/s]"
      ]
     },
     "metadata": {},
     "output_type": "display_data"
    },
    {
     "name": "stdout",
     "output_type": "stream",
     "text": [
      "Epoch: [7/10], Loss: 0.0114\n"
     ]
    },
    {
     "data": {
      "application/json": {
       "ascii": false,
       "bar_format": null,
       "colour": null,
       "elapsed": 0.009630441665649414,
       "initial": 0,
       "n": 0,
       "ncols": null,
       "nrows": 24,
       "postfix": null,
       "prefix": "epoch [8/10]",
       "rate": null,
       "total": null,
       "unit": "it",
       "unit_divisor": 1000,
       "unit_scale": false
      },
      "application/vnd.jupyter.widget-view+json": {
       "model_id": "3fba52f3b80e47b0aabb0f57dcb0006d",
       "version_major": 2,
       "version_minor": 0
      },
      "text/plain": [
       "epoch [8/10]: 0it [00:00, ?it/s]"
      ]
     },
     "metadata": {},
     "output_type": "display_data"
    },
    {
     "name": "stdout",
     "output_type": "stream",
     "text": [
      "Epoch: [8/10], Loss: 0.0108\n"
     ]
    },
    {
     "data": {
      "application/json": {
       "ascii": false,
       "bar_format": null,
       "colour": null,
       "elapsed": 0.009056568145751953,
       "initial": 0,
       "n": 0,
       "ncols": null,
       "nrows": 24,
       "postfix": null,
       "prefix": "epoch [9/10]",
       "rate": null,
       "total": null,
       "unit": "it",
       "unit_divisor": 1000,
       "unit_scale": false
      },
      "application/vnd.jupyter.widget-view+json": {
       "model_id": "0405c8e4cdfa4338ae2b33f0a8f39736",
       "version_major": 2,
       "version_minor": 0
      },
      "text/plain": [
       "epoch [9/10]: 0it [00:00, ?it/s]"
      ]
     },
     "metadata": {},
     "output_type": "display_data"
    },
    {
     "name": "stdout",
     "output_type": "stream",
     "text": [
      "Epoch: [9/10], Loss: 0.0104\n"
     ]
    },
    {
     "data": {
      "application/json": {
       "ascii": false,
       "bar_format": null,
       "colour": null,
       "elapsed": 0.00886678695678711,
       "initial": 0,
       "n": 0,
       "ncols": null,
       "nrows": 24,
       "postfix": null,
       "prefix": "epoch [10/10]",
       "rate": null,
       "total": null,
       "unit": "it",
       "unit_divisor": 1000,
       "unit_scale": false
      },
      "application/vnd.jupyter.widget-view+json": {
       "model_id": "7ce9bbe9d09649598132148bf3906f5f",
       "version_major": 2,
       "version_minor": 0
      },
      "text/plain": [
       "epoch [10/10]: 0it [00:00, ?it/s]"
      ]
     },
     "metadata": {},
     "output_type": "display_data"
    },
    {
     "name": "stdout",
     "output_type": "stream",
     "text": [
      "Epoch: [10/10], Loss: 0.0100\n"
     ]
    },
    {
     "data": {
      "application/json": {
       "ascii": false,
       "bar_format": null,
       "colour": null,
       "elapsed": 0.008995771408081055,
       "initial": 0,
       "n": 0,
       "ncols": null,
       "nrows": 24,
       "postfix": null,
       "prefix": "Evaluating",
       "rate": null,
       "total": null,
       "unit": "it",
       "unit_divisor": 1000,
       "unit_scale": false
      },
      "application/vnd.jupyter.widget-view+json": {
       "model_id": "48bd417abbcc4619a11ec84b698cee6a",
       "version_major": 2,
       "version_minor": 0
      },
      "text/plain": [
       "Evaluating: 0it [00:00, ?it/s]"
      ]
     },
     "metadata": {},
     "output_type": "display_data"
    },
    {
     "name": "stdout",
     "output_type": "stream",
     "text": [
      "Score (accuracy) of the probe: 1.00\n"
     ]
    },
    {
     "data": {
      "application/json": {
       "ascii": false,
       "bar_format": null,
       "colour": null,
       "elapsed": 0.009128093719482422,
       "initial": 0,
       "n": 0,
       "ncols": null,
       "nrows": 24,
       "postfix": null,
       "prefix": "Evaluating",
       "rate": null,
       "total": null,
       "unit": "it",
       "unit_divisor": 1000,
       "unit_scale": false
      },
      "application/vnd.jupyter.widget-view+json": {
       "model_id": "9513584250fb431796977b6b7dc5f81a",
       "version_major": 2,
       "version_minor": 0
      },
      "text/plain": [
       "Evaluating: 0it [00:00, ?it/s]"
      ]
     },
     "metadata": {},
     "output_type": "display_data"
    },
    {
     "name": "stdout",
     "output_type": "stream",
     "text": [
      "Score (accuracy) of the probe: 0.59\n"
     ]
    },
    {
     "data": {
      "application/json": {
       "ascii": false,
       "bar_format": null,
       "colour": null,
       "elapsed": 0.008360147476196289,
       "initial": 0,
       "n": 0,
       "ncols": null,
       "nrows": 24,
       "postfix": null,
       "prefix": "",
       "rate": null,
       "total": 101,
       "unit": "it",
       "unit_divisor": 1000,
       "unit_scale": false
      },
      "application/vnd.jupyter.widget-view+json": {
       "model_id": "ac48a30bdd6d48688ffc573a457834e7",
       "version_major": 2,
       "version_minor": 0
      },
      "text/plain": [
       "  0%|          | 0/101 [00:00<?, ?it/s]"
      ]
     },
     "metadata": {},
     "output_type": "display_data"
    },
    {
     "name": "stdout",
     "output_type": "stream",
     "text": [
      "Loading json activations from /home/senya/Документы/project/large_data_en_ewt/data_Mood/activations_train.json...\n",
      "1571 13.0\n",
      "Loading json activations from /home/senya/Документы/project/large_data_en_ewt/data_Mood/activations_te.json...\n",
      "481 13.0\n",
      "Number of tokens:  1571\n",
      "length of source dictionary:  5559\n",
      "length of target dictionary:  3\n",
      "1571\n",
      "Total instances: 1571\n",
      "['2', '\"Set', 'What', 'Microsoft', 'figure', 'Stay', 'they', '\"Don', 'Use', 'During', 'Louisiana', 'Is', '--', 'A', 'Offer', 'My', 'Treat', 'They', 'close', 'Ignore']\n",
      "Number of samples:  1571\n",
      "Stats: Labels with their frequencies in the final set\n",
      "Ind 867\n",
      "Sub 5\n",
      "Imp 699\n",
      "Number of tokens:  481\n",
      "length of source dictionary:  2332\n",
      "length of target dictionary:  3\n",
      "481\n",
      "Total instances: 481\n",
      "['buy', 'i', 'American', 'so', 'Talk', 'don', 'Ginny', 'Ben', 'What', 'Make', 'give', 'Carve', 'why', 'they', 'Lets', 'Use', 'Find', 'Work', 'Wei', 'Is']\n",
      "Number of samples:  481\n",
      "Stats: Labels with their frequencies in the final set\n",
      "Ind 300\n",
      "Sub 2\n",
      "Imp 179\n",
      "Training classification probe\n",
      "Creating model...\n",
      "Number of training instances: 1571\n",
      "Number of classes: 3\n"
     ]
    },
    {
     "data": {
      "application/json": {
       "ascii": false,
       "bar_format": null,
       "colour": null,
       "elapsed": 0.00836038589477539,
       "initial": 0,
       "n": 0,
       "ncols": null,
       "nrows": 24,
       "postfix": null,
       "prefix": "epoch [1/10]",
       "rate": null,
       "total": null,
       "unit": "it",
       "unit_divisor": 1000,
       "unit_scale": false
      },
      "application/vnd.jupyter.widget-view+json": {
       "model_id": "f737fec80ee545d4876feb6159ca5d18",
       "version_major": 2,
       "version_minor": 0
      },
      "text/plain": [
       "epoch [1/10]: 0it [00:00, ?it/s]"
      ]
     },
     "metadata": {},
     "output_type": "display_data"
    },
    {
     "name": "stdout",
     "output_type": "stream",
     "text": [
      "Epoch: [1/10], Loss: 0.0140\n"
     ]
    },
    {
     "data": {
      "application/json": {
       "ascii": false,
       "bar_format": null,
       "colour": null,
       "elapsed": 0.008500099182128906,
       "initial": 0,
       "n": 0,
       "ncols": null,
       "nrows": 24,
       "postfix": null,
       "prefix": "epoch [2/10]",
       "rate": null,
       "total": null,
       "unit": "it",
       "unit_divisor": 1000,
       "unit_scale": false
      },
      "application/vnd.jupyter.widget-view+json": {
       "model_id": "f64a388b29eb42a7991316f2da069635",
       "version_major": 2,
       "version_minor": 0
      },
      "text/plain": [
       "epoch [2/10]: 0it [00:00, ?it/s]"
      ]
     },
     "metadata": {},
     "output_type": "display_data"
    },
    {
     "name": "stdout",
     "output_type": "stream",
     "text": [
      "Epoch: [2/10], Loss: 0.0078\n"
     ]
    },
    {
     "data": {
      "application/json": {
       "ascii": false,
       "bar_format": null,
       "colour": null,
       "elapsed": 0.008473634719848633,
       "initial": 0,
       "n": 0,
       "ncols": null,
       "nrows": 24,
       "postfix": null,
       "prefix": "epoch [3/10]",
       "rate": null,
       "total": null,
       "unit": "it",
       "unit_divisor": 1000,
       "unit_scale": false
      },
      "application/vnd.jupyter.widget-view+json": {
       "model_id": "b7e46bdc09fc42dfb4f497b2f3ff4d22",
       "version_major": 2,
       "version_minor": 0
      },
      "text/plain": [
       "epoch [3/10]: 0it [00:00, ?it/s]"
      ]
     },
     "metadata": {},
     "output_type": "display_data"
    },
    {
     "name": "stdout",
     "output_type": "stream",
     "text": [
      "Epoch: [3/10], Loss: 0.0067\n"
     ]
    },
    {
     "data": {
      "application/json": {
       "ascii": false,
       "bar_format": null,
       "colour": null,
       "elapsed": 0.008556842803955078,
       "initial": 0,
       "n": 0,
       "ncols": null,
       "nrows": 24,
       "postfix": null,
       "prefix": "epoch [4/10]",
       "rate": null,
       "total": null,
       "unit": "it",
       "unit_divisor": 1000,
       "unit_scale": false
      },
      "application/vnd.jupyter.widget-view+json": {
       "model_id": "28a6385d00d04350bd940e5459930e28",
       "version_major": 2,
       "version_minor": 0
      },
      "text/plain": [
       "epoch [4/10]: 0it [00:00, ?it/s]"
      ]
     },
     "metadata": {},
     "output_type": "display_data"
    },
    {
     "name": "stdout",
     "output_type": "stream",
     "text": [
      "Epoch: [4/10], Loss: 0.0062\n"
     ]
    },
    {
     "data": {
      "application/json": {
       "ascii": false,
       "bar_format": null,
       "colour": null,
       "elapsed": 0.008527278900146484,
       "initial": 0,
       "n": 0,
       "ncols": null,
       "nrows": 24,
       "postfix": null,
       "prefix": "epoch [5/10]",
       "rate": null,
       "total": null,
       "unit": "it",
       "unit_divisor": 1000,
       "unit_scale": false
      },
      "application/vnd.jupyter.widget-view+json": {
       "model_id": "dccf0d3d453e4b0eb656674f5facaa79",
       "version_major": 2,
       "version_minor": 0
      },
      "text/plain": [
       "epoch [5/10]: 0it [00:00, ?it/s]"
      ]
     },
     "metadata": {},
     "output_type": "display_data"
    },
    {
     "name": "stdout",
     "output_type": "stream",
     "text": [
      "Epoch: [5/10], Loss: 0.0058\n"
     ]
    },
    {
     "data": {
      "application/json": {
       "ascii": false,
       "bar_format": null,
       "colour": null,
       "elapsed": 0.00862264633178711,
       "initial": 0,
       "n": 0,
       "ncols": null,
       "nrows": 24,
       "postfix": null,
       "prefix": "epoch [6/10]",
       "rate": null,
       "total": null,
       "unit": "it",
       "unit_divisor": 1000,
       "unit_scale": false
      },
      "application/vnd.jupyter.widget-view+json": {
       "model_id": "4fcb662f4ff74fb18422d406847de552",
       "version_major": 2,
       "version_minor": 0
      },
      "text/plain": [
       "epoch [6/10]: 0it [00:00, ?it/s]"
      ]
     },
     "metadata": {},
     "output_type": "display_data"
    },
    {
     "name": "stdout",
     "output_type": "stream",
     "text": [
      "Epoch: [6/10], Loss: 0.0054\n"
     ]
    },
    {
     "data": {
      "application/json": {
       "ascii": false,
       "bar_format": null,
       "colour": null,
       "elapsed": 0.008665084838867188,
       "initial": 0,
       "n": 0,
       "ncols": null,
       "nrows": 24,
       "postfix": null,
       "prefix": "epoch [7/10]",
       "rate": null,
       "total": null,
       "unit": "it",
       "unit_divisor": 1000,
       "unit_scale": false
      },
      "application/vnd.jupyter.widget-view+json": {
       "model_id": "5e94385e35e0448cac7deebcea256965",
       "version_major": 2,
       "version_minor": 0
      },
      "text/plain": [
       "epoch [7/10]: 0it [00:00, ?it/s]"
      ]
     },
     "metadata": {},
     "output_type": "display_data"
    },
    {
     "name": "stdout",
     "output_type": "stream",
     "text": [
      "Epoch: [7/10], Loss: 0.0051\n"
     ]
    },
    {
     "data": {
      "application/json": {
       "ascii": false,
       "bar_format": null,
       "colour": null,
       "elapsed": 0.008617162704467773,
       "initial": 0,
       "n": 0,
       "ncols": null,
       "nrows": 24,
       "postfix": null,
       "prefix": "epoch [8/10]",
       "rate": null,
       "total": null,
       "unit": "it",
       "unit_divisor": 1000,
       "unit_scale": false
      },
      "application/vnd.jupyter.widget-view+json": {
       "model_id": "c0045255067c4db290166c26fa549edf",
       "version_major": 2,
       "version_minor": 0
      },
      "text/plain": [
       "epoch [8/10]: 0it [00:00, ?it/s]"
      ]
     },
     "metadata": {},
     "output_type": "display_data"
    },
    {
     "name": "stdout",
     "output_type": "stream",
     "text": [
      "Epoch: [8/10], Loss: 0.0049\n"
     ]
    },
    {
     "data": {
      "application/json": {
       "ascii": false,
       "bar_format": null,
       "colour": null,
       "elapsed": 0.00864100456237793,
       "initial": 0,
       "n": 0,
       "ncols": null,
       "nrows": 24,
       "postfix": null,
       "prefix": "epoch [9/10]",
       "rate": null,
       "total": null,
       "unit": "it",
       "unit_divisor": 1000,
       "unit_scale": false
      },
      "application/vnd.jupyter.widget-view+json": {
       "model_id": "15fb3418efa24562a977ccfd2c7dd5b6",
       "version_major": 2,
       "version_minor": 0
      },
      "text/plain": [
       "epoch [9/10]: 0it [00:00, ?it/s]"
      ]
     },
     "metadata": {},
     "output_type": "display_data"
    },
    {
     "name": "stdout",
     "output_type": "stream",
     "text": [
      "Epoch: [9/10], Loss: 0.0048\n"
     ]
    },
    {
     "data": {
      "application/json": {
       "ascii": false,
       "bar_format": null,
       "colour": null,
       "elapsed": 0.009295225143432617,
       "initial": 0,
       "n": 0,
       "ncols": null,
       "nrows": 24,
       "postfix": null,
       "prefix": "epoch [10/10]",
       "rate": null,
       "total": null,
       "unit": "it",
       "unit_divisor": 1000,
       "unit_scale": false
      },
      "application/vnd.jupyter.widget-view+json": {
       "model_id": "75d350645c154f748f20d792afb9895a",
       "version_major": 2,
       "version_minor": 0
      },
      "text/plain": [
       "epoch [10/10]: 0it [00:00, ?it/s]"
      ]
     },
     "metadata": {},
     "output_type": "display_data"
    },
    {
     "name": "stdout",
     "output_type": "stream",
     "text": [
      "Epoch: [10/10], Loss: 0.0048\n"
     ]
    },
    {
     "data": {
      "application/json": {
       "ascii": false,
       "bar_format": null,
       "colour": null,
       "elapsed": 0.009117841720581055,
       "initial": 0,
       "n": 0,
       "ncols": null,
       "nrows": 24,
       "postfix": null,
       "prefix": "Evaluating",
       "rate": null,
       "total": null,
       "unit": "it",
       "unit_divisor": 1000,
       "unit_scale": false
      },
      "application/vnd.jupyter.widget-view+json": {
       "model_id": "a2e6701783ee40208ab9e711deedf8fd",
       "version_major": 2,
       "version_minor": 0
      },
      "text/plain": [
       "Evaluating: 0it [00:00, ?it/s]"
      ]
     },
     "metadata": {},
     "output_type": "display_data"
    },
    {
     "name": "stdout",
     "output_type": "stream",
     "text": [
      "Score (accuracy) of the probe: 0.99\n"
     ]
    },
    {
     "data": {
      "application/json": {
       "ascii": false,
       "bar_format": null,
       "colour": null,
       "elapsed": 0.008895158767700195,
       "initial": 0,
       "n": 0,
       "ncols": null,
       "nrows": 24,
       "postfix": null,
       "prefix": "Evaluating",
       "rate": null,
       "total": null,
       "unit": "it",
       "unit_divisor": 1000,
       "unit_scale": false
      },
      "application/vnd.jupyter.widget-view+json": {
       "model_id": "f47e846de4f646ee8cd38dd773d5fd80",
       "version_major": 2,
       "version_minor": 0
      },
      "text/plain": [
       "Evaluating: 0it [00:00, ?it/s]"
      ]
     },
     "metadata": {},
     "output_type": "display_data"
    },
    {
     "name": "stdout",
     "output_type": "stream",
     "text": [
      "Score (accuracy) of the probe: 0.95\n"
     ]
    },
    {
     "data": {
      "application/json": {
       "ascii": false,
       "bar_format": null,
       "colour": null,
       "elapsed": 0.008334636688232422,
       "initial": 0,
       "n": 0,
       "ncols": null,
       "nrows": 24,
       "postfix": null,
       "prefix": "",
       "rate": null,
       "total": 101,
       "unit": "it",
       "unit_divisor": 1000,
       "unit_scale": false
      },
      "application/vnd.jupyter.widget-view+json": {
       "model_id": "b1d64e9f6a4447ea8546d76bd4e5d912",
       "version_major": 2,
       "version_minor": 0
      },
      "text/plain": [
       "  0%|          | 0/101 [00:00<?, ?it/s]"
      ]
     },
     "metadata": {},
     "output_type": "display_data"
    },
    {
     "name": "stdout",
     "output_type": "stream",
     "text": [
      "Loading json activations from /home/senya/Документы/project/large_data_en_ewt/data_Gender/activations_train.json...\n",
      "1936 13.0\n",
      "Loading json activations from /home/senya/Документы/project/large_data_en_ewt/data_Gender/activations_te.json...\n",
      "482 13.0\n",
      "Number of tokens:  1936\n",
      "length of source dictionary:  6506\n",
      "length of target dictionary:  3\n",
      "1936\n",
      "Total instances: 1936\n",
      "['Outside', '49', 'looks', 'What', 'SHE', '1562', 'they', '\"Her', 'During', 'Is', 'Like', 'Owner', 'Tina', 'A', 'Budgies', 'Investigators', '1561', 'My', 'They', 'close']\n",
      "Number of samples:  1936\n",
      "Stats: Labels with their frequencies in the final set\n",
      "Fem 278\n",
      "Masc 791\n",
      "Neut 867\n",
      "Number of tokens:  482\n",
      "length of source dictionary:  2420\n",
      "length of target dictionary:  3\n",
      "482\n",
      "Total instances: 482\n",
      "['i', 'North', 'Lied', 'Technically', 'Superior', 'What', 'Make', 'why', 'Find', 'During', 'Is', 'Truly', 'could', 'A', 'Well', 'Daniel', 'no', 'Please', 'Wendi', 'Luckily']\n",
      "Number of samples:  482\n",
      "Stats: Labels with their frequencies in the final set\n",
      "Masc 132\n",
      "Fem 50\n",
      "Neut 300\n",
      "Training classification probe\n",
      "Creating model...\n",
      "Number of training instances: 1936\n",
      "Number of classes: 3\n"
     ]
    },
    {
     "data": {
      "application/json": {
       "ascii": false,
       "bar_format": null,
       "colour": null,
       "elapsed": 0.008554220199584961,
       "initial": 0,
       "n": 0,
       "ncols": null,
       "nrows": 24,
       "postfix": null,
       "prefix": "epoch [1/10]",
       "rate": null,
       "total": null,
       "unit": "it",
       "unit_divisor": 1000,
       "unit_scale": false
      },
      "application/vnd.jupyter.widget-view+json": {
       "model_id": "19d13b6e2f914dcfa7a30080489ca774",
       "version_major": 2,
       "version_minor": 0
      },
      "text/plain": [
       "epoch [1/10]: 0it [00:00, ?it/s]"
      ]
     },
     "metadata": {},
     "output_type": "display_data"
    },
    {
     "name": "stdout",
     "output_type": "stream",
     "text": [
      "Epoch: [1/10], Loss: 0.0281\n"
     ]
    },
    {
     "data": {
      "application/json": {
       "ascii": false,
       "bar_format": null,
       "colour": null,
       "elapsed": 0.008547306060791016,
       "initial": 0,
       "n": 0,
       "ncols": null,
       "nrows": 24,
       "postfix": null,
       "prefix": "epoch [2/10]",
       "rate": null,
       "total": null,
       "unit": "it",
       "unit_divisor": 1000,
       "unit_scale": false
      },
      "application/vnd.jupyter.widget-view+json": {
       "model_id": "2963d7f301fd491894c13f1e044ef36e",
       "version_major": 2,
       "version_minor": 0
      },
      "text/plain": [
       "epoch [2/10]: 0it [00:00, ?it/s]"
      ]
     },
     "metadata": {},
     "output_type": "display_data"
    },
    {
     "name": "stdout",
     "output_type": "stream",
     "text": [
      "Epoch: [2/10], Loss: 0.0185\n"
     ]
    },
    {
     "data": {
      "application/json": {
       "ascii": false,
       "bar_format": null,
       "colour": null,
       "elapsed": 0.008441686630249023,
       "initial": 0,
       "n": 0,
       "ncols": null,
       "nrows": 24,
       "postfix": null,
       "prefix": "epoch [3/10]",
       "rate": null,
       "total": null,
       "unit": "it",
       "unit_divisor": 1000,
       "unit_scale": false
      },
      "application/vnd.jupyter.widget-view+json": {
       "model_id": "e78eb6c30c564f4685987916327b8871",
       "version_major": 2,
       "version_minor": 0
      },
      "text/plain": [
       "epoch [3/10]: 0it [00:00, ?it/s]"
      ]
     },
     "metadata": {},
     "output_type": "display_data"
    },
    {
     "name": "stdout",
     "output_type": "stream",
     "text": [
      "Epoch: [3/10], Loss: 0.0146\n"
     ]
    },
    {
     "data": {
      "application/json": {
       "ascii": false,
       "bar_format": null,
       "colour": null,
       "elapsed": 0.008767366409301758,
       "initial": 0,
       "n": 0,
       "ncols": null,
       "nrows": 24,
       "postfix": null,
       "prefix": "epoch [4/10]",
       "rate": null,
       "total": null,
       "unit": "it",
       "unit_divisor": 1000,
       "unit_scale": false
      },
      "application/vnd.jupyter.widget-view+json": {
       "model_id": "8789a74e0be24bdca1551cad76f31d7b",
       "version_major": 2,
       "version_minor": 0
      },
      "text/plain": [
       "epoch [4/10]: 0it [00:00, ?it/s]"
      ]
     },
     "metadata": {},
     "output_type": "display_data"
    },
    {
     "name": "stdout",
     "output_type": "stream",
     "text": [
      "Epoch: [4/10], Loss: 0.0131\n"
     ]
    },
    {
     "data": {
      "application/json": {
       "ascii": false,
       "bar_format": null,
       "colour": null,
       "elapsed": 0.008632421493530273,
       "initial": 0,
       "n": 0,
       "ncols": null,
       "nrows": 24,
       "postfix": null,
       "prefix": "epoch [5/10]",
       "rate": null,
       "total": null,
       "unit": "it",
       "unit_divisor": 1000,
       "unit_scale": false
      },
      "application/vnd.jupyter.widget-view+json": {
       "model_id": "d78cd61128dd4f118168539f845c5133",
       "version_major": 2,
       "version_minor": 0
      },
      "text/plain": [
       "epoch [5/10]: 0it [00:00, ?it/s]"
      ]
     },
     "metadata": {},
     "output_type": "display_data"
    },
    {
     "name": "stdout",
     "output_type": "stream",
     "text": [
      "Epoch: [5/10], Loss: 0.0125\n"
     ]
    },
    {
     "data": {
      "application/json": {
       "ascii": false,
       "bar_format": null,
       "colour": null,
       "elapsed": 0.008611202239990234,
       "initial": 0,
       "n": 0,
       "ncols": null,
       "nrows": 24,
       "postfix": null,
       "prefix": "epoch [6/10]",
       "rate": null,
       "total": null,
       "unit": "it",
       "unit_divisor": 1000,
       "unit_scale": false
      },
      "application/vnd.jupyter.widget-view+json": {
       "model_id": "11a3e79940774c909dd648e8f65a91cf",
       "version_major": 2,
       "version_minor": 0
      },
      "text/plain": [
       "epoch [6/10]: 0it [00:00, ?it/s]"
      ]
     },
     "metadata": {},
     "output_type": "display_data"
    },
    {
     "name": "stdout",
     "output_type": "stream",
     "text": [
      "Epoch: [6/10], Loss: 0.0122\n"
     ]
    },
    {
     "data": {
      "application/json": {
       "ascii": false,
       "bar_format": null,
       "colour": null,
       "elapsed": 0.008646726608276367,
       "initial": 0,
       "n": 0,
       "ncols": null,
       "nrows": 24,
       "postfix": null,
       "prefix": "epoch [7/10]",
       "rate": null,
       "total": null,
       "unit": "it",
       "unit_divisor": 1000,
       "unit_scale": false
      },
      "application/vnd.jupyter.widget-view+json": {
       "model_id": "b17833d7b01e46f587585a83b7e8c6eb",
       "version_major": 2,
       "version_minor": 0
      },
      "text/plain": [
       "epoch [7/10]: 0it [00:00, ?it/s]"
      ]
     },
     "metadata": {},
     "output_type": "display_data"
    },
    {
     "name": "stdout",
     "output_type": "stream",
     "text": [
      "Epoch: [7/10], Loss: 0.0120\n"
     ]
    },
    {
     "data": {
      "application/json": {
       "ascii": false,
       "bar_format": null,
       "colour": null,
       "elapsed": 0.008796930313110352,
       "initial": 0,
       "n": 0,
       "ncols": null,
       "nrows": 24,
       "postfix": null,
       "prefix": "epoch [8/10]",
       "rate": null,
       "total": null,
       "unit": "it",
       "unit_divisor": 1000,
       "unit_scale": false
      },
      "application/vnd.jupyter.widget-view+json": {
       "model_id": "c71d14852c89496296fc530d6324e08e",
       "version_major": 2,
       "version_minor": 0
      },
      "text/plain": [
       "epoch [8/10]: 0it [00:00, ?it/s]"
      ]
     },
     "metadata": {},
     "output_type": "display_data"
    },
    {
     "name": "stdout",
     "output_type": "stream",
     "text": [
      "Epoch: [8/10], Loss: 0.0119\n"
     ]
    },
    {
     "data": {
      "application/json": {
       "ascii": false,
       "bar_format": null,
       "colour": null,
       "elapsed": 0.008692741394042969,
       "initial": 0,
       "n": 0,
       "ncols": null,
       "nrows": 24,
       "postfix": null,
       "prefix": "epoch [9/10]",
       "rate": null,
       "total": null,
       "unit": "it",
       "unit_divisor": 1000,
       "unit_scale": false
      },
      "application/vnd.jupyter.widget-view+json": {
       "model_id": "d6c16a72c9af40558653c3c03c2b2e83",
       "version_major": 2,
       "version_minor": 0
      },
      "text/plain": [
       "epoch [9/10]: 0it [00:00, ?it/s]"
      ]
     },
     "metadata": {},
     "output_type": "display_data"
    },
    {
     "name": "stdout",
     "output_type": "stream",
     "text": [
      "Epoch: [9/10], Loss: 0.0120\n"
     ]
    },
    {
     "data": {
      "application/json": {
       "ascii": false,
       "bar_format": null,
       "colour": null,
       "elapsed": 0.008609533309936523,
       "initial": 0,
       "n": 0,
       "ncols": null,
       "nrows": 24,
       "postfix": null,
       "prefix": "epoch [10/10]",
       "rate": null,
       "total": null,
       "unit": "it",
       "unit_divisor": 1000,
       "unit_scale": false
      },
      "application/vnd.jupyter.widget-view+json": {
       "model_id": "ab4bc2fdbfbc405a882a52ad9e6b48c5",
       "version_major": 2,
       "version_minor": 0
      },
      "text/plain": [
       "epoch [10/10]: 0it [00:00, ?it/s]"
      ]
     },
     "metadata": {},
     "output_type": "display_data"
    },
    {
     "name": "stdout",
     "output_type": "stream",
     "text": [
      "Epoch: [10/10], Loss: 0.0121\n"
     ]
    },
    {
     "data": {
      "application/json": {
       "ascii": false,
       "bar_format": null,
       "colour": null,
       "elapsed": 0.009810924530029297,
       "initial": 0,
       "n": 0,
       "ncols": null,
       "nrows": 24,
       "postfix": null,
       "prefix": "Evaluating",
       "rate": null,
       "total": null,
       "unit": "it",
       "unit_divisor": 1000,
       "unit_scale": false
      },
      "application/vnd.jupyter.widget-view+json": {
       "model_id": "027451c10c1c43a7b46366da49c4e877",
       "version_major": 2,
       "version_minor": 0
      },
      "text/plain": [
       "Evaluating: 0it [00:00, ?it/s]"
      ]
     },
     "metadata": {},
     "output_type": "display_data"
    },
    {
     "name": "stdout",
     "output_type": "stream",
     "text": [
      "Score (accuracy) of the probe: 0.96\n"
     ]
    },
    {
     "data": {
      "application/json": {
       "ascii": false,
       "bar_format": null,
       "colour": null,
       "elapsed": 0.008808374404907227,
       "initial": 0,
       "n": 0,
       "ncols": null,
       "nrows": 24,
       "postfix": null,
       "prefix": "Evaluating",
       "rate": null,
       "total": null,
       "unit": "it",
       "unit_divisor": 1000,
       "unit_scale": false
      },
      "application/vnd.jupyter.widget-view+json": {
       "model_id": "3f4eee653bbc4149970eaebaa482ac6b",
       "version_major": 2,
       "version_minor": 0
      },
      "text/plain": [
       "Evaluating: 0it [00:00, ?it/s]"
      ]
     },
     "metadata": {},
     "output_type": "display_data"
    },
    {
     "name": "stdout",
     "output_type": "stream",
     "text": [
      "Score (accuracy) of the probe: 0.62\n"
     ]
    },
    {
     "data": {
      "application/json": {
       "ascii": false,
       "bar_format": null,
       "colour": null,
       "elapsed": 0.00788736343383789,
       "initial": 0,
       "n": 0,
       "ncols": null,
       "nrows": 24,
       "postfix": null,
       "prefix": "",
       "rate": null,
       "total": 101,
       "unit": "it",
       "unit_divisor": 1000,
       "unit_scale": false
      },
      "application/vnd.jupyter.widget-view+json": {
       "model_id": "89b0f2ea9d0e41819ee28203c10401c0",
       "version_major": 2,
       "version_minor": 0
      },
      "text/plain": [
       "  0%|          | 0/101 [00:00<?, ?it/s]"
      ]
     },
     "metadata": {},
     "output_type": "display_data"
    },
    {
     "name": "stdout",
     "output_type": "stream",
     "text": [
      "Loading json activations from /home/senya/Документы/project/large_data_en_ewt/data_Case/activations_train.json...\n",
      "2291 13.0\n",
      "Loading json activations from /home/senya/Документы/project/large_data_en_ewt/data_Case/activations_te.json...\n",
      "683 13.0\n",
      "Number of tokens:  2291\n",
      "length of source dictionary:  7587\n",
      "length of target dictionary:  3\n",
      "2291\n",
      "Total instances: 2291\n",
      "['Fresh', '2', 'Torrey', 'Hot', '49', '\"Set', 'What', 'SHE', 'Microsoft', '1562', 'they', '\"Her', 'Use', 'following', 'During', 'Is', 'Beth', 'Louisiana', '14', 'Like']\n",
      "Number of samples:  2291\n",
      "Stats: Labels with their frequencies in the final set\n",
      "Gen 867\n",
      "Acc 557\n",
      "Nom 867\n",
      "Number of tokens:  683\n",
      "length of source dictionary:  3002\n",
      "length of target dictionary:  3\n",
      "683\n",
      "Total instances: 683\n",
      "['buy', 'i', 'ps', 'North', 'Lied', 'Talk', 'ive', 'Superior', 'Abbas', '\"You', 'What', 'Make', 'Carve', '\"Authorised', 'why', 'they', 'Lets', 'give', 'Find', 'Destiny']\n",
      "Number of samples:  683\n",
      "Stats: Labels with their frequencies in the final set\n",
      "Gen 228\n",
      "Acc 155\n",
      "Nom 300\n",
      "Training classification probe\n",
      "Creating model...\n",
      "Number of training instances: 2291\n",
      "Number of classes: 3\n"
     ]
    },
    {
     "data": {
      "application/json": {
       "ascii": false,
       "bar_format": null,
       "colour": null,
       "elapsed": 0.00846242904663086,
       "initial": 0,
       "n": 0,
       "ncols": null,
       "nrows": 24,
       "postfix": null,
       "prefix": "epoch [1/10]",
       "rate": null,
       "total": null,
       "unit": "it",
       "unit_divisor": 1000,
       "unit_scale": false
      },
      "application/vnd.jupyter.widget-view+json": {
       "model_id": "9d359c1c8a824e018c2cb4f17fdb5f76",
       "version_major": 2,
       "version_minor": 0
      },
      "text/plain": [
       "epoch [1/10]: 0it [00:00, ?it/s]"
      ]
     },
     "metadata": {},
     "output_type": "display_data"
    },
    {
     "name": "stdout",
     "output_type": "stream",
     "text": [
      "Epoch: [1/10], Loss: 0.0318\n"
     ]
    },
    {
     "data": {
      "application/json": {
       "ascii": false,
       "bar_format": null,
       "colour": null,
       "elapsed": 0.008456707000732422,
       "initial": 0,
       "n": 0,
       "ncols": null,
       "nrows": 24,
       "postfix": null,
       "prefix": "epoch [2/10]",
       "rate": null,
       "total": null,
       "unit": "it",
       "unit_divisor": 1000,
       "unit_scale": false
      },
      "application/vnd.jupyter.widget-view+json": {
       "model_id": "0a35532ce4974e0aadf6d148197c69ec",
       "version_major": 2,
       "version_minor": 0
      },
      "text/plain": [
       "epoch [2/10]: 0it [00:00, ?it/s]"
      ]
     },
     "metadata": {},
     "output_type": "display_data"
    },
    {
     "name": "stdout",
     "output_type": "stream",
     "text": [
      "Epoch: [2/10], Loss: 0.0217\n"
     ]
    },
    {
     "data": {
      "application/json": {
       "ascii": false,
       "bar_format": null,
       "colour": null,
       "elapsed": 0.008533477783203125,
       "initial": 0,
       "n": 0,
       "ncols": null,
       "nrows": 24,
       "postfix": null,
       "prefix": "epoch [3/10]",
       "rate": null,
       "total": null,
       "unit": "it",
       "unit_divisor": 1000,
       "unit_scale": false
      },
      "application/vnd.jupyter.widget-view+json": {
       "model_id": "aecb246e43fa4bc89848638f0410cef4",
       "version_major": 2,
       "version_minor": 0
      },
      "text/plain": [
       "epoch [3/10]: 0it [00:00, ?it/s]"
      ]
     },
     "metadata": {},
     "output_type": "display_data"
    },
    {
     "name": "stdout",
     "output_type": "stream",
     "text": [
      "Epoch: [3/10], Loss: 0.0192\n"
     ]
    },
    {
     "data": {
      "application/json": {
       "ascii": false,
       "bar_format": null,
       "colour": null,
       "elapsed": 0.008539199829101562,
       "initial": 0,
       "n": 0,
       "ncols": null,
       "nrows": 24,
       "postfix": null,
       "prefix": "epoch [4/10]",
       "rate": null,
       "total": null,
       "unit": "it",
       "unit_divisor": 1000,
       "unit_scale": false
      },
      "application/vnd.jupyter.widget-view+json": {
       "model_id": "35e66a6295a04ad1b90291b14fd624eb",
       "version_major": 2,
       "version_minor": 0
      },
      "text/plain": [
       "epoch [4/10]: 0it [00:00, ?it/s]"
      ]
     },
     "metadata": {},
     "output_type": "display_data"
    },
    {
     "name": "stdout",
     "output_type": "stream",
     "text": [
      "Epoch: [4/10], Loss: 0.0180\n"
     ]
    },
    {
     "data": {
      "application/json": {
       "ascii": false,
       "bar_format": null,
       "colour": null,
       "elapsed": 0.008624076843261719,
       "initial": 0,
       "n": 0,
       "ncols": null,
       "nrows": 24,
       "postfix": null,
       "prefix": "epoch [5/10]",
       "rate": null,
       "total": null,
       "unit": "it",
       "unit_divisor": 1000,
       "unit_scale": false
      },
      "application/vnd.jupyter.widget-view+json": {
       "model_id": "749aa1551cf1429695912c9f3eac4d47",
       "version_major": 2,
       "version_minor": 0
      },
      "text/plain": [
       "epoch [5/10]: 0it [00:00, ?it/s]"
      ]
     },
     "metadata": {},
     "output_type": "display_data"
    },
    {
     "name": "stdout",
     "output_type": "stream",
     "text": [
      "Epoch: [5/10], Loss: 0.0170\n"
     ]
    },
    {
     "data": {
      "application/json": {
       "ascii": false,
       "bar_format": null,
       "colour": null,
       "elapsed": 0.0085601806640625,
       "initial": 0,
       "n": 0,
       "ncols": null,
       "nrows": 24,
       "postfix": null,
       "prefix": "epoch [6/10]",
       "rate": null,
       "total": null,
       "unit": "it",
       "unit_divisor": 1000,
       "unit_scale": false
      },
      "application/vnd.jupyter.widget-view+json": {
       "model_id": "bf06f74be0a14c598e2e62f22cfccaef",
       "version_major": 2,
       "version_minor": 0
      },
      "text/plain": [
       "epoch [6/10]: 0it [00:00, ?it/s]"
      ]
     },
     "metadata": {},
     "output_type": "display_data"
    },
    {
     "name": "stdout",
     "output_type": "stream",
     "text": [
      "Epoch: [6/10], Loss: 0.0164\n"
     ]
    },
    {
     "data": {
      "application/json": {
       "ascii": false,
       "bar_format": null,
       "colour": null,
       "elapsed": 0.008580446243286133,
       "initial": 0,
       "n": 0,
       "ncols": null,
       "nrows": 24,
       "postfix": null,
       "prefix": "epoch [7/10]",
       "rate": null,
       "total": null,
       "unit": "it",
       "unit_divisor": 1000,
       "unit_scale": false
      },
      "application/vnd.jupyter.widget-view+json": {
       "model_id": "2261d802e1964c2ab7a7a1285ee58d79",
       "version_major": 2,
       "version_minor": 0
      },
      "text/plain": [
       "epoch [7/10]: 0it [00:00, ?it/s]"
      ]
     },
     "metadata": {},
     "output_type": "display_data"
    },
    {
     "name": "stdout",
     "output_type": "stream",
     "text": [
      "Epoch: [7/10], Loss: 0.0161\n"
     ]
    },
    {
     "data": {
      "application/json": {
       "ascii": false,
       "bar_format": null,
       "colour": null,
       "elapsed": 0.008641719818115234,
       "initial": 0,
       "n": 0,
       "ncols": null,
       "nrows": 24,
       "postfix": null,
       "prefix": "epoch [8/10]",
       "rate": null,
       "total": null,
       "unit": "it",
       "unit_divisor": 1000,
       "unit_scale": false
      },
      "application/vnd.jupyter.widget-view+json": {
       "model_id": "e66e0358886f47ff8055b259de7efc10",
       "version_major": 2,
       "version_minor": 0
      },
      "text/plain": [
       "epoch [8/10]: 0it [00:00, ?it/s]"
      ]
     },
     "metadata": {},
     "output_type": "display_data"
    },
    {
     "name": "stdout",
     "output_type": "stream",
     "text": [
      "Epoch: [8/10], Loss: 0.0159\n"
     ]
    },
    {
     "data": {
      "application/json": {
       "ascii": false,
       "bar_format": null,
       "colour": null,
       "elapsed": 0.008611917495727539,
       "initial": 0,
       "n": 0,
       "ncols": null,
       "nrows": 24,
       "postfix": null,
       "prefix": "epoch [9/10]",
       "rate": null,
       "total": null,
       "unit": "it",
       "unit_divisor": 1000,
       "unit_scale": false
      },
      "application/vnd.jupyter.widget-view+json": {
       "model_id": "3dee33532d09458584fb820ceb74f9a0",
       "version_major": 2,
       "version_minor": 0
      },
      "text/plain": [
       "epoch [9/10]: 0it [00:00, ?it/s]"
      ]
     },
     "metadata": {},
     "output_type": "display_data"
    },
    {
     "name": "stdout",
     "output_type": "stream",
     "text": [
      "Epoch: [9/10], Loss: 0.0159\n"
     ]
    },
    {
     "data": {
      "application/json": {
       "ascii": false,
       "bar_format": null,
       "colour": null,
       "elapsed": 0.008714675903320312,
       "initial": 0,
       "n": 0,
       "ncols": null,
       "nrows": 24,
       "postfix": null,
       "prefix": "epoch [10/10]",
       "rate": null,
       "total": null,
       "unit": "it",
       "unit_divisor": 1000,
       "unit_scale": false
      },
      "application/vnd.jupyter.widget-view+json": {
       "model_id": "b4cc14454dbc47ee85a81a7877ce1697",
       "version_major": 2,
       "version_minor": 0
      },
      "text/plain": [
       "epoch [10/10]: 0it [00:00, ?it/s]"
      ]
     },
     "metadata": {},
     "output_type": "display_data"
    },
    {
     "name": "stdout",
     "output_type": "stream",
     "text": [
      "Epoch: [10/10], Loss: 0.0160\n"
     ]
    },
    {
     "data": {
      "application/json": {
       "ascii": false,
       "bar_format": null,
       "colour": null,
       "elapsed": 0.008614778518676758,
       "initial": 0,
       "n": 0,
       "ncols": null,
       "nrows": 24,
       "postfix": null,
       "prefix": "Evaluating",
       "rate": null,
       "total": null,
       "unit": "it",
       "unit_divisor": 1000,
       "unit_scale": false
      },
      "application/vnd.jupyter.widget-view+json": {
       "model_id": "88530ada93304457ab19c09ad83f0095",
       "version_major": 2,
       "version_minor": 0
      },
      "text/plain": [
       "Evaluating: 0it [00:00, ?it/s]"
      ]
     },
     "metadata": {},
     "output_type": "display_data"
    },
    {
     "name": "stdout",
     "output_type": "stream",
     "text": [
      "Score (accuracy) of the probe: 0.87\n"
     ]
    },
    {
     "data": {
      "application/json": {
       "ascii": false,
       "bar_format": null,
       "colour": null,
       "elapsed": 0.010457754135131836,
       "initial": 0,
       "n": 0,
       "ncols": null,
       "nrows": 24,
       "postfix": null,
       "prefix": "Evaluating",
       "rate": null,
       "total": null,
       "unit": "it",
       "unit_divisor": 1000,
       "unit_scale": false
      },
      "application/vnd.jupyter.widget-view+json": {
       "model_id": "04ede902a5d94c2fb7483e5ab9ae821c",
       "version_major": 2,
       "version_minor": 0
      },
      "text/plain": [
       "Evaluating: 0it [00:00, ?it/s]"
      ]
     },
     "metadata": {},
     "output_type": "display_data"
    },
    {
     "name": "stdout",
     "output_type": "stream",
     "text": [
      "Score (accuracy) of the probe: 0.74\n"
     ]
    },
    {
     "data": {
      "application/json": {
       "ascii": false,
       "bar_format": null,
       "colour": null,
       "elapsed": 0.01006317138671875,
       "initial": 0,
       "n": 0,
       "ncols": null,
       "nrows": 24,
       "postfix": null,
       "prefix": "",
       "rate": null,
       "total": 101,
       "unit": "it",
       "unit_divisor": 1000,
       "unit_scale": false
      },
      "application/vnd.jupyter.widget-view+json": {
       "model_id": "3ff3bdad8b8e45b28f65192ec55b32cc",
       "version_major": 2,
       "version_minor": 0
      },
      "text/plain": [
       "  0%|          | 0/101 [00:00<?, ?it/s]"
      ]
     },
     "metadata": {},
     "output_type": "display_data"
    },
    {
     "name": "stdout",
     "output_type": "stream",
     "text": [
      "Loading json activations from /home/senya/Документы/project/large_data_en_ewt/data_NumType/activations_train.json...\n",
      "913 13.0\n",
      "Loading json activations from /home/senya/Документы/project/large_data_en_ewt/data_NumType/activations_te.json...\n",
      "281 13.0\n",
      "Number of tokens:  913\n",
      "length of source dictionary:  4538\n",
      "length of target dictionary:  4\n",
      "913\n",
      "Total instances: 913\n",
      "['Outside', '2', 'What', 'yep', 'Stay', 'Thursday', 'A', 'Joe_Lardy', 'NEXT', '40', '1561', 'Jean', 'My', 'They', '42', '\"30', 'FYI', 'seems', 'Messages', '\"According']\n",
      "Number of samples:  913\n",
      "Stats: Labels with their frequencies in the final set\n",
      "Mult 41\n",
      "Ord 203\n",
      "Card 650\n",
      "Frac 19\n",
      "Number of tokens:  281\n",
      "length of source dictionary:  1853\n",
      "length of target dictionary:  4\n",
      "281\n",
      "Total instances: 281\n",
      "['i', 'ps', 'Technically', '08', 'don', '\"You', 'What', 'why', 'Armed', 'Wei', 'Is', 'Intercept', 'by', 'could', 'A', 'Once', 'HAS', 'Please', 'Valero', 'My']\n",
      "Number of samples:  281\n",
      "Stats: Labels with their frequencies in the final set\n",
      "Mult 9\n",
      "Ord 43\n",
      "Card 225\n",
      "Frac 4\n",
      "Training classification probe\n",
      "Creating model...\n",
      "Number of training instances: 913\n",
      "Number of classes: 4\n"
     ]
    },
    {
     "data": {
      "application/json": {
       "ascii": false,
       "bar_format": null,
       "colour": null,
       "elapsed": 0.008442163467407227,
       "initial": 0,
       "n": 0,
       "ncols": null,
       "nrows": 24,
       "postfix": null,
       "prefix": "epoch [1/10]",
       "rate": null,
       "total": null,
       "unit": "it",
       "unit_divisor": 1000,
       "unit_scale": false
      },
      "application/vnd.jupyter.widget-view+json": {
       "model_id": "a091dd1146594f39aff5b09081bb5b5f",
       "version_major": 2,
       "version_minor": 0
      },
      "text/plain": [
       "epoch [1/10]: 0it [00:00, ?it/s]"
      ]
     },
     "metadata": {},
     "output_type": "display_data"
    },
    {
     "name": "stdout",
     "output_type": "stream",
     "text": [
      "Epoch: [1/10], Loss: 0.0373\n"
     ]
    },
    {
     "data": {
      "application/json": {
       "ascii": false,
       "bar_format": null,
       "colour": null,
       "elapsed": 0.008987665176391602,
       "initial": 0,
       "n": 0,
       "ncols": null,
       "nrows": 24,
       "postfix": null,
       "prefix": "epoch [2/10]",
       "rate": null,
       "total": null,
       "unit": "it",
       "unit_divisor": 1000,
       "unit_scale": false
      },
      "application/vnd.jupyter.widget-view+json": {
       "model_id": "4a30a7c5a4dc4a99b37becac54d0b3fc",
       "version_major": 2,
       "version_minor": 0
      },
      "text/plain": [
       "epoch [2/10]: 0it [00:00, ?it/s]"
      ]
     },
     "metadata": {},
     "output_type": "display_data"
    },
    {
     "name": "stdout",
     "output_type": "stream",
     "text": [
      "Epoch: [2/10], Loss: 0.0217\n"
     ]
    },
    {
     "data": {
      "application/json": {
       "ascii": false,
       "bar_format": null,
       "colour": null,
       "elapsed": 0.008927583694458008,
       "initial": 0,
       "n": 0,
       "ncols": null,
       "nrows": 24,
       "postfix": null,
       "prefix": "epoch [3/10]",
       "rate": null,
       "total": null,
       "unit": "it",
       "unit_divisor": 1000,
       "unit_scale": false
      },
      "application/vnd.jupyter.widget-view+json": {
       "model_id": "431e6893f3134b7eaa94f84c2ac869c6",
       "version_major": 2,
       "version_minor": 0
      },
      "text/plain": [
       "epoch [3/10]: 0it [00:00, ?it/s]"
      ]
     },
     "metadata": {},
     "output_type": "display_data"
    },
    {
     "name": "stdout",
     "output_type": "stream",
     "text": [
      "Epoch: [3/10], Loss: 0.0161\n"
     ]
    },
    {
     "data": {
      "application/json": {
       "ascii": false,
       "bar_format": null,
       "colour": null,
       "elapsed": 0.008418560028076172,
       "initial": 0,
       "n": 0,
       "ncols": null,
       "nrows": 24,
       "postfix": null,
       "prefix": "epoch [4/10]",
       "rate": null,
       "total": null,
       "unit": "it",
       "unit_divisor": 1000,
       "unit_scale": false
      },
      "application/vnd.jupyter.widget-view+json": {
       "model_id": "3ac798899a07467e97d7a694082e0195",
       "version_major": 2,
       "version_minor": 0
      },
      "text/plain": [
       "epoch [4/10]: 0it [00:00, ?it/s]"
      ]
     },
     "metadata": {},
     "output_type": "display_data"
    },
    {
     "name": "stdout",
     "output_type": "stream",
     "text": [
      "Epoch: [4/10], Loss: 0.0142\n"
     ]
    },
    {
     "data": {
      "application/json": {
       "ascii": false,
       "bar_format": null,
       "colour": null,
       "elapsed": 0.008632659912109375,
       "initial": 0,
       "n": 0,
       "ncols": null,
       "nrows": 24,
       "postfix": null,
       "prefix": "epoch [5/10]",
       "rate": null,
       "total": null,
       "unit": "it",
       "unit_divisor": 1000,
       "unit_scale": false
      },
      "application/vnd.jupyter.widget-view+json": {
       "model_id": "8b2de92083264755be2ad4bff5de2b60",
       "version_major": 2,
       "version_minor": 0
      },
      "text/plain": [
       "epoch [5/10]: 0it [00:00, ?it/s]"
      ]
     },
     "metadata": {},
     "output_type": "display_data"
    },
    {
     "name": "stdout",
     "output_type": "stream",
     "text": [
      "Epoch: [5/10], Loss: 0.0129\n"
     ]
    },
    {
     "data": {
      "application/json": {
       "ascii": false,
       "bar_format": null,
       "colour": null,
       "elapsed": 0.008513450622558594,
       "initial": 0,
       "n": 0,
       "ncols": null,
       "nrows": 24,
       "postfix": null,
       "prefix": "epoch [6/10]",
       "rate": null,
       "total": null,
       "unit": "it",
       "unit_divisor": 1000,
       "unit_scale": false
      },
      "application/vnd.jupyter.widget-view+json": {
       "model_id": "740dc7c7976b44b2a6c5628fcabeaaf0",
       "version_major": 2,
       "version_minor": 0
      },
      "text/plain": [
       "epoch [6/10]: 0it [00:00, ?it/s]"
      ]
     },
     "metadata": {},
     "output_type": "display_data"
    },
    {
     "name": "stdout",
     "output_type": "stream",
     "text": [
      "Epoch: [6/10], Loss: 0.0123\n"
     ]
    },
    {
     "data": {
      "application/json": {
       "ascii": false,
       "bar_format": null,
       "colour": null,
       "elapsed": 0.00860142707824707,
       "initial": 0,
       "n": 0,
       "ncols": null,
       "nrows": 24,
       "postfix": null,
       "prefix": "epoch [7/10]",
       "rate": null,
       "total": null,
       "unit": "it",
       "unit_divisor": 1000,
       "unit_scale": false
      },
      "application/vnd.jupyter.widget-view+json": {
       "model_id": "e96fa17516224738a58844961360eb54",
       "version_major": 2,
       "version_minor": 0
      },
      "text/plain": [
       "epoch [7/10]: 0it [00:00, ?it/s]"
      ]
     },
     "metadata": {},
     "output_type": "display_data"
    },
    {
     "name": "stdout",
     "output_type": "stream",
     "text": [
      "Epoch: [7/10], Loss: 0.0118\n"
     ]
    },
    {
     "data": {
      "application/json": {
       "ascii": false,
       "bar_format": null,
       "colour": null,
       "elapsed": 0.008903026580810547,
       "initial": 0,
       "n": 0,
       "ncols": null,
       "nrows": 24,
       "postfix": null,
       "prefix": "epoch [8/10]",
       "rate": null,
       "total": null,
       "unit": "it",
       "unit_divisor": 1000,
       "unit_scale": false
      },
      "application/vnd.jupyter.widget-view+json": {
       "model_id": "e98a77aedcbf48ce8e7c552813063aee",
       "version_major": 2,
       "version_minor": 0
      },
      "text/plain": [
       "epoch [8/10]: 0it [00:00, ?it/s]"
      ]
     },
     "metadata": {},
     "output_type": "display_data"
    },
    {
     "name": "stdout",
     "output_type": "stream",
     "text": [
      "Epoch: [8/10], Loss: 0.0115\n"
     ]
    },
    {
     "data": {
      "application/json": {
       "ascii": false,
       "bar_format": null,
       "colour": null,
       "elapsed": 0.008671045303344727,
       "initial": 0,
       "n": 0,
       "ncols": null,
       "nrows": 24,
       "postfix": null,
       "prefix": "epoch [9/10]",
       "rate": null,
       "total": null,
       "unit": "it",
       "unit_divisor": 1000,
       "unit_scale": false
      },
      "application/vnd.jupyter.widget-view+json": {
       "model_id": "763bd0ad658d4f1eaf1d7758e2666917",
       "version_major": 2,
       "version_minor": 0
      },
      "text/plain": [
       "epoch [9/10]: 0it [00:00, ?it/s]"
      ]
     },
     "metadata": {},
     "output_type": "display_data"
    },
    {
     "name": "stdout",
     "output_type": "stream",
     "text": [
      "Epoch: [9/10], Loss: 0.0113\n"
     ]
    },
    {
     "data": {
      "application/json": {
       "ascii": false,
       "bar_format": null,
       "colour": null,
       "elapsed": 0.008681774139404297,
       "initial": 0,
       "n": 0,
       "ncols": null,
       "nrows": 24,
       "postfix": null,
       "prefix": "epoch [10/10]",
       "rate": null,
       "total": null,
       "unit": "it",
       "unit_divisor": 1000,
       "unit_scale": false
      },
      "application/vnd.jupyter.widget-view+json": {
       "model_id": "88f9ab87603b4243a360d4ba1be66c48",
       "version_major": 2,
       "version_minor": 0
      },
      "text/plain": [
       "epoch [10/10]: 0it [00:00, ?it/s]"
      ]
     },
     "metadata": {},
     "output_type": "display_data"
    },
    {
     "name": "stdout",
     "output_type": "stream",
     "text": [
      "Epoch: [10/10], Loss: 0.0112\n"
     ]
    },
    {
     "data": {
      "application/json": {
       "ascii": false,
       "bar_format": null,
       "colour": null,
       "elapsed": 0.009721040725708008,
       "initial": 0,
       "n": 0,
       "ncols": null,
       "nrows": 24,
       "postfix": null,
       "prefix": "Evaluating",
       "rate": null,
       "total": null,
       "unit": "it",
       "unit_divisor": 1000,
       "unit_scale": false
      },
      "application/vnd.jupyter.widget-view+json": {
       "model_id": "06b89923b8f1417e9045b89da35d5c1f",
       "version_major": 2,
       "version_minor": 0
      },
      "text/plain": [
       "Evaluating: 0it [00:00, ?it/s]"
      ]
     },
     "metadata": {},
     "output_type": "display_data"
    },
    {
     "name": "stdout",
     "output_type": "stream",
     "text": [
      "Score (accuracy) of the probe: 0.96\n"
     ]
    },
    {
     "data": {
      "application/json": {
       "ascii": false,
       "bar_format": null,
       "colour": null,
       "elapsed": 0.008929967880249023,
       "initial": 0,
       "n": 0,
       "ncols": null,
       "nrows": 24,
       "postfix": null,
       "prefix": "Evaluating",
       "rate": null,
       "total": null,
       "unit": "it",
       "unit_divisor": 1000,
       "unit_scale": false
      },
      "application/vnd.jupyter.widget-view+json": {
       "model_id": "cf58addd3b8b4035bef8df44500e26ed",
       "version_major": 2,
       "version_minor": 0
      },
      "text/plain": [
       "Evaluating: 0it [00:00, ?it/s]"
      ]
     },
     "metadata": {},
     "output_type": "display_data"
    },
    {
     "name": "stdout",
     "output_type": "stream",
     "text": [
      "Score (accuracy) of the probe: 0.76\n"
     ]
    },
    {
     "data": {
      "application/json": {
       "ascii": false,
       "bar_format": null,
       "colour": null,
       "elapsed": 0.008045673370361328,
       "initial": 0,
       "n": 0,
       "ncols": null,
       "nrows": 24,
       "postfix": null,
       "prefix": "",
       "rate": null,
       "total": 101,
       "unit": "it",
       "unit_divisor": 1000,
       "unit_scale": false
      },
      "application/vnd.jupyter.widget-view+json": {
       "model_id": "0ab51695b33f47bbbc5ad3e94b479441",
       "version_major": 2,
       "version_minor": 0
      },
      "text/plain": [
       "  0%|          | 0/101 [00:00<?, ?it/s]"
      ]
     },
     "metadata": {},
     "output_type": "display_data"
    },
    {
     "name": "stdout",
     "output_type": "stream",
     "text": [
      "Loading json activations from /home/senya/Документы/project/large_data_en_ewt/data_Definite/activations_train.json...\n",
      "2600 13.0\n",
      "Loading json activations from /home/senya/Документы/project/large_data_en_ewt/data_Definite/activations_te.json...\n",
      "900 13.0\n",
      "Number of tokens:  2600\n",
      "length of source dictionary:  8671\n",
      "length of target dictionary:  2\n",
      "2600\n",
      "Total instances: 2600\n",
      "['2', 'Gives', 'Outside', 'Hot', '\"Set', 'What', 'they', 'Giving', 'Use', 'During', 'Is', '14', '--', '\"Bilbray', 'Like', 'Travelers', 'Tina', 'A', 'Sometimes', 'Birth']\n",
      "Number of samples:  2600\n",
      "Stats: Labels with their frequencies in the final set\n",
      "Def 1300\n",
      "Ind 1300\n",
      "Number of tokens:  900\n",
      "length of source dictionary:  4070\n",
      "length of target dictionary:  2\n",
      "900\n",
      "Total instances: 900\n",
      "['2', 'Technically', 'THOMAS', 'What', 'Delhi', 'they', 'Ash', 'Wei', 'Is', 'Like', '\"Twinkle', 'A', 'Starting', 'Wendi', '\"However', 'many', 'My', 'They', 'Catriona', 'Mahmoud']\n",
      "Number of samples:  900\n",
      "Stats: Labels with their frequencies in the final set\n",
      "Def 450\n",
      "Ind 450\n",
      "Training classification probe\n",
      "Creating model...\n",
      "Number of training instances: 2600\n",
      "Number of classes: 2\n"
     ]
    },
    {
     "data": {
      "application/json": {
       "ascii": false,
       "bar_format": null,
       "colour": null,
       "elapsed": 0.008654594421386719,
       "initial": 0,
       "n": 0,
       "ncols": null,
       "nrows": 24,
       "postfix": null,
       "prefix": "epoch [1/10]",
       "rate": null,
       "total": null,
       "unit": "it",
       "unit_divisor": 1000,
       "unit_scale": false
      },
      "application/vnd.jupyter.widget-view+json": {
       "model_id": "2cfbba69c65948f98ee00ac3300be574",
       "version_major": 2,
       "version_minor": 0
      },
      "text/plain": [
       "epoch [1/10]: 0it [00:00, ?it/s]"
      ]
     },
     "metadata": {},
     "output_type": "display_data"
    },
    {
     "name": "stdout",
     "output_type": "stream",
     "text": [
      "Epoch: [1/10], Loss: 0.0246\n"
     ]
    },
    {
     "data": {
      "application/json": {
       "ascii": false,
       "bar_format": null,
       "colour": null,
       "elapsed": 0.008991718292236328,
       "initial": 0,
       "n": 0,
       "ncols": null,
       "nrows": 24,
       "postfix": null,
       "prefix": "epoch [2/10]",
       "rate": null,
       "total": null,
       "unit": "it",
       "unit_divisor": 1000,
       "unit_scale": false
      },
      "application/vnd.jupyter.widget-view+json": {
       "model_id": "c700d88a58b849e09e8002de0f776bce",
       "version_major": 2,
       "version_minor": 0
      },
      "text/plain": [
       "epoch [2/10]: 0it [00:00, ?it/s]"
      ]
     },
     "metadata": {},
     "output_type": "display_data"
    },
    {
     "name": "stdout",
     "output_type": "stream",
     "text": [
      "Epoch: [2/10], Loss: 0.0182\n"
     ]
    },
    {
     "data": {
      "application/json": {
       "ascii": false,
       "bar_format": null,
       "colour": null,
       "elapsed": 0.008986949920654297,
       "initial": 0,
       "n": 0,
       "ncols": null,
       "nrows": 24,
       "postfix": null,
       "prefix": "epoch [3/10]",
       "rate": null,
       "total": null,
       "unit": "it",
       "unit_divisor": 1000,
       "unit_scale": false
      },
      "application/vnd.jupyter.widget-view+json": {
       "model_id": "2c74aa439ebb4d93af8cfee8ad5edfa3",
       "version_major": 2,
       "version_minor": 0
      },
      "text/plain": [
       "epoch [3/10]: 0it [00:00, ?it/s]"
      ]
     },
     "metadata": {},
     "output_type": "display_data"
    },
    {
     "name": "stdout",
     "output_type": "stream",
     "text": [
      "Epoch: [3/10], Loss: 0.0165\n"
     ]
    },
    {
     "data": {
      "application/json": {
       "ascii": false,
       "bar_format": null,
       "colour": null,
       "elapsed": 0.008484840393066406,
       "initial": 0,
       "n": 0,
       "ncols": null,
       "nrows": 24,
       "postfix": null,
       "prefix": "epoch [4/10]",
       "rate": null,
       "total": null,
       "unit": "it",
       "unit_divisor": 1000,
       "unit_scale": false
      },
      "application/vnd.jupyter.widget-view+json": {
       "model_id": "88e51557897946589526297ced443587",
       "version_major": 2,
       "version_minor": 0
      },
      "text/plain": [
       "epoch [4/10]: 0it [00:00, ?it/s]"
      ]
     },
     "metadata": {},
     "output_type": "display_data"
    },
    {
     "name": "stdout",
     "output_type": "stream",
     "text": [
      "Epoch: [4/10], Loss: 0.0155\n"
     ]
    },
    {
     "data": {
      "application/json": {
       "ascii": false,
       "bar_format": null,
       "colour": null,
       "elapsed": 0.010030746459960938,
       "initial": 0,
       "n": 0,
       "ncols": null,
       "nrows": 24,
       "postfix": null,
       "prefix": "epoch [5/10]",
       "rate": null,
       "total": null,
       "unit": "it",
       "unit_divisor": 1000,
       "unit_scale": false
      },
      "application/vnd.jupyter.widget-view+json": {
       "model_id": "b6d2575348f840048d1d103e26f298e5",
       "version_major": 2,
       "version_minor": 0
      },
      "text/plain": [
       "epoch [5/10]: 0it [00:00, ?it/s]"
      ]
     },
     "metadata": {},
     "output_type": "display_data"
    },
    {
     "name": "stdout",
     "output_type": "stream",
     "text": [
      "Epoch: [5/10], Loss: 0.0148\n"
     ]
    },
    {
     "data": {
      "application/json": {
       "ascii": false,
       "bar_format": null,
       "colour": null,
       "elapsed": 0.00834345817565918,
       "initial": 0,
       "n": 0,
       "ncols": null,
       "nrows": 24,
       "postfix": null,
       "prefix": "epoch [6/10]",
       "rate": null,
       "total": null,
       "unit": "it",
       "unit_divisor": 1000,
       "unit_scale": false
      },
      "application/vnd.jupyter.widget-view+json": {
       "model_id": "80056f07134e440cad2ff4a4a3503a1a",
       "version_major": 2,
       "version_minor": 0
      },
      "text/plain": [
       "epoch [6/10]: 0it [00:00, ?it/s]"
      ]
     },
     "metadata": {},
     "output_type": "display_data"
    },
    {
     "name": "stdout",
     "output_type": "stream",
     "text": [
      "Epoch: [6/10], Loss: 0.0143\n"
     ]
    },
    {
     "data": {
      "application/json": {
       "ascii": false,
       "bar_format": null,
       "colour": null,
       "elapsed": 0.008474349975585938,
       "initial": 0,
       "n": 0,
       "ncols": null,
       "nrows": 24,
       "postfix": null,
       "prefix": "epoch [7/10]",
       "rate": null,
       "total": null,
       "unit": "it",
       "unit_divisor": 1000,
       "unit_scale": false
      },
      "application/vnd.jupyter.widget-view+json": {
       "model_id": "e2b4cc3e0c4f42cd95d18ece6d62dc35",
       "version_major": 2,
       "version_minor": 0
      },
      "text/plain": [
       "epoch [7/10]: 0it [00:00, ?it/s]"
      ]
     },
     "metadata": {},
     "output_type": "display_data"
    },
    {
     "name": "stdout",
     "output_type": "stream",
     "text": [
      "Epoch: [7/10], Loss: 0.0139\n"
     ]
    },
    {
     "data": {
      "application/json": {
       "ascii": false,
       "bar_format": null,
       "colour": null,
       "elapsed": 0.008626222610473633,
       "initial": 0,
       "n": 0,
       "ncols": null,
       "nrows": 24,
       "postfix": null,
       "prefix": "epoch [8/10]",
       "rate": null,
       "total": null,
       "unit": "it",
       "unit_divisor": 1000,
       "unit_scale": false
      },
      "application/vnd.jupyter.widget-view+json": {
       "model_id": "445cfe78a85541e68d6a950cbfa8f05c",
       "version_major": 2,
       "version_minor": 0
      },
      "text/plain": [
       "epoch [8/10]: 0it [00:00, ?it/s]"
      ]
     },
     "metadata": {},
     "output_type": "display_data"
    },
    {
     "name": "stdout",
     "output_type": "stream",
     "text": [
      "Epoch: [8/10], Loss: 0.0136\n"
     ]
    },
    {
     "data": {
      "application/json": {
       "ascii": false,
       "bar_format": null,
       "colour": null,
       "elapsed": 0.008553028106689453,
       "initial": 0,
       "n": 0,
       "ncols": null,
       "nrows": 24,
       "postfix": null,
       "prefix": "epoch [9/10]",
       "rate": null,
       "total": null,
       "unit": "it",
       "unit_divisor": 1000,
       "unit_scale": false
      },
      "application/vnd.jupyter.widget-view+json": {
       "model_id": "4fee7b7435254abeace1ec044c453a61",
       "version_major": 2,
       "version_minor": 0
      },
      "text/plain": [
       "epoch [9/10]: 0it [00:00, ?it/s]"
      ]
     },
     "metadata": {},
     "output_type": "display_data"
    },
    {
     "name": "stdout",
     "output_type": "stream",
     "text": [
      "Epoch: [9/10], Loss: 0.0134\n"
     ]
    },
    {
     "data": {
      "application/json": {
       "ascii": false,
       "bar_format": null,
       "colour": null,
       "elapsed": 0.008723735809326172,
       "initial": 0,
       "n": 0,
       "ncols": null,
       "nrows": 24,
       "postfix": null,
       "prefix": "epoch [10/10]",
       "rate": null,
       "total": null,
       "unit": "it",
       "unit_divisor": 1000,
       "unit_scale": false
      },
      "application/vnd.jupyter.widget-view+json": {
       "model_id": "f9a4dc97ec3c43788e7cbd4a776d1aef",
       "version_major": 2,
       "version_minor": 0
      },
      "text/plain": [
       "epoch [10/10]: 0it [00:00, ?it/s]"
      ]
     },
     "metadata": {},
     "output_type": "display_data"
    },
    {
     "name": "stdout",
     "output_type": "stream",
     "text": [
      "Epoch: [10/10], Loss: 0.0132\n"
     ]
    },
    {
     "data": {
      "application/json": {
       "ascii": false,
       "bar_format": null,
       "colour": null,
       "elapsed": 0.008746147155761719,
       "initial": 0,
       "n": 0,
       "ncols": null,
       "nrows": 24,
       "postfix": null,
       "prefix": "Evaluating",
       "rate": null,
       "total": null,
       "unit": "it",
       "unit_divisor": 1000,
       "unit_scale": false
      },
      "application/vnd.jupyter.widget-view+json": {
       "model_id": "6eb687411bd54cdb9ecd874c4a1f709d",
       "version_major": 2,
       "version_minor": 0
      },
      "text/plain": [
       "Evaluating: 0it [00:00, ?it/s]"
      ]
     },
     "metadata": {},
     "output_type": "display_data"
    },
    {
     "name": "stdout",
     "output_type": "stream",
     "text": [
      "Score (accuracy) of the probe: 0.87\n"
     ]
    },
    {
     "data": {
      "application/json": {
       "ascii": false,
       "bar_format": null,
       "colour": null,
       "elapsed": 0.008800268173217773,
       "initial": 0,
       "n": 0,
       "ncols": null,
       "nrows": 24,
       "postfix": null,
       "prefix": "Evaluating",
       "rate": null,
       "total": null,
       "unit": "it",
       "unit_divisor": 1000,
       "unit_scale": false
      },
      "application/vnd.jupyter.widget-view+json": {
       "model_id": "2db950cd5e994ee4943309e24a62c3ec",
       "version_major": 2,
       "version_minor": 0
      },
      "text/plain": [
       "Evaluating: 0it [00:00, ?it/s]"
      ]
     },
     "metadata": {},
     "output_type": "display_data"
    },
    {
     "name": "stdout",
     "output_type": "stream",
     "text": [
      "Score (accuracy) of the probe: 0.72\n"
     ]
    },
    {
     "data": {
      "application/json": {
       "ascii": false,
       "bar_format": null,
       "colour": null,
       "elapsed": 0.007881402969360352,
       "initial": 0,
       "n": 0,
       "ncols": null,
       "nrows": 24,
       "postfix": null,
       "prefix": "",
       "rate": null,
       "total": 101,
       "unit": "it",
       "unit_divisor": 1000,
       "unit_scale": false
      },
      "application/vnd.jupyter.widget-view+json": {
       "model_id": "123a55c0974d460e9a24da96c385847d",
       "version_major": 2,
       "version_minor": 0
      },
      "text/plain": [
       "  0%|          | 0/101 [00:00<?, ?it/s]"
      ]
     },
     "metadata": {},
     "output_type": "display_data"
    },
    {
     "name": "stdout",
     "output_type": "stream",
     "text": [
      "Loading json activations from /home/senya/Документы/project/large_data_en_ewt/data_Degree/activations_train.json...\n",
      "1471 13.0\n",
      "Loading json activations from /home/senya/Документы/project/large_data_en_ewt/data_Degree/activations_te.json...\n",
      "483 13.0\n",
      "Number of tokens:  1471\n",
      "length of source dictionary:  5925\n",
      "length of target dictionary:  3\n",
      "1471\n",
      "Total instances: 1471\n",
      "['2', 'Admin', '\"Set', 'What', 'they', 'During', 'Is', 'Beth', 'Todd', '14', 'Owner', 'A', 'Irony', 'Sometimes', '\"Does', 'Budgies', '1561', 'My', 'They', '130']\n",
      "Number of samples:  1471\n",
      "Stats: Labels with their frequencies in the final set\n",
      "Pos 867\n",
      "Cmp 348\n",
      "Sup 256\n",
      "Number of tokens:  483\n",
      "length of source dictionary:  2509\n",
      "length of target dictionary:  3\n",
      "483\n",
      "Total instances: 483\n",
      "['buy', 'i', '2', 'Lunar', 'so', 'Hot', 'Technically', 'don', 'Superior', '\"You', 'What', 'U', 'out', 'Falluja', 'they', 'Lets', 'Monotheism', 'Natasha', 'Susanna', 'Is']\n",
      "Number of samples:  483\n",
      "Stats: Labels with their frequencies in the final set\n",
      "Pos 300\n",
      "Cmp 78\n",
      "Sup 105\n",
      "Training classification probe\n",
      "Creating model...\n",
      "Number of training instances: 1471\n",
      "Number of classes: 3\n"
     ]
    },
    {
     "data": {
      "application/json": {
       "ascii": false,
       "bar_format": null,
       "colour": null,
       "elapsed": 0.008274078369140625,
       "initial": 0,
       "n": 0,
       "ncols": null,
       "nrows": 24,
       "postfix": null,
       "prefix": "epoch [1/10]",
       "rate": null,
       "total": null,
       "unit": "it",
       "unit_divisor": 1000,
       "unit_scale": false
      },
      "application/vnd.jupyter.widget-view+json": {
       "model_id": "cbe60f10dc6546889e3e40295d36908b",
       "version_major": 2,
       "version_minor": 0
      },
      "text/plain": [
       "epoch [1/10]: 0it [00:00, ?it/s]"
      ]
     },
     "metadata": {},
     "output_type": "display_data"
    },
    {
     "name": "stdout",
     "output_type": "stream",
     "text": [
      "Epoch: [1/10], Loss: 0.0391\n"
     ]
    },
    {
     "data": {
      "application/json": {
       "ascii": false,
       "bar_format": null,
       "colour": null,
       "elapsed": 0.008460283279418945,
       "initial": 0,
       "n": 0,
       "ncols": null,
       "nrows": 24,
       "postfix": null,
       "prefix": "epoch [2/10]",
       "rate": null,
       "total": null,
       "unit": "it",
       "unit_divisor": 1000,
       "unit_scale": false
      },
      "application/vnd.jupyter.widget-view+json": {
       "model_id": "bd9c90fbadb249cf9829344cc373343a",
       "version_major": 2,
       "version_minor": 0
      },
      "text/plain": [
       "epoch [2/10]: 0it [00:00, ?it/s]"
      ]
     },
     "metadata": {},
     "output_type": "display_data"
    },
    {
     "name": "stdout",
     "output_type": "stream",
     "text": [
      "Epoch: [2/10], Loss: 0.0262\n"
     ]
    },
    {
     "data": {
      "application/json": {
       "ascii": false,
       "bar_format": null,
       "colour": null,
       "elapsed": 0.009008407592773438,
       "initial": 0,
       "n": 0,
       "ncols": null,
       "nrows": 24,
       "postfix": null,
       "prefix": "epoch [3/10]",
       "rate": null,
       "total": null,
       "unit": "it",
       "unit_divisor": 1000,
       "unit_scale": false
      },
      "application/vnd.jupyter.widget-view+json": {
       "model_id": "fd9df25ab85a40a78da8f1bf710ce868",
       "version_major": 2,
       "version_minor": 0
      },
      "text/plain": [
       "epoch [3/10]: 0it [00:00, ?it/s]"
      ]
     },
     "metadata": {},
     "output_type": "display_data"
    },
    {
     "name": "stdout",
     "output_type": "stream",
     "text": [
      "Epoch: [3/10], Loss: 0.0218\n"
     ]
    },
    {
     "data": {
      "application/json": {
       "ascii": false,
       "bar_format": null,
       "colour": null,
       "elapsed": 0.008385181427001953,
       "initial": 0,
       "n": 0,
       "ncols": null,
       "nrows": 24,
       "postfix": null,
       "prefix": "epoch [4/10]",
       "rate": null,
       "total": null,
       "unit": "it",
       "unit_divisor": 1000,
       "unit_scale": false
      },
      "application/vnd.jupyter.widget-view+json": {
       "model_id": "2bbb7ac9c89a4ee98cf2af08fc4bdc81",
       "version_major": 2,
       "version_minor": 0
      },
      "text/plain": [
       "epoch [4/10]: 0it [00:00, ?it/s]"
      ]
     },
     "metadata": {},
     "output_type": "display_data"
    },
    {
     "name": "stdout",
     "output_type": "stream",
     "text": [
      "Epoch: [4/10], Loss: 0.0202\n"
     ]
    },
    {
     "data": {
      "application/json": {
       "ascii": false,
       "bar_format": null,
       "colour": null,
       "elapsed": 0.00852346420288086,
       "initial": 0,
       "n": 0,
       "ncols": null,
       "nrows": 24,
       "postfix": null,
       "prefix": "epoch [5/10]",
       "rate": null,
       "total": null,
       "unit": "it",
       "unit_divisor": 1000,
       "unit_scale": false
      },
      "application/vnd.jupyter.widget-view+json": {
       "model_id": "8f96533649f740e0ab12aa3bddbbb334",
       "version_major": 2,
       "version_minor": 0
      },
      "text/plain": [
       "epoch [5/10]: 0it [00:00, ?it/s]"
      ]
     },
     "metadata": {},
     "output_type": "display_data"
    },
    {
     "name": "stdout",
     "output_type": "stream",
     "text": [
      "Epoch: [5/10], Loss: 0.0191\n"
     ]
    },
    {
     "data": {
      "application/json": {
       "ascii": false,
       "bar_format": null,
       "colour": null,
       "elapsed": 0.008518695831298828,
       "initial": 0,
       "n": 0,
       "ncols": null,
       "nrows": 24,
       "postfix": null,
       "prefix": "epoch [6/10]",
       "rate": null,
       "total": null,
       "unit": "it",
       "unit_divisor": 1000,
       "unit_scale": false
      },
      "application/vnd.jupyter.widget-view+json": {
       "model_id": "35851492863c4e398ab13341bceefcff",
       "version_major": 2,
       "version_minor": 0
      },
      "text/plain": [
       "epoch [6/10]: 0it [00:00, ?it/s]"
      ]
     },
     "metadata": {},
     "output_type": "display_data"
    },
    {
     "name": "stdout",
     "output_type": "stream",
     "text": [
      "Epoch: [6/10], Loss: 0.0185\n"
     ]
    },
    {
     "data": {
      "application/json": {
       "ascii": false,
       "bar_format": null,
       "colour": null,
       "elapsed": 0.008500099182128906,
       "initial": 0,
       "n": 0,
       "ncols": null,
       "nrows": 24,
       "postfix": null,
       "prefix": "epoch [7/10]",
       "rate": null,
       "total": null,
       "unit": "it",
       "unit_divisor": 1000,
       "unit_scale": false
      },
      "application/vnd.jupyter.widget-view+json": {
       "model_id": "2cd4a4433ddb4be98a65a541ab43848d",
       "version_major": 2,
       "version_minor": 0
      },
      "text/plain": [
       "epoch [7/10]: 0it [00:00, ?it/s]"
      ]
     },
     "metadata": {},
     "output_type": "display_data"
    },
    {
     "name": "stdout",
     "output_type": "stream",
     "text": [
      "Epoch: [7/10], Loss: 0.0181\n"
     ]
    },
    {
     "data": {
      "application/json": {
       "ascii": false,
       "bar_format": null,
       "colour": null,
       "elapsed": 0.00856637954711914,
       "initial": 0,
       "n": 0,
       "ncols": null,
       "nrows": 24,
       "postfix": null,
       "prefix": "epoch [8/10]",
       "rate": null,
       "total": null,
       "unit": "it",
       "unit_divisor": 1000,
       "unit_scale": false
      },
      "application/vnd.jupyter.widget-view+json": {
       "model_id": "b683e10d45464e71af092eb26284d0f3",
       "version_major": 2,
       "version_minor": 0
      },
      "text/plain": [
       "epoch [8/10]: 0it [00:00, ?it/s]"
      ]
     },
     "metadata": {},
     "output_type": "display_data"
    },
    {
     "name": "stdout",
     "output_type": "stream",
     "text": [
      "Epoch: [8/10], Loss: 0.0179\n"
     ]
    },
    {
     "data": {
      "application/json": {
       "ascii": false,
       "bar_format": null,
       "colour": null,
       "elapsed": 0.008567333221435547,
       "initial": 0,
       "n": 0,
       "ncols": null,
       "nrows": 24,
       "postfix": null,
       "prefix": "epoch [9/10]",
       "rate": null,
       "total": null,
       "unit": "it",
       "unit_divisor": 1000,
       "unit_scale": false
      },
      "application/vnd.jupyter.widget-view+json": {
       "model_id": "db7f629d53174754b41d1bf8e26ee2b2",
       "version_major": 2,
       "version_minor": 0
      },
      "text/plain": [
       "epoch [9/10]: 0it [00:00, ?it/s]"
      ]
     },
     "metadata": {},
     "output_type": "display_data"
    },
    {
     "name": "stdout",
     "output_type": "stream",
     "text": [
      "Epoch: [9/10], Loss: 0.0179\n"
     ]
    },
    {
     "data": {
      "application/json": {
       "ascii": false,
       "bar_format": null,
       "colour": null,
       "elapsed": 0.008513212203979492,
       "initial": 0,
       "n": 0,
       "ncols": null,
       "nrows": 24,
       "postfix": null,
       "prefix": "epoch [10/10]",
       "rate": null,
       "total": null,
       "unit": "it",
       "unit_divisor": 1000,
       "unit_scale": false
      },
      "application/vnd.jupyter.widget-view+json": {
       "model_id": "4c8d94c8dce24d6aa92b5a2b955e2fd4",
       "version_major": 2,
       "version_minor": 0
      },
      "text/plain": [
       "epoch [10/10]: 0it [00:00, ?it/s]"
      ]
     },
     "metadata": {},
     "output_type": "display_data"
    },
    {
     "name": "stdout",
     "output_type": "stream",
     "text": [
      "Epoch: [10/10], Loss: 0.0181\n"
     ]
    },
    {
     "data": {
      "application/json": {
       "ascii": false,
       "bar_format": null,
       "colour": null,
       "elapsed": 0.008562326431274414,
       "initial": 0,
       "n": 0,
       "ncols": null,
       "nrows": 24,
       "postfix": null,
       "prefix": "Evaluating",
       "rate": null,
       "total": null,
       "unit": "it",
       "unit_divisor": 1000,
       "unit_scale": false
      },
      "application/vnd.jupyter.widget-view+json": {
       "model_id": "980e3f2482494a2e969a917426ab3416",
       "version_major": 2,
       "version_minor": 0
      },
      "text/plain": [
       "Evaluating: 0it [00:00, ?it/s]"
      ]
     },
     "metadata": {},
     "output_type": "display_data"
    },
    {
     "name": "stdout",
     "output_type": "stream",
     "text": [
      "Score (accuracy) of the probe: 0.84\n"
     ]
    },
    {
     "data": {
      "application/json": {
       "ascii": false,
       "bar_format": null,
       "colour": null,
       "elapsed": 0.009192466735839844,
       "initial": 0,
       "n": 0,
       "ncols": null,
       "nrows": 24,
       "postfix": null,
       "prefix": "Evaluating",
       "rate": null,
       "total": null,
       "unit": "it",
       "unit_divisor": 1000,
       "unit_scale": false
      },
      "application/vnd.jupyter.widget-view+json": {
       "model_id": "7c8cc53612204020b84e934730430d46",
       "version_major": 2,
       "version_minor": 0
      },
      "text/plain": [
       "Evaluating: 0it [00:00, ?it/s]"
      ]
     },
     "metadata": {},
     "output_type": "display_data"
    },
    {
     "name": "stdout",
     "output_type": "stream",
     "text": [
      "Score (accuracy) of the probe: 0.60\n"
     ]
    },
    {
     "data": {
      "application/json": {
       "ascii": false,
       "bar_format": null,
       "colour": null,
       "elapsed": 0.008542776107788086,
       "initial": 0,
       "n": 0,
       "ncols": null,
       "nrows": 24,
       "postfix": null,
       "prefix": "",
       "rate": null,
       "total": 101,
       "unit": "it",
       "unit_divisor": 1000,
       "unit_scale": false
      },
      "application/vnd.jupyter.widget-view+json": {
       "model_id": "88f2c8387bfa49f3a2c5e2d92995123b",
       "version_major": 2,
       "version_minor": 0
      },
      "text/plain": [
       "  0%|          | 0/101 [00:00<?, ?it/s]"
      ]
     },
     "metadata": {},
     "output_type": "display_data"
    }
   ],
   "source": [
    "# datatest[2], labeltest[4]\n",
    "# datatrain[3], labeltrain[5]\n",
    "ordered_neurons = {}\n",
    "scores = {}\n",
    "for path in all_paths:\n",
    "    cat = Experiment(path[3], path[5], path[2], path[4])    \n",
    "    cat_name = re.search(r'(?<=_)[a-zA-Z]+(?=.txt)', path[3])[0]\n",
    "    neurons, scores_tr, scores_te = cat.nranking()\n",
    "    ordered_neurons[cat_name] = neurons\n",
    "    scores[cat_name] = [scores_tr, scores_te] "
   ]
  },
  {
   "cell_type": "code",
   "execution_count": 10,
   "id": "e57bd4b2",
   "metadata": {},
   "outputs": [],
   "source": [
    "with open('scores.pkl', 'wb') as f:\n",
    "    pickle.dump(scores, f)\n",
    "with open('neurons.pkl', 'wb') as f:\n",
    "    pickle.dump(ordered_neurons, f)"
   ]
  },
  {
   "cell_type": "code",
   "execution_count": 11,
   "id": "098c150c",
   "metadata": {},
   "outputs": [],
   "source": [
    "with open('scores.pkl', 'rb') as f:\n",
    "    scores = pickle.load(f)\n",
    "with open('neurons.pkl', 'rb') as f:\n",
    "    ordered_neurons = pickle.load(f)"
   ]
  },
  {
   "cell_type": "code",
   "execution_count": 12,
   "id": "5fb43395",
   "metadata": {},
   "outputs": [
    {
     "data": {
      "text/plain": [
       "{'Number': [{'__OVERALL__': 0.8657692307692307,\n",
       "   'Sing': 0.7361538461538462,\n",
       "   'Plur': 0.9953846153846154},\n",
       "  {'__OVERALL__': 0.7811111111111111,\n",
       "   'Sing': 0.6044444444444445,\n",
       "   'Plur': 0.9577777777777777}],\n",
       " 'Tense': [{'__OVERALL__': 0.9515384615384616,\n",
       "   'Pres': 0.9253846153846154,\n",
       "   'Past': 0.9776923076923076},\n",
       "  {'__OVERALL__': 0.8588888888888889,\n",
       "   'Pres': 0.8177777777777778,\n",
       "   'Past': 0.9}],\n",
       " 'VerbForm': [{'__OVERALL__': 0.8807129798903108,\n",
       "   'Fin': 0.7861538461538462,\n",
       "   'Part': 0.9523076923076923,\n",
       "   'Inf': 0.963076923076923,\n",
       "   'Ger': 0.7184873949579832},\n",
       "  {'__OVERALL__': 0.2490372272143774,\n",
       "   'Fin': 0.49333333333333335,\n",
       "   'Ger': 0.5,\n",
       "   'Part': 0.1288888888888889,\n",
       "   'Inf': 0.008888888888888889}],\n",
       " 'NumForm': [{'__OVERALL__': 0.9488752556237219,\n",
       "   'Word': 0.984822934232715,\n",
       "   'Roman': 0.5714285714285714,\n",
       "   'Digit': 0.9273356401384083},\n",
       "  {'__OVERALL__': 0.7839080459770115,\n",
       "   'Word': 0.7251908396946565,\n",
       "   'Roman': 0.0,\n",
       "   'Digit': 0.82}],\n",
       " 'Person': [{'__OVERALL__': 0.9588619761630143,\n",
       "   '3': 0.9919261822376009,\n",
       "   '1': 0.9457900807381776,\n",
       "   '2': 0.9388696655132641},\n",
       "  {'__OVERALL__': 0.8631090487238979,\n",
       "   '3': 0.9233333333333333,\n",
       "   '1': 0.8366666666666667,\n",
       "   '2': 0.8244274809160306}],\n",
       " 'ExtPos': [{'__OVERALL__': 1.0,\n",
       "   'ADV': 1.0,\n",
       "   'CCONJ': 1.0,\n",
       "   'PRON': 1.0,\n",
       "   'SCONJ': 1.0,\n",
       "   'ADP': 1.0},\n",
       "  {'__OVERALL__': 0.5945945945945946,\n",
       "   'ADV': 0.85,\n",
       "   'CCONJ': 0.25,\n",
       "   'PRON': 0.0,\n",
       "   'SCONJ': 0.0,\n",
       "   'ADP': 0.36363636363636365}],\n",
       " 'Mood': [{'__OVERALL__': 0.9910884786760026,\n",
       "   'Ind': 0.9965397923875432,\n",
       "   'Sub': 0.2,\n",
       "   'Imp': 0.9899856938483548},\n",
       "  {'__OVERALL__': 0.9501039501039501,\n",
       "   'Ind': 0.9533333333333334,\n",
       "   'Sub': 0.0,\n",
       "   'Imp': 0.9553072625698324}],\n",
       " 'Gender': [{'__OVERALL__': 0.9612603305785123,\n",
       "   'Fem': 0.9532374100719424,\n",
       "   'Masc': 0.9709228824273072,\n",
       "   'Neut': 0.9550173010380623},\n",
       "  {'__OVERALL__': 0.6182572614107884,\n",
       "   'Masc': 0.05303030303030303,\n",
       "   'Fem': 0.26,\n",
       "   'Neut': 0.9266666666666666}],\n",
       " 'Case': [{'__OVERALL__': 0.8655608904408555,\n",
       "   'Gen': 0.7797001153402537,\n",
       "   'Acc': 0.800718132854578,\n",
       "   'Nom': 0.9930795847750865},\n",
       "  {'__OVERALL__': 0.7364568081991215,\n",
       "   'Gen': 0.5833333333333334,\n",
       "   'Acc': 0.6193548387096774,\n",
       "   'Nom': 0.9133333333333333}],\n",
       " 'NumType': [{'__OVERALL__': 0.9605695509309967,\n",
       "   'Mult': 1.0,\n",
       "   'Ord': 0.9802955665024631,\n",
       "   'Card': 0.9507692307692308,\n",
       "   'Frac': 1.0},\n",
       "  {'__OVERALL__': 0.7615658362989324,\n",
       "   'Mult': 0.1111111111111111,\n",
       "   'Ord': 0.6046511627906976,\n",
       "   'Card': 0.8311111111111111,\n",
       "   'Frac': 0.0}],\n",
       " 'Definite': [{'__OVERALL__': 0.8730769230769231,\n",
       "   'Def': 0.9730769230769231,\n",
       "   'Ind': 0.7730769230769231},\n",
       "  {'__OVERALL__': 0.7155555555555555,\n",
       "   'Def': 0.8066666666666666,\n",
       "   'Ind': 0.6244444444444445}],\n",
       " 'Degree': [{'__OVERALL__': 0.840924541128484,\n",
       "   'Pos': 0.798154555940023,\n",
       "   'Cmp': 0.8563218390804598,\n",
       "   'Sup': 0.96484375},\n",
       "  {'__OVERALL__': 0.6045548654244306,\n",
       "   'Pos': 0.57,\n",
       "   'Cmp': 0.5641025641025641,\n",
       "   'Sup': 0.7333333333333333}]}"
      ]
     },
     "execution_count": 12,
     "metadata": {},
     "output_type": "execute_result"
    }
   ],
   "source": [
    "scores"
   ]
  },
  {
   "cell_type": "code",
   "execution_count": 13,
   "id": "18390e73",
   "metadata": {},
   "outputs": [
    {
     "name": "stdout",
     "output_type": "stream",
     "text": [
      "Number [9707, 7618, 4775, 7976, 8939, 6744, 7632, 7889, 5778, 9109, 7512, 8035, 4645, 5543, 4007, 7208, 2536, 9867, 6028, 5864, 8878, 8788, 4853, 5976, 9082, 9154, 5413, 6181, 5096, 8110, 7408, 4113, 5010, 4628, 9556, 8314, 7739, 3612, 7998, 9761, 8099, 6148, 7267, 5093, 6311, 5640, 5034, 7435, 7838, 8335, 6544, 8657, 9048, 5497, 7677, 7326, 6850, 6275, 7043, 8581, 8231, 9099, 6831, 7807, 2292, 8439, 5304, 5593, 3514, 8280, 2652, 2206, 9151, 8282, 6854, 7526, 9093, 4907, 6381, 3575, 4282, 3964, 8094, 4127, 6178, 6340, 6150, 4614, 3837, 5802, 8971, 6796, 5935, 5009, 2077, 7412, 8407, 6072, 4346, 6268]\n",
      "Tense [970, 1187, 7302, 9678, 8175, 6175, 8633, 9692, 7325, 8479, 6500, 6155, 9101, 8493, 5583, 4815, 4047, 8686, 1017, 7381, 9624, 7865, 6557, 9247, 7747, 6212, 4517, 6534, 8871, 8841, 8777, 8044, 9037, 7026, 9395, 800, 7109, 8070, 9034, 9291, 6378, 8943, 6320, 9201, 8626, 9848, 4670, 7711, 7841, 7906, 5541, 6470, 6471, 6602, 6795, 8266, 4842, 5969, 2675, 6548, 7027, 6710, 8856, 7357, 9631, 8838, 6537, 5834, 6283, 4074, 3437, 7214, 6446, 8752, 7888, 7984, 9944, 6105, 9051, 8382, 7326, 6402, 8523, 6156, 7918, 8656, 8242, 7795, 7474, 7668, 7673, 4637, 2567, 9741, 8845, 8973, 9111, 8343, 9629, 3486]\n",
      "VerbForm [8128, 8456, 1419, 8985, 6656, 7938, 7433, 9224, 7049, 9611, 3726, 6285, 8212, 9748, 8727, 6811, 6050, 8227, 6718, 6780, 9794, 6724, 6855, 6087, 4807, 7497, 6219, 8263, 8269, 5966, 8787, 8019, 6620, 4700, 7004, 8801, 9186, 8418, 8934, 2918, 4712, 8299, 9209, 8700, 4225, 9608, 8585, 5644, 2319, 6931, 4244, 7189, 8982, 9753, 8217, 8603, 8996, 6320, 9906, 9138, 6200, 6714, 4667, 8896, 6471, 5575, 6729, 7623, 3915, 4041, 9806, 7633, 7378, 4829, 3038, 5217, 5985, 9444, 4838, 8166, 7784, 8442, 6126, 4079, 6385, 9972, 2682, 6396, 5122, 7170, 5125, 7688, 5005, 5411, 6311, 4775, 7079, 8113, 8499, 1588]\n",
      "NumForm [8924, 3868, 2050, 8899, 3523, 6086, 9864, 8788, 2966, 6046, 2206, 5800, 9640, 6568, 7912, 7144, 9961, 8680, 9008, 7858, 6386, 6900, 1657, 2235, 1660, 2568, 5769, 2955, 7315, 7320, 1305, 8100, 8104, 6315, 8501, 8248, 9146, 4539, 9533, 7363, 7236, 8772, 7754, 3533, 1751, 8026, 9178, 4192, 3700, 889, 8702, 8453, 5901, 9741, 9488, 5265, 2073, 3994, 9500, 8352, 2721, 8098, 7585, 8868, 9255, 9540, 4166, 5322, 4554, 983, 4960, 9062, 7915, 9581, 4847, 6013, 8320, 8074, 8205, 9231, 6547, 8596, 4636, 5278, 8866, 8871, 5032, 7080, 3885, 9903, 1589, 7355, 9539, 8522, 6090, 3918, 9551, 8278, 9046, 2648]\n",
      "Person [1696, 8995, 9767, 8000, 7491, 6856, 7702, 9946, 8924, 8477, 9183, 8227, 7333, 4135, 8168, 4713, 8682, 7533, 3641, 8704, 8834, 8707, 8964, 2318, 6799, 8985, 8217, 7710, 3117, 2095, 8244, 7991, 7994, 8393, 3412, 9178, 8415, 8419, 9063, 9704, 9972, 6389, 7157, 8693, 8321, 7946, 3086, 4880, 8470, 9126, 8106, 6072, 5433, 7232, 9026, 9542, 9289, 7507, 8921, 5082, 4445, 8031, 8295, 4336, 8947, 6134, 7415, 4866, 8451, 8066, 7174, 5776, 3222, 7578, 8475, 7709, 2464, 8999, 8877, 5809, 6337, 6723, 8774, 5320, 6088, 7766, 3032, 3674, 4442, 9951, 8936, 7914, 8940, 7537, 5621, 9847, 7421, 9089, 7939, 9095]\n",
      "ExtPos [1438, 5621, 9050, 4155, 4414, 6912, 7938, 1540, 5903, 8720, 5649, 4625, 7951, 7441, 5912, 8218, 5659, 3873, 5409, 9770, 5933, 8759, 8760, 7736, 9022, 8767, 8769, 4927, 9025, 6978, 8263, 4683, 8269, 6736, 3664, 5968, 9300, 8276, 8532, 9815, 8291, 7528, 4972, 5493, 8313, 7036, 6272, 4992, 6274, 8576, 8064, 8069, 9606, 6279, 4749, 5517, 7313, 4499, 8596, 6552, 4249, 3227, 7068, 3996, 4255, 7071, 7844, 8612, 8359, 2471, 5547, 6060, 7855, 8370, 7602, 8887, 8377, 7866, 8890, 9658, 8122, 7870, 9153, 7106, 8392, 9423, 2000, 4048, 8662, 8151, 7906, 3811, 4579, 7651, 9959, 9961, 8426, 7403, 4849, 8435]\n",
      "Mood [7536, 8699, 7271, 6402, 8456, 8141, 5714, 4946, 8532, 7957, 4245, 7764, 5854, 9382, 6441, 8304, 8328, 8201, 4106, 7688, 4745, 8345, 8090, 7835, 7163, 8909, 7250, 6482, 6996, 9182, 8414, 9950, 6503, 7920, 9968, 7931, 9408, 7646, 8155, 8999, 9863, 7847, 6122, 9489, 7483, 8725, 3477, 9302, 9562, 7739, 8029, 5086, 7360, 8226, 5957, 8231, 7433, 7081, 5354, 4878, 4078, 4208, 9138, 6963, 9554, 4405, 6299, 7261, 4318, 7743, 9095, 9224, 3977, 9236, 8858, 7458, 9894, 4905, 7983, 1713, 7602, 8507, 8778, 6866, 8277, 4960, 9314, 5858, 5222, 7296, 4870, 6423, 9885, 9768, 4137, 6697, 5943, 8503, 8251, 8128]\n",
      "Gender [984, 8706, 9474, 8898, 1285, 970, 8522, 9107, 7963, 9632, 1313, 993, 9959, 4840, 9386, 9515, 7852, 8685, 9649, 7924, 1781, 7816, 4620, 8731, 5280, 1441, 7469, 8113, 8881, 9017, 8130, 9290, 1099, 8142, 6863, 8788, 9946, 8290, 8426, 8304, 2032, 1013, 9596, 8958, 9215, 7168, 7938, 9095, 8588, 8972, 7697, 9749, 3998, 9002, 8620, 8636, 3901, 3274, 1613, 7894, 1881, 8028, 8156, 8796, 9058, 9061, 7406, 9840, 1264, 7156, 8692, 8442, 7549, 9983, 9863, 6025, 6924, 8465, 9374, 927, 6560, 1833, 7345, 9779, 8883, 1589, 2428, 9145, 9409, 1738, 7243, 9294, 9178, 1116, 7260, 9564, 9826, 9444, 9829, 8558]\n",
      "Case [9488, 5769, 7898, 2305, 5124, 7693, 9103, 6674, 7584, 4128, 4896, 8612, 9767, 8489, 7721, 8376, 8510, 1855, 6212, 9797, 9670, 7882, 4693, 8666, 3420, 8288, 4960, 8692, 7924, 8438, 8439, 9210, 7425, 8326, 4368, 9873, 7959, 4122, 6435, 7844, 8233, 4790, 4920, 5688, 7993, 5177, 1086, 3904, 1345, 9029, 8650, 7114, 5841, 8790, 8155, 9696, 7520, 5728, 6240, 9059, 9062, 6502, 8552, 5734, 9192, 7016, 7926, 5628, 9095, 8335, 7442, 1685, 5398, 7063, 4890, 6684, 157, 6046, 6432, 6948, 9637, 8488, 1074, 1587, 5687, 7608, 7109, 3782, 4298, 5066, 3791, 8403, 6998, 4054, 2007, 8025, 8410, 8664, 7130, 1250]\n",
      "NumType [8073, 9594, 6923, 7538, 8832, 2821, 8841, 6155, 8459, 8460, 7692, 6190, 5422, 5045, 3127, 8634, 7227, 4670, 8768, 5696, 9156, 7112, 7880, 9548, 6358, 8406, 2136, 8665, 6498, 5995, 8299, 5227, 6254, 7034, 5382, 8456, 7691, 3087, 917, 9622, 3480, 2712, 4256, 6951, 8366, 7088, 6195, 5813, 6838, 8122, 8252, 1730, 7491, 8388, 5701, 7878, 7109, 8648, 8137, 8135, 2002, 5590, 7894, 2904, 9433, 4985, 7395, 8296, 7407, 7922, 9844, 8441, 6010, 8955, 5502, 9600, 6528, 7697, 7327, 8479, 2081, 7719, 4904, 8619, 4654, 5300, 9141, 1591, 7995, 3271, 8903, 8777, 8272, 5969, 7674, 8662, 7126, 3672, 8538, 7002]\n",
      "Definite [970, 3200, 7127, 3288, 4188, 9950, 9182, 1438, 6306, 3623, 5096, 4135, 4279, 7800, 5114, 7036, 8291, 6661, 8905, 8620, 6156, 5262, 4560, 7667, 1110, 3511, 5080, 8666, 4891, 5724, 3393, 1602, 3363, 8770, 4711, 7015, 4649, 5962, 8875, 2794, 3533, 5328, 8435, 3420, 7452, 5119, 2821, 7175, 8841, 1184, 8609, 6049, 5159, 2855, 3881, 7852, 1966, 5558, 4790, 7361, 8658, 5331, 9692, 3947, 4337, 7032, 1535, 4736, 7938, 5253, 8213, 4770, 7074, 4391, 4269, 8623, 6963, 9793, 9025, 5960, 3402, 4306, 6357, 8539, 1501, 2026, 1397, 892, 4350, 6272, 7040, 1795, 3598, 7321, 9627, 7579, 9130, 2235, 9797, 1097]\n",
      "Degree [9432, 3204, 9700, 3972, 8965, 8326, 5262, 1297, 9364, 8724, 6552, 9244, 6941, 8480, 6306, 9395, 5685, 4917, 9916, 7870, 6338, 9801, 8146, 6227, 6995, 4182, 4950, 9561, 993, 8932, 4206, 9327, 8308, 5127, 8968, 3593, 6279, 7431, 9736, 7696, 8596, 7444, 9622, 8344, 8732, 7712, 9770, 9259, 1079, 9913, 7866, 8638, 4802, 6724, 9926, 5446, 4939, 8784, 5969, 6232, 6362, 7400, 8809, 8810, 6890, 9193, 9961, 8814, 3571, 7540, 8959, 8322, 9094, 4745, 4618, 8082, 7188, 7828, 7320, 2713, 9496, 8222, 4639, 7711, 3745, 4513, 6440, 8745, 9513, 8491, 9264, 8886, 7606, 8634, 4161, 6219, 8914, 5079, 7548, 4316]\n"
     ]
    }
   ],
   "source": [
    "for k, v in ordered_neurons.items():\n",
    "    print(k, v[:100])"
   ]
  },
  {
   "cell_type": "code",
   "execution_count": null,
   "id": "cc30a2e2",
   "metadata": {},
   "outputs": [],
   "source": []
  },
  {
   "cell_type": "code",
   "execution_count": null,
   "id": "7519bc95",
   "metadata": {},
   "outputs": [],
   "source": []
  }
 ],
 "metadata": {
  "kernelspec": {
   "display_name": "Python 3 (ipykernel)",
   "language": "python",
   "name": "python3"
  },
  "language_info": {
   "codemirror_mode": {
    "name": "ipython",
    "version": 3
   },
   "file_extension": ".py",
   "mimetype": "text/x-python",
   "name": "python",
   "nbconvert_exporter": "python",
   "pygments_lexer": "ipython3",
   "version": "3.9.13"
  }
 },
 "nbformat": 4,
 "nbformat_minor": 5
}
