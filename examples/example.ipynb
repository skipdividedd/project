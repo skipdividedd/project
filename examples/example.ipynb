{
 "cells": [
  {
   "cell_type": "code",
   "execution_count": 1,
   "id": "fc0a08f7",
   "metadata": {},
   "outputs": [],
   "source": [
    "#!pip install neurox\n",
    "#!pip install torch"
   ]
  },
  {
   "cell_type": "code",
   "execution_count": 2,
   "id": "313e755e",
   "metadata": {},
   "outputs": [],
   "source": [
    "import os\n",
    "import sys\n",
    "import numpy as np\n",
    "import pandas as pd\n",
    "from pathlib import Path\n",
    "import seaborn as sns\n",
    "import matplotlib.pyplot as plt\n",
    "from IPython.display import clear_output"
   ]
  },
  {
   "cell_type": "code",
   "execution_count": 3,
   "id": "ec24ad6d",
   "metadata": {},
   "outputs": [],
   "source": [
    "sys.path.append('../src')\n",
    "from data_classes import get_file_names, ConvertSample, GetEmbeddings\n",
    "from probing_classes import get_converted_filenames, Experiment, Trainer"
   ]
  },
  {
   "cell_type": "markdown",
   "id": "f46be841",
   "metadata": {},
   "source": [
    "## Что это за проект\n",
    "\n",
    "#### По сути -- это конвейер, который использует методы библиотеки NeuroX для пробинга по нейронам и слоям\n",
    "\n",
    "1. Сначала вы должны использовать AIRI Probing framework (https://github.com/AIRI-Institute/Probing_framework), то есть подать туда conllu файлы, затем положить полученные .csv файлы в папку проекта (f'project/data/data_{language}_{dataset}')\n",
    "2. Ниже приведен код, который для всех файлов создает balanced-выборку для трейна и теста, получает эмбеддинги для предложений. Вы можете получить true данные, а также данные для Control Task с перепутанными лейблами грамматических категорий.\n",
    "3. Затем вы должны создать экземляр класса Trainer. Вы должны создавать новый экземляр каждый раз, когда меняете данные, которые туда подаете, а также флаг ablation (для зануления части нейронов).\n",
    "4. Что умеет делать Trainer (его методы):\n",
    "\n",
    "    Он умеет работать с одной и многими грамматическими категориями.\n",
    "* train_classification() -- обычная пробинг-классификация (log reg). Scores лежат в аттрибуте scores (сохраните в отдельную переменную)\n",
    "* train_classification(n=5, goal='ranking') -- записывает в словарь ранжированные нейроны. Если n=5, запишет для каждой категории по 5 top-нейронов. Они лежат в аттрибуте ordered_neurons.\n",
    "* train_classification(n=5, goal='keep_ablation') -- пробинг на топ-n нейронах. Scores лежат в аттрибуте ablation_scores (сохраните в отдельную переменную)\n",
    "* train_classification(i=9884, goal='remove_ablation') -- пробинг на bottom-n нейронах. Удаляет i нейронов. Scores лежат в аттрибуте ablation_scores (сохраните в отдельную переменную)\n",
    "* train_layers -- учится на всех слоях по очереди. Scores лежат в аттрибуте scores (сохраните в отдельную переменную)"
   ]
  },
  {
   "cell_type": "markdown",
   "id": "e9feae11",
   "metadata": {},
   "source": [
    "Данные для пробинга + Control Task -- лейблы перемешаны"
   ]
  },
  {
   "cell_type": "code",
   "execution_count": 4,
   "id": "3e1cefcc",
   "metadata": {},
   "outputs": [],
   "source": [
    "data_path = f'{str(Path(os.getcwd()).parents[0])}/data/data_en_gum' #тут пишется руками dataset name (где лежат .csv файлы)"
   ]
  },
  {
   "cell_type": "code",
   "execution_count": 5,
   "id": "55438302",
   "metadata": {},
   "outputs": [],
   "source": [
    "for file in sorted(get_file_names(data_path)): \n",
    "    \n",
    "    splitter = ConvertSample(file, train_size=1500, test_size=500)\n",
    "    \n",
    "    #получаем трейн и тест выборку\n",
    "    path_trdata, path_trlabel, path_ctrdata, path_ctrlabel, path_tedata, path_telabel = splitter.writer()\n",
    "    \n",
    "    #получаем эмбеддинги (долго)\n",
    "    data = GetEmbeddings(path_trdata, path_tedata)\n",
    "    data.jsons('bert-base-uncased') # можно выбрать другой трансформер из HF\n",
    "    clear_output(wait=False)"
   ]
  },
  {
   "cell_type": "code",
   "execution_count": 6,
   "id": "d9373ca4",
   "metadata": {},
   "outputs": [],
   "source": [
    "large_data_path = f'{str(Path(os.getcwd()).parents[0])}/data/large_data_en_gum' #тут пишется руками dataset name \n",
    "true_paths, control_paths  = get_converted_filenames(large_data_path)"
   ]
  },
  {
   "cell_type": "code",
   "execution_count": 7,
   "id": "6ac99b01",
   "metadata": {},
   "outputs": [
    {
     "name": "stdout",
     "output_type": "stream",
     "text": [
      "Вот столько у нас категорий для датасета en_gum: 12\n"
     ]
    }
   ],
   "source": [
    "print(f'Вот столько у нас категорий для датасета en_gum: {len(true_paths)}')"
   ]
  },
  {
   "cell_type": "code",
   "execution_count": 8,
   "id": "562246ce",
   "metadata": {},
   "outputs": [
    {
     "data": {
      "text/plain": [
       "['/home/senya/Документы/project/data/large_data_en_gum/data_Number/datatrain_Number.txt',\n",
       " '/home/senya/Документы/project/data/large_data_en_gum/data_Number/labeltrain_Number.txt',\n",
       " '/home/senya/Документы/project/data/large_data_en_gum/data_Number/datatest_Number.txt',\n",
       " '/home/senya/Документы/project/data/large_data_en_gum/data_Number/labeltest_Number.txt']"
      ]
     },
     "execution_count": 8,
     "metadata": {},
     "output_type": "execute_result"
    }
   ],
   "source": [
    "true_paths[0]"
   ]
  },
  {
   "cell_type": "code",
   "execution_count": 9,
   "id": "ddcc766b",
   "metadata": {},
   "outputs": [
    {
     "data": {
      "text/plain": [
       "['/home/senya/Документы/project/data/large_data_en_gum/data_Number/cdatatrain_Number.txt',\n",
       " '/home/senya/Документы/project/data/large_data_en_gum/data_Number/clabeltrain_Number.txt',\n",
       " '/home/senya/Документы/project/data/large_data_en_gum/data_Number/datatest_Number.txt',\n",
       " '/home/senya/Документы/project/data/large_data_en_gum/data_Number/labeltest_Number.txt']"
      ]
     },
     "execution_count": 9,
     "metadata": {},
     "output_type": "execute_result"
    }
   ],
   "source": [
    "control_paths[0]"
   ]
  },
  {
   "cell_type": "markdown",
   "id": "448dd7cf",
   "metadata": {},
   "source": [
    "### Создаем экземпляр класса для одной категории и вызываем методы"
   ]
  },
  {
   "cell_type": "code",
   "execution_count": 10,
   "id": "2880833e",
   "metadata": {},
   "outputs": [
    {
     "name": "stdout",
     "output_type": "stream",
     "text": [
      "Loading json activations from /home/senya/Документы/project/data/large_data_en_gum/data_Number/activations_train.json...\n",
      "1500 13.0\n",
      "Loading json activations from /home/senya/Документы/project/data/large_data_en_gum/data_Number/activations_te.json...\n",
      "500 13.0\n",
      "Number of tokens:  1500\n",
      "length of source dictionary:  5756\n",
      "length of target dictionary:  2\n",
      "1500\n",
      "Total instances: 1500\n",
      "['Agents', 'Doctor', 'Numbered', 'Very', 'Extracts', 'Betty', 'Ideally', 'Thank', 'Listing', 'Nice', 'Air', 'Unfortunately', 'Vagabond', 'Beaters', 'Smack', 'Hold', 'Infected', 'Braised', 'Keep', '\"And']\n",
      "Number of samples:  1500\n",
      "Stats: Labels with their frequencies in the final set\n",
      "Plur 750\n",
      "Sing 750\n",
      "Number of tokens:  500\n",
      "length of source dictionary:  2550\n",
      "length of target dictionary:  2\n",
      "500\n",
      "Total instances: 500\n",
      "['Things', 'sexual', 'I', 'psychologists', 'if', 'There', 'Just', '\"Among', 'Compared', 'Most', 'Move', 'White', 'As', 'Too', 'Voters', 'Other', 'Anyways', 'Yep', 'Norton', 'height']\n",
      "Number of samples:  500\n",
      "Stats: Labels with their frequencies in the final set\n",
      "Plur 250\n",
      "Sing 250\n",
      "Training classification probe\n",
      "Creating model...\n",
      "Number of training instances: 1500\n",
      "Number of classes: 2\n"
     ]
    },
    {
     "data": {
      "application/json": {
       "ascii": false,
       "bar_format": null,
       "colour": null,
       "elapsed": 0.008733749389648438,
       "initial": 0,
       "n": 0,
       "ncols": null,
       "nrows": 24,
       "postfix": null,
       "prefix": "epoch [1/10]",
       "rate": null,
       "total": null,
       "unit": "it",
       "unit_divisor": 1000,
       "unit_scale": false
      },
      "application/vnd.jupyter.widget-view+json": {
       "model_id": "59868dcaf6c842b087618d5270e4bb08",
       "version_major": 2,
       "version_minor": 0
      },
      "text/plain": [
       "epoch [1/10]: 0it [00:00, ?it/s]"
      ]
     },
     "metadata": {},
     "output_type": "display_data"
    },
    {
     "name": "stdout",
     "output_type": "stream",
     "text": [
      "Epoch: [1/10], Loss: 0.0263\n"
     ]
    },
    {
     "data": {
      "application/json": {
       "ascii": false,
       "bar_format": null,
       "colour": null,
       "elapsed": 0.009120702743530273,
       "initial": 0,
       "n": 0,
       "ncols": null,
       "nrows": 24,
       "postfix": null,
       "prefix": "epoch [2/10]",
       "rate": null,
       "total": null,
       "unit": "it",
       "unit_divisor": 1000,
       "unit_scale": false
      },
      "application/vnd.jupyter.widget-view+json": {
       "model_id": "31f25027cbb34cce803b8d83c85e214e",
       "version_major": 2,
       "version_minor": 0
      },
      "text/plain": [
       "epoch [2/10]: 0it [00:00, ?it/s]"
      ]
     },
     "metadata": {},
     "output_type": "display_data"
    },
    {
     "name": "stdout",
     "output_type": "stream",
     "text": [
      "Epoch: [2/10], Loss: 0.0135\n"
     ]
    },
    {
     "data": {
      "application/json": {
       "ascii": false,
       "bar_format": null,
       "colour": null,
       "elapsed": 0.009204626083374023,
       "initial": 0,
       "n": 0,
       "ncols": null,
       "nrows": 24,
       "postfix": null,
       "prefix": "epoch [3/10]",
       "rate": null,
       "total": null,
       "unit": "it",
       "unit_divisor": 1000,
       "unit_scale": false
      },
      "application/vnd.jupyter.widget-view+json": {
       "model_id": "972b81f0d163480e9fb52080c48a42bc",
       "version_major": 2,
       "version_minor": 0
      },
      "text/plain": [
       "epoch [3/10]: 0it [00:00, ?it/s]"
      ]
     },
     "metadata": {},
     "output_type": "display_data"
    },
    {
     "name": "stdout",
     "output_type": "stream",
     "text": [
      "Epoch: [3/10], Loss: 0.0109\n"
     ]
    },
    {
     "data": {
      "application/json": {
       "ascii": false,
       "bar_format": null,
       "colour": null,
       "elapsed": 0.009009122848510742,
       "initial": 0,
       "n": 0,
       "ncols": null,
       "nrows": 24,
       "postfix": null,
       "prefix": "epoch [4/10]",
       "rate": null,
       "total": null,
       "unit": "it",
       "unit_divisor": 1000,
       "unit_scale": false
      },
      "application/vnd.jupyter.widget-view+json": {
       "model_id": "1348b1b9e2044d518c27f727b372a64f",
       "version_major": 2,
       "version_minor": 0
      },
      "text/plain": [
       "epoch [4/10]: 0it [00:00, ?it/s]"
      ]
     },
     "metadata": {},
     "output_type": "display_data"
    },
    {
     "name": "stdout",
     "output_type": "stream",
     "text": [
      "Epoch: [4/10], Loss: 0.0098\n"
     ]
    },
    {
     "data": {
      "application/json": {
       "ascii": false,
       "bar_format": null,
       "colour": null,
       "elapsed": 0.008865118026733398,
       "initial": 0,
       "n": 0,
       "ncols": null,
       "nrows": 24,
       "postfix": null,
       "prefix": "epoch [5/10]",
       "rate": null,
       "total": null,
       "unit": "it",
       "unit_divisor": 1000,
       "unit_scale": false
      },
      "application/vnd.jupyter.widget-view+json": {
       "model_id": "452916451474451ea6f38d11cf7c6ae7",
       "version_major": 2,
       "version_minor": 0
      },
      "text/plain": [
       "epoch [5/10]: 0it [00:00, ?it/s]"
      ]
     },
     "metadata": {},
     "output_type": "display_data"
    },
    {
     "name": "stdout",
     "output_type": "stream",
     "text": [
      "Epoch: [5/10], Loss: 0.0091\n"
     ]
    },
    {
     "data": {
      "application/json": {
       "ascii": false,
       "bar_format": null,
       "colour": null,
       "elapsed": 0.008837223052978516,
       "initial": 0,
       "n": 0,
       "ncols": null,
       "nrows": 24,
       "postfix": null,
       "prefix": "epoch [6/10]",
       "rate": null,
       "total": null,
       "unit": "it",
       "unit_divisor": 1000,
       "unit_scale": false
      },
      "application/vnd.jupyter.widget-view+json": {
       "model_id": "08b79aec5ff240c2a7f02758bf35a0a4",
       "version_major": 2,
       "version_minor": 0
      },
      "text/plain": [
       "epoch [6/10]: 0it [00:00, ?it/s]"
      ]
     },
     "metadata": {},
     "output_type": "display_data"
    },
    {
     "name": "stdout",
     "output_type": "stream",
     "text": [
      "Epoch: [6/10], Loss: 0.0087\n"
     ]
    },
    {
     "data": {
      "application/json": {
       "ascii": false,
       "bar_format": null,
       "colour": null,
       "elapsed": 0.009105205535888672,
       "initial": 0,
       "n": 0,
       "ncols": null,
       "nrows": 24,
       "postfix": null,
       "prefix": "epoch [7/10]",
       "rate": null,
       "total": null,
       "unit": "it",
       "unit_divisor": 1000,
       "unit_scale": false
      },
      "application/vnd.jupyter.widget-view+json": {
       "model_id": "e10a9086d7744235a6a6da52ccf0d465",
       "version_major": 2,
       "version_minor": 0
      },
      "text/plain": [
       "epoch [7/10]: 0it [00:00, ?it/s]"
      ]
     },
     "metadata": {},
     "output_type": "display_data"
    },
    {
     "name": "stdout",
     "output_type": "stream",
     "text": [
      "Epoch: [7/10], Loss: 0.0084\n"
     ]
    },
    {
     "data": {
      "application/json": {
       "ascii": false,
       "bar_format": null,
       "colour": null,
       "elapsed": 0.010112285614013672,
       "initial": 0,
       "n": 0,
       "ncols": null,
       "nrows": 24,
       "postfix": null,
       "prefix": "epoch [8/10]",
       "rate": null,
       "total": null,
       "unit": "it",
       "unit_divisor": 1000,
       "unit_scale": false
      },
      "application/vnd.jupyter.widget-view+json": {
       "model_id": "92c2dc026da14b5797705c66b27bc9a2",
       "version_major": 2,
       "version_minor": 0
      },
      "text/plain": [
       "epoch [8/10]: 0it [00:00, ?it/s]"
      ]
     },
     "metadata": {},
     "output_type": "display_data"
    },
    {
     "name": "stdout",
     "output_type": "stream",
     "text": [
      "Epoch: [8/10], Loss: 0.0081\n"
     ]
    },
    {
     "data": {
      "application/json": {
       "ascii": false,
       "bar_format": null,
       "colour": null,
       "elapsed": 0.010201215744018555,
       "initial": 0,
       "n": 0,
       "ncols": null,
       "nrows": 24,
       "postfix": null,
       "prefix": "epoch [9/10]",
       "rate": null,
       "total": null,
       "unit": "it",
       "unit_divisor": 1000,
       "unit_scale": false
      },
      "application/vnd.jupyter.widget-view+json": {
       "model_id": "be2ad6f04c024a47aa29b3950d57efcb",
       "version_major": 2,
       "version_minor": 0
      },
      "text/plain": [
       "epoch [9/10]: 0it [00:00, ?it/s]"
      ]
     },
     "metadata": {},
     "output_type": "display_data"
    },
    {
     "name": "stdout",
     "output_type": "stream",
     "text": [
      "Epoch: [9/10], Loss: 0.0079\n"
     ]
    },
    {
     "data": {
      "application/json": {
       "ascii": false,
       "bar_format": null,
       "colour": null,
       "elapsed": 0.009616851806640625,
       "initial": 0,
       "n": 0,
       "ncols": null,
       "nrows": 24,
       "postfix": null,
       "prefix": "epoch [10/10]",
       "rate": null,
       "total": null,
       "unit": "it",
       "unit_divisor": 1000,
       "unit_scale": false
      },
      "application/vnd.jupyter.widget-view+json": {
       "model_id": "b33f01adb3714f21b41adcf282022f6c",
       "version_major": 2,
       "version_minor": 0
      },
      "text/plain": [
       "epoch [10/10]: 0it [00:00, ?it/s]"
      ]
     },
     "metadata": {},
     "output_type": "display_data"
    },
    {
     "name": "stdout",
     "output_type": "stream",
     "text": [
      "Epoch: [10/10], Loss: 0.0078\n"
     ]
    },
    {
     "data": {
      "application/json": {
       "ascii": false,
       "bar_format": null,
       "colour": null,
       "elapsed": 0.009684562683105469,
       "initial": 0,
       "n": 0,
       "ncols": null,
       "nrows": 24,
       "postfix": null,
       "prefix": "Evaluating",
       "rate": null,
       "total": null,
       "unit": "it",
       "unit_divisor": 1000,
       "unit_scale": false
      },
      "application/vnd.jupyter.widget-view+json": {
       "model_id": "a5ff16adfb4a48a2a41c6726aea1b33a",
       "version_major": 2,
       "version_minor": 0
      },
      "text/plain": [
       "Evaluating: 0it [00:00, ?it/s]"
      ]
     },
     "metadata": {},
     "output_type": "display_data"
    },
    {
     "name": "stdout",
     "output_type": "stream",
     "text": [
      "Score (accuracy) of the probe: 0.97\n"
     ]
    },
    {
     "data": {
      "application/json": {
       "ascii": false,
       "bar_format": null,
       "colour": null,
       "elapsed": 0.010432004928588867,
       "initial": 0,
       "n": 0,
       "ncols": null,
       "nrows": 24,
       "postfix": null,
       "prefix": "Evaluating",
       "rate": null,
       "total": null,
       "unit": "it",
       "unit_divisor": 1000,
       "unit_scale": false
      },
      "application/vnd.jupyter.widget-view+json": {
       "model_id": "8ddd1cd2097e4699a804b458728c72e4",
       "version_major": 2,
       "version_minor": 0
      },
      "text/plain": [
       "Evaluating: 0it [00:00, ?it/s]"
      ]
     },
     "metadata": {},
     "output_type": "display_data"
    },
    {
     "name": "stdout",
     "output_type": "stream",
     "text": [
      "Score (accuracy) of the probe: 0.80\n",
      "train_classification took 43.0523 secs\n"
     ]
    }
   ],
   "source": [
    "train_one = Trainer(true_paths[0])\n",
    "train_one.train_classification()"
   ]
  },
  {
   "cell_type": "code",
   "execution_count": 11,
   "id": "1c467104",
   "metadata": {},
   "outputs": [],
   "source": [
    "scores = train_one.scores.copy()"
   ]
  },
  {
   "cell_type": "code",
   "execution_count": 12,
   "id": "8bcc571a",
   "metadata": {},
   "outputs": [
    {
     "data": {
      "text/plain": [
       "{'Number': [{'__OVERALL__': 0.9733333333333334,\n",
       "   'Plur': 0.9906666666666667,\n",
       "   'Sing': 0.956},\n",
       "  {'__OVERALL__': 0.796, 'Plur': 0.868, 'Sing': 0.724}]}"
      ]
     },
     "execution_count": 12,
     "metadata": {},
     "output_type": "execute_result"
    }
   ],
   "source": [
    "scores"
   ]
  },
  {
   "cell_type": "code",
   "execution_count": 13,
   "id": "4e5ceddf",
   "metadata": {},
   "outputs": [],
   "source": [
    "train_one.train_classification(n=5, goal='ranking') \n",
    "ordered_neurons = train_one.ordered_neurons.copy()\n",
    "clear_output(wait=False)"
   ]
  },
  {
   "cell_type": "code",
   "execution_count": 14,
   "id": "b3942298",
   "metadata": {},
   "outputs": [
    {
     "data": {
      "text/plain": [
       "{'Number': [9699, 9124, 7932, 3367, 4135]}"
      ]
     },
     "execution_count": 14,
     "metadata": {},
     "output_type": "execute_result"
    }
   ],
   "source": [
    "ordered_neurons"
   ]
  },
  {
   "cell_type": "markdown",
   "id": "34aa9c7e",
   "metadata": {},
   "source": [
    "### Пробинг на 5-ом (6 слое) "
   ]
  },
  {
   "cell_type": "code",
   "execution_count": 15,
   "id": "83a6737f",
   "metadata": {},
   "outputs": [],
   "source": [
    "train_one.train_layers(n=5)\n",
    "scores_layer = train_one.scores.copy()\n",
    "clear_output(wait=False)"
   ]
  },
  {
   "cell_type": "code",
   "execution_count": 16,
   "id": "cd91209b",
   "metadata": {},
   "outputs": [
    {
     "data": {
      "text/plain": [
       "{('Number',\n",
       "  5): [{'__OVERALL__': 0.8886666666666667,\n",
       "   'Plur': 0.8933333333333333,\n",
       "   'Sing': 0.884}, {'__OVERALL__': 0.81, 'Plur': 0.86, 'Sing': 0.76}]}"
      ]
     },
     "execution_count": 16,
     "metadata": {},
     "output_type": "execute_result"
    }
   ],
   "source": [
    "scores_layer"
   ]
  },
  {
   "cell_type": "markdown",
   "id": "c1059873",
   "metadata": {},
   "source": [
    "### Пробинг от 0 до 5 слоя"
   ]
  },
  {
   "cell_type": "code",
   "execution_count": 17,
   "id": "bacd641a",
   "metadata": {},
   "outputs": [],
   "source": [
    "train_one.train_layers(lrange=6)\n",
    "scores_layers = train_one.scores.copy()\n",
    "clear_output(wait=False)"
   ]
  },
  {
   "cell_type": "code",
   "execution_count": 18,
   "id": "8d858c2c",
   "metadata": {},
   "outputs": [],
   "source": [
    "def plot_layerwise(d):\n",
    "    layers = [k[1] for k in d.keys()]\n",
    "    accuracy_train=[round(v[0]['__OVERALL__'], 2) for k, v in d.items()]\n",
    "    accuracy_test = [round(v[1]['__OVERALL__'], 2) for k, v in d.items()]\n",
    "    index = layers\n",
    "    df = pd.DataFrame({'train_acc': accuracy_train,\n",
    "                        'test_acc': accuracy_test}, index=index)\n",
    "    ax = df.plot.bar(rot=0, color={\"train_acc\": \"green\", \"test_acc\": \"red\"})"
   ]
  },
  {
   "cell_type": "code",
   "execution_count": 19,
   "id": "5d49c7a3",
   "metadata": {},
   "outputs": [
    {
     "data": {
      "image/png": "[encoded data removed]",
      "text/plain": [
       "<Figure size 640x480 with 1 Axes>"
      ]
     },
     "metadata": {},
     "output_type": "display_data"
    }
   ],
   "source": [
    "plot_layerwise(scores_layers)"
   ]
  },
  {
   "cell_type": "markdown",
   "id": "125fa26f",
   "metadata": {},
   "source": [
    "### Создаем экземпляр класса для одной категории и подаем данные для contol task"
   ]
  },
  {
   "cell_type": "code",
   "execution_count": 20,
   "id": "df425161",
   "metadata": {},
   "outputs": [],
   "source": [
    "train_control = Trainer(control_paths[0]) \n",
    "train_control.train_classification()\n",
    "clear_output(wait=False)"
   ]
  },
  {
   "cell_type": "code",
   "execution_count": 21,
   "id": "f0805e9f",
   "metadata": {},
   "outputs": [],
   "source": [
    "control_scores = train_control.scores.copy()"
   ]
  },
  {
   "cell_type": "code",
   "execution_count": 22,
   "id": "4324940b",
   "metadata": {},
   "outputs": [],
   "source": [
    "def bad_scores(scores):\n",
    "    m = []\n",
    "    for k, v in scores.items():\n",
    "        m.append(v[1]['__OVERALL__'])\n",
    "    return np.array(m)"
   ]
  },
  {
   "cell_type": "code",
   "execution_count": 23,
   "id": "de2256da",
   "metadata": {},
   "outputs": [
    {
     "name": "stdout",
     "output_type": "stream",
     "text": [
      "Selectivity (Diff. between true task and control task performance):  [0.29]\n"
     ]
    }
   ],
   "source": [
    "selectivity = bad_scores(scores) - bad_scores(control_scores)\n",
    "print('Selectivity (Diff. between true task and control task performance): ', selectivity)"
   ]
  },
  {
   "cell_type": "markdown",
   "id": "acc32b89",
   "metadata": {},
   "source": [
    "### Создаем экземпляр класса для многих категорий"
   ]
  },
  {
   "cell_type": "markdown",
   "id": "28c23047",
   "metadata": {},
   "source": [
    "### Пробинг на true данных"
   ]
  },
  {
   "cell_type": "code",
   "execution_count": 24,
   "id": "6b64e597",
   "metadata": {},
   "outputs": [],
   "source": [
    "train_all = Trainer(true_paths[1:6])\n",
    "train_all.train_classification()\n",
    "all_scores = train_all.scores.copy()\n",
    "clear_output(wait=False)"
   ]
  },
  {
   "cell_type": "code",
   "execution_count": 25,
   "id": "51bb51d1",
   "metadata": {},
   "outputs": [],
   "source": [
    "def accuracy_plot(dct_acc):\n",
    "    cats=[k for k in dct_acc.keys()]\n",
    "    accuracy_train=[round(v[0]['__OVERALL__'], 2) for k, v in dct_acc.items()]\n",
    "    accuracy_test = [round(v[1]['__OVERALL__'], 2) for k, v in dct_acc.items()]\n",
    "    index = cats\n",
    "    df = pd.DataFrame({'train_acc': accuracy_train,\n",
    "                        'test_acc': accuracy_test}, index=index)\n",
    "    ax = df.plot.bar(rot=0, color={\"train_acc\": \"green\", \"test_acc\": \"red\"})"
   ]
  },
  {
   "cell_type": "code",
   "execution_count": 26,
   "id": "5bc4480a",
   "metadata": {},
   "outputs": [
    {
     "data": {
      "image/png": "[encoded data removed]",
      "text/plain": [
       "<Figure size 640x480 with 1 Axes>"
      ]
     },
     "metadata": {},
     "output_type": "display_data"
    }
   ],
   "source": [
    "accuracy_plot(all_scores)"
   ]
  },
  {
   "cell_type": "markdown",
   "id": "6886c6ce",
   "metadata": {},
   "source": [
    "### Пробинг на control task данных"
   ]
  },
  {
   "cell_type": "code",
   "execution_count": 27,
   "id": "f26a6fbf",
   "metadata": {},
   "outputs": [],
   "source": [
    "train_all_control = Trainer(control_paths[1:6])\n",
    "train_all_control.train_classification()\n",
    "all_scores_control = train_all_control.scores.copy()\n",
    "clear_output(wait=False)"
   ]
  },
  {
   "cell_type": "code",
   "execution_count": 28,
   "id": "0d08806e",
   "metadata": {},
   "outputs": [
    {
     "data": {
      "image/png": "[encoded data removed]",
      "text/plain": [
       "<Figure size 640x480 with 1 Axes>"
      ]
     },
     "metadata": {},
     "output_type": "display_data"
    }
   ],
   "source": [
    "accuracy_plot(all_scores_control)"
   ]
  },
  {
   "cell_type": "code",
   "execution_count": 29,
   "id": "2c97b637",
   "metadata": {},
   "outputs": [
    {
     "name": "stdout",
     "output_type": "stream",
     "text": [
      "Selectivity (Diff. between true task and control task performance):  [0.3        0.33497537 0.26366559 0.56487026 0.5942029 ]\n"
     ]
    }
   ],
   "source": [
    "selectivity = bad_scores(all_scores) - bad_scores(all_scores_control)\n",
    "print('Selectivity (Diff. between true task and control task performance): ', selectivity)"
   ]
  },
  {
   "cell_type": "markdown",
   "id": "4a2a1ca9",
   "metadata": {},
   "source": [
    "### Создаем экземпляр класса и меняем флаг ablation"
   ]
  },
  {
   "cell_type": "markdown",
   "id": "8f707cb9",
   "metadata": {},
   "source": [
    "### Оставляем топ-n нейронов (100 по умолчанию)"
   ]
  },
  {
   "cell_type": "code",
   "execution_count": 30,
   "id": "b663e909",
   "metadata": {},
   "outputs": [],
   "source": [
    "train_ablation = Trainer(true_paths[6:11], ablation=True)\n",
    "train_ablation.train_classification(n=200, goal='keep_ablation') #оставим топ-200 нейронов\n",
    "clear_output(wait=False)"
   ]
  },
  {
   "cell_type": "code",
   "execution_count": 31,
   "id": "b4e8e4f5",
   "metadata": {},
   "outputs": [],
   "source": [
    "scores_before = train_ablation.scores.copy() #accuracy до зануления нейронов"
   ]
  },
  {
   "cell_type": "code",
   "execution_count": 32,
   "id": "21699883",
   "metadata": {},
   "outputs": [],
   "source": [
    "keep_scores = train_ablation.ablation_top_scores.copy() #accuracy на топ-n нейронах\n",
    "keep_neurons = train_ablation.ordered_neurons.copy()"
   ]
  },
  {
   "cell_type": "code",
   "execution_count": 33,
   "id": "a046c098",
   "metadata": {},
   "outputs": [
    {
     "name": "stdout",
     "output_type": "stream",
     "text": [
      "200\n"
     ]
    }
   ],
   "source": [
    "print(len(keep_neurons['Mood'])) # проверим что их было по 200, как мы поставили"
   ]
  },
  {
   "cell_type": "code",
   "execution_count": 34,
   "id": "9b564177",
   "metadata": {},
   "outputs": [
    {
     "data": {
      "text/plain": [
       "[8957, 7693, 8896, 8999, 8461]"
      ]
     },
     "execution_count": 34,
     "metadata": {},
     "output_type": "execute_result"
    }
   ],
   "source": [
    "keep_neurons['Mood'][:5]"
   ]
  },
  {
   "cell_type": "markdown",
   "id": "fc27d389",
   "metadata": {},
   "source": [
    "### Оставляем bottom-n нейронов (100 по умолчанию)"
   ]
  },
  {
   "cell_type": "code",
   "execution_count": 35,
   "id": "6e6d78ea",
   "metadata": {},
   "outputs": [],
   "source": [
    "train_ablation.train_classification(i=9774, goal='remove_ablation')\n",
    "clear_output(wait=False)"
   ]
  },
  {
   "cell_type": "code",
   "execution_count": 36,
   "id": "1d182902",
   "metadata": {},
   "outputs": [],
   "source": [
    "remove_scores = train_ablation.ablation_bottom_scores.copy()\n",
    "remove_neurons_except = train_ablation.ordered_neurons.copy()"
   ]
  },
  {
   "cell_type": "code",
   "execution_count": 37,
   "id": "3b45ed27",
   "metadata": {},
   "outputs": [
    {
     "name": "stdout",
     "output_type": "stream",
     "text": [
      "210\n"
     ]
    }
   ],
   "source": [
    "print(len(remove_neurons_except['Mood']))"
   ]
  },
  {
   "cell_type": "code",
   "execution_count": 38,
   "id": "58ceafe2",
   "metadata": {},
   "outputs": [
    {
     "data": {
      "text/plain": [
       "[6726, 6734, 6735, 6738, 6744]"
      ]
     },
     "execution_count": 38,
     "metadata": {},
     "output_type": "execute_result"
    }
   ],
   "source": [
    "remove_neurons_except['Mood'][:5]"
   ]
  },
  {
   "cell_type": "markdown",
   "id": "6c7173d2",
   "metadata": {},
   "source": [
    "### Графики"
   ]
  },
  {
   "cell_type": "code",
   "execution_count": 39,
   "id": "ae4f9386",
   "metadata": {},
   "outputs": [
    {
     "data": {
      "image/png": "[encoded data removed]",
      "text/plain": [
       "<Figure size 640x480 with 1 Axes>"
      ]
     },
     "metadata": {},
     "output_type": "display_data"
    }
   ],
   "source": [
    "accuracy_plot(scores_before) # до зануления"
   ]
  },
  {
   "cell_type": "code",
   "execution_count": 40,
   "id": "39cd6883",
   "metadata": {},
   "outputs": [
    {
     "data": {
      "image/png": "[encoded data removed]",
      "text/plain": [
       "<Figure size 640x480 with 1 Axes>"
      ]
     },
     "metadata": {},
     "output_type": "display_data"
    }
   ],
   "source": [
    "accuracy_plot(keep_scores) # на топ-200 нейронах"
   ]
  },
  {
   "cell_type": "code",
   "execution_count": 41,
   "id": "24d6c623",
   "metadata": {},
   "outputs": [
    {
     "data": {
      "image/png": "[encoded data removed]",
      "text/plain": [
       "<Figure size 640x480 with 1 Axes>"
      ]
     },
     "metadata": {},
     "output_type": "display_data"
    }
   ],
   "source": [
    "accuracy_plot(remove_scores) # на bottom-200 нейронах"
   ]
  }
 ],
 "metadata": {
  "kernelspec": {
   "display_name": "Python 3 (ipykernel)",
   "language": "python",
   "name": "python3"
  },
  "language_info": {
   "codemirror_mode": {
    "name": "ipython",
    "version": 3
   },
   "file_extension": ".py",
   "mimetype": "text/x-python",
   "name": "python",
   "nbconvert_exporter": "python",
   "pygments_lexer": "ipython3",
   "version": "3.9.13"
  }
 },
 "nbformat": 4,
 "nbformat_minor": 5
}
